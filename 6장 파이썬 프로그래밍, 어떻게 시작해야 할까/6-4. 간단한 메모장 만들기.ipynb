{
 "cells": [
  {
   "attachments": {},
   "cell_type": "markdown",
   "metadata": {},
   "source": [
    "Jump to python\n",
    "=="
   ]
  },
  {
   "attachments": {},
   "cell_type": "markdown",
   "metadata": {},
   "source": [
    "간단한 메모장 만들기\n",
    "--"
   ]
  },
  {
   "attachments": {},
   "cell_type": "markdown",
   "metadata": {},
   "source": [
    "* 원하는 메모를 파일에 저장해 추가 및 조회가 가능한 간단한 메모장 만들기"
   ]
  },
  {
   "attachments": {},
   "cell_type": "markdown",
   "metadata": {},
   "source": [
    "* 생각할 것\n",
    ">  - 필요한 기능? 메모 추가, 메모 조회\n",
    ">  - 입력받는 값? 메모 내용, 프로그램 실행 옵션\n",
    ">  - 출력하는 값? memo.txt"
   ]
  },
  {
   "attachments": {},
   "cell_type": "markdown",
   "metadata": {},
   "source": [
    "* 메모 추가하기\n",
    ">  - python memo.py -a \"Life is too short\"\n",
    "\n",
    ">  - memo.py 는 작성할 파이썬 프로그램 이름\n",
    ">  - -a 는 프로그램 실행 옵션\n",
    ">  - \"Life is too short\" 는 추가할 메모 내용"
   ]
  },
  {
   "cell_type": "code",
   "execution_count": 7,
   "metadata": {},
   "outputs": [
    {
     "name": "stdout",
     "output_type": "stream",
     "text": [
      "--ip=127.0.0.1\n",
      "--stdin=9095\n"
     ]
    }
   ],
   "source": [
    "# memo.py\n",
    "\n",
    "import sys\n",
    "\n",
    "option = sys.argv[1]\n",
    "memo = sys.argv[2]\n",
    "\n",
    "print(option)\n",
    "print(memo)\n",
    "\n",
    "# sys.argv 는 프로그램 실행 시, 입력된 값을 읽어 들일 수 있는 파이썬 라이브러리\n",
    "# sys.argv[0] 는 입력받은 값 중 파이썬 프로그램 이름인 memo.py 이므로 현재 만드려고 하는 기능에는 필요 없는 값\n",
    "# 순서대로 sys.argv[1] 는 프로그램 실행 옵션\n",
    "# sys.argv[2] 는 메모 내용\n",
    "\n",
    "# sys.argv\n",
    "# 파이썬으로 작성된 파일을 실행 시, 인수(인자값)을 받아 처리해야 하는 경우\n",
    "# cf. 로컬과 개발 등의 환경이 서로 달라서 인자값을 줘야 한다던지 같은 파일을 다른 목적으로 처리 해야 할 때 인자값 줄 수 있음"
   ]
  },
  {
   "cell_type": "code",
   "execution_count": null,
   "metadata": {},
   "outputs": [],
   "source": [
    "# memo.py 는 /NasData/home/knh/workspace 디렉터리에 저장\n",
    "\n",
    "'''\n",
    "\n",
    "(base) knh@gnode5:~/workspace\\$ python memo.py -a \"Life is too short\"\n",
    "-a\n",
    "Life is too short\n",
    "\n",
    "'''\n",
    "\n",
    "# 입력으로 전달한 옵션과 메모 내용이 그대로 출력됨"
   ]
  },
  {
   "cell_type": "code",
   "execution_count": 9,
   "metadata": {},
   "outputs": [],
   "source": [
    "# 입력으로 받은 메모를 파일에 쓰도록 코드 변경\n",
    "\n",
    "# memo.py\n",
    "\n",
    "import sys\n",
    "\n",
    "option = sys.argv[1]\n",
    "\n",
    "if option == '-a':\n",
    "    memo = sys.argv[2]\n",
    "    f = open('memo.txt', 'a')\n",
    "    f.write(memo)\n",
    "    f.write('\\n')\n",
    "    f.close()\n",
    "\n",
    "# 옵션이 -a인 경우에만 memo 값을 읽어, memo.txt에 그 값을 쓰도록 코드 작성\n",
    "# 메모는 항상 새로운 내용이 작성되는 것이 아님. 한 줄씩 추가되어야 하므로 파일 열기 모드를 a로 설정\n",
    "# 메모 추가할 때마다 다음 줄에 저장되도록 줄바꿈 문자(\\n)도 추가로 파일에 쓰게 함"
   ]
  },
  {
   "cell_type": "code",
   "execution_count": null,
   "metadata": {},
   "outputs": [],
   "source": [
    "'''\n",
    "\n",
    "(base) knh@gnode5:~/workspace\\$ python memo.py -a \"Life is too short\"\n",
    "(base) knh@gnode5:~/workspace\\$ python memo.py -a \"You need python\"\n",
    "\n",
    "'''\n",
    "\n",
    "# 명령 수행 시, memo.txt 생성\n",
    "\n",
    "'''\n",
    "\n",
    "Life is too short\n",
    "You need python\n",
    "\n",
    "'''"
   ]
  },
  {
   "cell_type": "code",
   "execution_count": null,
   "metadata": {},
   "outputs": [],
   "source": [
    "'''\n",
    "\n",
    "C:\\doit>type memo.txt\n",
    "Life is too short\n",
    "You need python\n",
    "\n",
    "type 은 cmd 에서 파일 내용 확인할 수 있는 명령어\n",
    "\n",
    "'''\n",
    "\n",
    "'''\n",
    "\n",
    "(base) knh@gnode5:~/workspace\\$ cat memo.txt\n",
    "Life is too short\n",
    "You need python\n",
    "\n",
    "리눅스에서는 cat 명령어를 통해 파일 내용을 확인 할 수 있음\n",
    "\n",
    "'''"
   ]
  },
  {
   "cell_type": "code",
   "execution_count": 10,
   "metadata": {},
   "outputs": [],
   "source": [
    "# 작성한 메모 출력\n",
    "\n",
    "# 메모 추가는 -a 옵션 사용\n",
    "# 메모 출력은 -v 옵션 사용\n",
    "\n",
    "# memo.py\n",
    "\n",
    "import sys\n",
    "\n",
    "option = sys.argv[1]\n",
    "\n",
    "if option == '-a':\n",
    "    memo = sys.argv[2]\n",
    "    f = open('memo.txt', 'a')\n",
    "    f.write(memo)\n",
    "    f.write('\\n')\n",
    "    f.close()\n",
    "elif option == '-v':\n",
    "    f = open('memo.txt')\n",
    "    memo = f.read()\n",
    "    f.close()\n",
    "    print(memo)\n",
    "\n",
    "# 옵션으로 -v가 들어오면, memo.txt 읽어서 출력"
   ]
  },
  {
   "cell_type": "code",
   "execution_count": null,
   "metadata": {},
   "outputs": [],
   "source": [
    "'''\n",
    "\n",
    "(base) knh@gnode5:~/workspace\\$ python memo.py -v\n",
    "Life is too short\n",
    "You need python\n",
    "\n",
    "'''"
   ]
  }
 ],
 "metadata": {
  "kernelspec": {
   "display_name": "review",
   "language": "python",
   "name": "python3"
  },
  "language_info": {
   "codemirror_mode": {
    "name": "ipython",
    "version": 3
   },
   "file_extension": ".py",
   "mimetype": "text/x-python",
   "name": "python",
   "nbconvert_exporter": "python",
   "pygments_lexer": "ipython3",
   "version": "3.8.16"
  },
  "orig_nbformat": 4
 },
 "nbformat": 4,
 "nbformat_minor": 2
}
