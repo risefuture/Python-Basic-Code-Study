{
 "cells": [
  {
   "attachments": {},
   "cell_type": "markdown",
   "metadata": {},
   "source": [
    "Jump to python\n",
    "=="
   ]
  },
  {
   "attachments": {},
   "cell_type": "markdown",
   "metadata": {},
   "source": [
    "3과 5의 배수를 모두 더하기\n",
    "--"
   ]
  },
  {
   "attachments": {},
   "cell_type": "markdown",
   "metadata": {},
   "source": [
    "* 다음 문제는 어떻게 풀면 좋을까?\n",
    ">  - 10 미만의 자연수에서 3과 5의 배수를 구하면 3, 5, 6, 9 로, 총합은 23\n",
    ">  - 1,000 미만의 자연수에서 3의 배수와 5의 배수의 총합을 구해보자"
   ]
  },
  {
   "attachments": {},
   "cell_type": "markdown",
   "metadata": {},
   "source": [
    ">  - 생각해보기\n",
    "\n",
    ">>  - 입력받는 값? 1~999까지\n",
    "\n",
    ">>  - 출력하는 값? 3의 배수와 5의 배수의 총합\n",
    "\n",
    ">>  - 생각해야 할 것\n",
    ">>>  - 3의 배수와 5의 배수를 찾는 법\n",
    ">>>  - 3의 배수와 5의 배수가 겹칠 때 해결방법"
   ]
  },
  {
   "attachments": {},
   "cell_type": "markdown",
   "metadata": {},
   "source": [
    "* 1,000 미만의 자연수를 구하는 방법"
   ]
  },
  {
   "cell_type": "code",
   "execution_count": null,
   "metadata": {},
   "outputs": [],
   "source": [
    "n = 1\n",
    "while n < 1000:\n",
    "    print(n)\n",
    "    n += 1"
   ]
  },
  {
   "cell_type": "code",
   "execution_count": null,
   "metadata": {},
   "outputs": [],
   "source": [
    "for n in range(1, 1000):\n",
    "    print(n)"
   ]
  },
  {
   "attachments": {},
   "cell_type": "markdown",
   "metadata": {},
   "source": [
    "* 3과 5의 배수를 구하는 방법\n",
    ">  - 3의 배수는 1부터 1,000까지의 수 중 3으로 나누었을 때, 나머지가 0인 경우\n",
    ">  - 5의 배수 또한 1부터 1,000까지의 수 중 5로 나누었을 때, 나머지가 0인 경우"
   ]
  },
  {
   "cell_type": "code",
   "execution_count": null,
   "metadata": {},
   "outputs": [],
   "source": [
    "for n in range(1, 1000):\n",
    "    if n%3 == 0:\n",
    "        print(n)"
   ]
  },
  {
   "cell_type": "code",
   "execution_count": null,
   "metadata": {},
   "outputs": [],
   "source": [
    "for n in range(1, 1000):\n",
    "    if n%5 == 0:\n",
    "        print(n)"
   ]
  },
  {
   "cell_type": "code",
   "execution_count": 7,
   "metadata": {},
   "outputs": [
    {
     "name": "stdout",
     "output_type": "stream",
     "text": [
      "233168\n"
     ]
    }
   ],
   "source": [
    "# add_multiple.py\n",
    "\n",
    "result = 0\n",
    "\n",
    "for n in range(1, 1000):\n",
    "    if n%3 == 0 or n%5 == 0:\n",
    "        result += n\n",
    "\n",
    "print(result)\n",
    "\n",
    "# or을 쓴 이유? 15와 같이 3의 배수도 되고 5의 배수도 되는 값을 중복으로 더하지 않도록 사용"
   ]
  },
  {
   "cell_type": "code",
   "execution_count": 8,
   "metadata": {},
   "outputs": [
    {
     "name": "stdout",
     "output_type": "stream",
     "text": [
      "266333\n"
     ]
    }
   ],
   "source": [
    "# 3의 배수와 5의 배수를 이중으로 더하여 잘못된 결과를 출력하는 풀이\n",
    "\n",
    "result = 0\n",
    "\n",
    "for n in range(1, 1000):\n",
    "    if n%3==0:\n",
    "        result += n\n",
    "    if n%5==0:\n",
    "        result += n\n",
    "\n",
    "print(result)"
   ]
  }
 ],
 "metadata": {
  "kernelspec": {
   "display_name": "review",
   "language": "python",
   "name": "python3"
  },
  "language_info": {
   "codemirror_mode": {
    "name": "ipython",
    "version": 3
   },
   "file_extension": ".py",
   "mimetype": "text/x-python",
   "name": "python",
   "nbconvert_exporter": "python",
   "pygments_lexer": "ipython3",
   "version": "3.8.16"
  },
  "orig_nbformat": 4
 },
 "nbformat": 4,
 "nbformat_minor": 2
}
