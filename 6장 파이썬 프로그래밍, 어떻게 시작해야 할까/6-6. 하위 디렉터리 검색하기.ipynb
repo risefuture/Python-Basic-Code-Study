{
 "cells": [
  {
   "attachments": {},
   "cell_type": "markdown",
   "metadata": {},
   "source": [
    "Jump to python\n",
    "=="
   ]
  },
  {
   "attachments": {},
   "cell_type": "markdown",
   "metadata": {},
   "source": [
    "하위 디렉터리 검색하기\n",
    "--"
   ]
  },
  {
   "attachments": {},
   "cell_type": "markdown",
   "metadata": {},
   "source": [
    "* 특정 디렉터리부터 시작해 하위(디렉터리 포함)의 모든 파일 중 파이썬 파일(*.py)만 출력해주는 프로그램 만들기"
   ]
  },
  {
   "attachments": {},
   "cell_type": "markdown",
   "metadata": {},
   "source": [
    "* 생각할 것\n",
    ">  - 필요한 기능? 파이썬 파일만 찾아 출력\n",
    ">  - 입력받는 값? 검색을 시작할 디렉터리\n",
    ">  - 출력하는 값? 파이썬 파일명"
   ]
  },
  {
   "cell_type": "code",
   "execution_count": null,
   "metadata": {},
   "outputs": [],
   "source": [
    "# sub_dir_search.py 파일 작성\n",
    "# /NasData/home/knh/workspace 디렉터리에 저장\n",
    "\n",
    "# sub_dir_search.py\n",
    "\n",
    "def search(dirname):\n",
    "    print(dirname)\n",
    "\n",
    "search(\"/NasData/home/knh/\")\n",
    "\n",
    "# search 함수 만들고 시작 디렉터리를 입력받도록 함"
   ]
  },
  {
   "cell_type": "code",
   "execution_count": null,
   "metadata": {},
   "outputs": [],
   "source": [
    "# 디렉터리에 있는 파일 검색할 수 있도록 소스 변경\n",
    "# sub_dir_search.py\n",
    "\n",
    "import os\n",
    "\n",
    "def search(dirname):\n",
    "    filenames = os.listdir(dirname)\n",
    "    for filename in filenames:\n",
    "        full_filename = os.path.join(dirname, filename)\n",
    "        print(full_filename)\n",
    "\n",
    "search(\"/NasData/home/knh/\")\n",
    "\n",
    "# os.listdir 사용 시, 해당 디렉터리에 있는 파일 리스트 구할 수 있음\n",
    "# 이때 파일 리스트는 파일 이름만 포함되어 있기에, 경로를 포함한 파일 이름을 구하기 위해서는 입력으로 받은 dirname을 앞에 덧붙여 줘야 함\n",
    "# os 모듈에는 디렉터리와 파일 이름을 이어 주는 os.path.join 함수가 있어, 디렉터리 포함한 전체 경로 쉽게 구할 수 있음"
   ]
  },
  {
   "cell_type": "code",
   "execution_count": null,
   "metadata": {},
   "outputs": [],
   "source": [
    "'''\n",
    "\n",
    "(py3.9) knh@gnode5:~/workspace\\$ /NasData/home/knh/anaconda3/envs/py3.9/bin/python /NasData/home/knh/workspace/sub_dir_search.py\n",
    "/NasData/home/knh/.nv\n",
    "/NasData/home/knh/data\n",
    "/NasData/home/knh/.config\n",
    "/NasData/home/knh/dev\n",
    "/NasData/home/knh/.dbus\n",
    "/NasData/home/knh/anaconda3\n",
    "/NasData/home/knh/review\n",
    "/NasData/home/knh/.wget-hsts\n",
    "/NasData/home/knh/.kaggle\n",
    "/NasData/home/knh/mlcl\n",
    "/NasData/home/knh/.Xauthority\n",
    "/NasData/home/knh/cifar-baseline\n",
    "/NasData/home/knh/.vscode-server\n",
    "/NasData/home/knh/workspace\n",
    "/NasData/home/knh/vggsound.csv\n",
    "/NasData/home/knh/save.png\n",
    "/NasData/home/knh/.local\n",
    "/NasData/home/knh/.mozilla\n",
    "/NasData/home/knh/cifar_net.pth\n",
    "/NasData/home/knh/.bash_logout\n",
    "/NasData/home/knh/.dotnet\n",
    "/NasData/home/knh/foo.txt\n",
    "/NasData/home/knh/Downloads\n",
    "/NasData/home/knh/.bashrc\n",
    "/NasData/home/knh/.ipython\n",
    "/NasData/home/knh/MLCL_2023\n",
    "/NasData/home/knh/.viminfo\n",
    "/NasData/home/knh/nltk_data\n",
    "/NasData/home/knh/.python_history\n",
    "/NasData/home/knh/deep-learning-from-scratch\n",
    "/NasData/home/knh/colab\n",
    "/NasData/home/knh/.bash_history\n",
    "/NasData/home/knh/.conda\n",
    "/NasData/home/knh/tmp.ipynb\n",
    "/NasData/home/knh/.vscode\n",
    "/NasData/home/knh/.cache\n",
    "/NasData/home/knh/.bash_profile\n",
    "\n",
    "'''"
   ]
  },
  {
   "cell_type": "code",
   "execution_count": null,
   "metadata": {},
   "outputs": [],
   "source": [
    "# /NasData/home/knh/ 디렉터리에 있는 파일 중 확장자가 .py인 파일만 출력\n",
    "# sub_dir_search.py\n",
    "\n",
    "import os\n",
    "\n",
    "def search(dirname):\n",
    "    filenames = os.listdir(dirname)\n",
    "    for filename in filenames:\n",
    "        full_filename = os.path.join(dirname, filename)\n",
    "        ext = os.path.splitext(full_filename)[-1]\n",
    "        if ext == '.py': \n",
    "            print(full_filename)\n",
    "\n",
    "search(\"/NasData/home/knh/\")\n",
    "\n",
    "# 파일 이름에서 확장자만 추출하기 위해 os 모듈의 os.path.splitext 함수 사용\n",
    "# os.path.splitext는 파일 이름을 확장자 기준으로 두 부분으로 나누어 줌\n",
    "# os.path.splitext(full_filename)[-1] 는 해당 파일 확장자 이름이 됨\n",
    "\n",
    "'''\n",
    "\n",
    "(py3.9) knh@gnode5:~/workspace\\$ /NasData/home/knh/anaconda3/envs/py3.9/bin/python /NasData/home/knh/workspace/sub_dir_search.py\n",
    "\n",
    "'''"
   ]
  },
  {
   "cell_type": "code",
   "execution_count": null,
   "metadata": {},
   "outputs": [],
   "source": [
    "# /NasData/home/knh/ 디렉터리 바로 밑의 파일 뿐 아니라, 하위 디렉터리(sub directory) 포함한 모든 파이썬 파일을 검색\n",
    "# sub_dir_search.py\n",
    "\n",
    "import os\n",
    "\n",
    "def search(dirname):\n",
    "    try:\n",
    "        filenames = os.listdir(dirname)\n",
    "        for filename in filenames:\n",
    "            full_filename = os.path.join(dirname, filename)\n",
    "            if os.path.isdir(full_filename):\n",
    "                search(full_filename)\n",
    "            else:\n",
    "                ext = os.path.splitext(full_filename)[-1]\n",
    "                if ext == '.py': \n",
    "                    print(full_filename)\n",
    "    except PermissionError:\n",
    "        pass\n",
    "\n",
    "search(\"/NasData/home/knh/\")\n",
    "\n",
    "# try-except 문으로 함수 전체를 감싼 이유는 os.listdir 수행 시, 권한이 없는 디렉터리에 접근하더라도 프로그램이 오류로 종료되지 않고 그냥 수행되도록 하기 위해서\n",
    "# full-filename이 디렉터리인지 파일인지 구별하기 위해 os.path.isdir 함수 사용\n",
    "# 디렉터리일 경우 해당 경로 입력 받아 다시 search 함수 호출\n",
    "\n",
    "# 해당 디렉터리의 파일이 디렉터리일 경우, 다시 search 함수를 호출해 나가면(재귀 호출) 해당 디렉터리의 하위 파일을 다시 검색하기 시작해서 모든 파일을 검색할 수 있음\n",
    "\n",
    "# 재귀 호출? 자기 자신을 다시 호출하는 프로그래밍 기법\n",
    "# Ex. search 함수에서 다시 자기 자신인 search 함수 호출\n",
    "\n",
    "# 해당 실행 결과는 너무 많아 생략"
   ]
  },
  {
   "attachments": {},
   "cell_type": "markdown",
   "metadata": {},
   "source": [
    "* 하위 디렉터리 검색을 쉽게 해주는 os.walk\n",
    ">  - os.walk는 시작 디렉터리부터 시작해 하위에 있는 모든 디렉터리 차례로 방문하는 함수"
   ]
  },
  {
   "cell_type": "code",
   "execution_count": null,
   "metadata": {},
   "outputs": [],
   "source": [
    "# oswalk.py\n",
    "\n",
    "import os\n",
    "\n",
    "for (path, dir, files) in os.walk(\"/NasData/home/knh/\"):\n",
    "    for filename in files:\n",
    "        ext = os.path.splitext(filename)[-1]\n",
    "        if ext == '.py':\n",
    "            print(\"%s/%s\" % (path, filename))"
   ]
  },
  {
   "cell_type": "code",
   "execution_count": null,
   "metadata": {},
   "outputs": [],
   "source": [
    "'''\n",
    "\n",
    "/NasData/home/knh/anaconda3/lib/python3.7/_sitebuiltins.py\n",
    "/NasData/home/knh/anaconda3/lib/python3.7/_pyio.py\n",
    "/NasData/home/knh/anaconda3/lib/python3.7/_weakrefset.py\n",
    "/NasData/home/knh/anaconda3/lib/python3.7/turtle.py\n",
    "/NasData/home/knh/anaconda3/lib/python3.7/signal.py\n",
    "/NasData/home/knh/anaconda3/lib/python3.7/types.py\n",
    "/NasData/home/knh/anaconda3/lib/python3.7/secrets.py\n",
    "/NasData/home/knh/anaconda3/lib/python3.7/mimetypes.py\n",
    "/NasData/home/knh/anaconda3/lib/python3.7/io.py\n",
    "/NasData/home/knh/anaconda3/lib/python3.7/getpass.py\n",
    "/NasData/home/knh/anaconda3/lib/python3.7/dummy_threading.py\n",
    "/NasData/home/knh/anaconda3/lib/python3.7/random.py\n",
    "/NasData/home/knh/anaconda3/lib/python3.7/struct.py\n",
    "/NasData/home/knh/anaconda3/lib/python3.7/ftplib.py\n",
    "/NasData/home/knh/anaconda3/lib/python3.7/sched.py\n",
    "/NasData/home/knh/anaconda3/lib/python3.7/opcode.py\n",
    "/NasData/home/knh/anaconda3/lib/python3.7/threading.py\n",
    "/NasData/home/knh/anaconda3/lib/python3.7/ipaddress.py\n",
    "/NasData/home/knh/anaconda3/lib/python3.7/decimal.py\n",
    "/NasData/home/knh/anaconda3/lib/python3.7/traceback.py\n",
    "/NasData/home/knh/anaconda3/lib/python3.7/copy.py\n",
    "/NasData/home/knh/anaconda3/lib/python3.7/_dummy_thread.py\n",
    "/NasData/home/knh/anaconda3/lib/python3.7/_strptime.py\n",
    "/NasData/home/knh/anaconda3/lib/python3.7/_pydecimal.py\n",
    "/NasData/home/knh/anaconda3/lib/python3.7/typing.py\n",
    "\n",
    "'''"
   ]
  }
 ],
 "metadata": {
  "kernelspec": {
   "display_name": "py3.9",
   "language": "python",
   "name": "python3"
  },
  "language_info": {
   "codemirror_mode": {
    "name": "ipython",
    "version": 3
   },
   "file_extension": ".py",
   "mimetype": "text/x-python",
   "name": "python",
   "nbconvert_exporter": "python",
   "pygments_lexer": "ipython3",
   "version": "3.9.16"
  },
  "orig_nbformat": 4
 },
 "nbformat": 4,
 "nbformat_minor": 2
}
