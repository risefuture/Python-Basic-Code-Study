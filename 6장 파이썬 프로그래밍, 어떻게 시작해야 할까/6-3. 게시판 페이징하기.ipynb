{
 "cells": [
  {
   "attachments": {},
   "cell_type": "markdown",
   "metadata": {},
   "source": [
    "Jump to python\n",
    "=="
   ]
  },
  {
   "attachments": {},
   "cell_type": "markdown",
   "metadata": {},
   "source": [
    "게시판 페이징하기\n",
    "--"
   ]
  },
  {
   "attachments": {},
   "cell_type": "markdown",
   "metadata": {},
   "source": [
    "* 게시물의 총 개수와 한 페이지에 보여 줄 게시물 수를 입력으로 주었을 때, 총 페이지 수를 출력하는 프로그램이 필요\n",
    ">  - 페이징 : 게시판의 페이지 수를 구하는 것"
   ]
  },
  {
   "attachments": {},
   "cell_type": "markdown",
   "metadata": {},
   "source": [
    "* 생각해야 할 것\n",
    ">  - 함수 이름? get_total_page\n",
    ">  - 입력받는 값? 게시물의 총 개수(m), 한 페이지에 보여 줄 게시물 수(n)\n",
    ">  - 출력하는 값? 총 페이지 수"
   ]
  },
  {
   "attachments": {},
   "cell_type": "markdown",
   "metadata": {},
   "source": [
    "Ex. 게시물의 총 개수(m) : 5, 페이지당 보여줄 게시물 수(n) : 10, 총 페이지 수 : 1\n",
    "\n",
    "Ex. 게시물의 총 개수(m) : 15, 페이지당 보여줄 게시물 수(n) : 10, 총 페이지 수 : 2\n",
    "\n",
    "Ex. 게시물의 총 개수(m) : 25, 페이지당 보여줄 게시물 수(n) : 10, 총 페이지 수 : 3\n",
    "\n",
    "Ex. 게시물의 총 개수(m) : 30, 페이지당 보여줄 게시물 수(n) : 10, 총 페이지 수 : 3"
   ]
  },
  {
   "attachments": {},
   "cell_type": "markdown",
   "metadata": {},
   "source": [
    "* 총 페이지 수 = 총 게시물 개수(m)를 한 페이지에 보여 줄 게시물 수(n)로 나누고, 1을 더함\n",
    ">  - 총 페이지 수 = (총 게시물 개수 / 한 페이지당 보여줄 개수) + 1"
   ]
  },
  {
   "cell_type": "code",
   "execution_count": 1,
   "metadata": {},
   "outputs": [
    {
     "name": "stdout",
     "output_type": "stream",
     "text": [
      "1\n",
      "2\n",
      "3\n",
      "4\n"
     ]
    }
   ],
   "source": [
    "def get_total_page(m, n):\n",
    "    return m//n + 1\n",
    "\n",
    "# // 연산자 사용 이유? m을 n으로 나눌 때, 소수점 아래 자리를 버리기 위함\n",
    "\n",
    "print(get_total_page(5, 10))\n",
    "\n",
    "print(get_total_page(15, 10))\n",
    "\n",
    "print(get_total_page(25, 10))\n",
    "\n",
    "print(get_total_page(30, 10)) # 잘못됨"
   ]
  },
  {
   "cell_type": "code",
   "execution_count": 2,
   "metadata": {},
   "outputs": [
    {
     "name": "stdout",
     "output_type": "stream",
     "text": [
      "1\n",
      "2\n",
      "3\n",
      "3\n"
     ]
    }
   ],
   "source": [
    "# 총 게시물 수와 한 페이지에 보여 줄 게시물 수를 나눈 나머지 값이 0이 될 때를 고려해야 함\n",
    "\n",
    "# paging.py\n",
    "\n",
    "def get_total_page(m, n):\n",
    "    if m%n == 0:\n",
    "        return m//n\n",
    "    else:\n",
    "        return m//n + 1\n",
    "    \n",
    "print(get_total_page(5, 10))\n",
    "\n",
    "print(get_total_page(15, 10))\n",
    "\n",
    "print(get_total_page(25, 10))\n",
    "\n",
    "print(get_total_page(30, 10)) # 성공\n",
    "\n",
    "# 나누었을 때 나머지가 0인 경우는 나누기의 몫만 리턴. 이외의 경우는 1을 더하여 리턴하도록 변경"
   ]
  }
 ],
 "metadata": {
  "kernelspec": {
   "display_name": "py3.9",
   "language": "python",
   "name": "python3"
  },
  "language_info": {
   "codemirror_mode": {
    "name": "ipython",
    "version": 3
   },
   "file_extension": ".py",
   "mimetype": "text/x-python",
   "name": "python",
   "nbconvert_exporter": "python",
   "pygments_lexer": "ipython3",
   "version": "3.9.16"
  },
  "orig_nbformat": 4
 },
 "nbformat": 4,
 "nbformat_minor": 2
}
