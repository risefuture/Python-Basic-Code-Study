{
 "cells": [
  {
   "attachments": {},
   "cell_type": "markdown",
   "metadata": {},
   "source": [
    "Jump to python\n",
    "=="
   ]
  },
  {
   "attachments": {},
   "cell_type": "markdown",
   "metadata": {},
   "source": [
    "탭 문자를 공백 문자 4개로 바꾸기\n",
    "--"
   ]
  },
  {
   "attachments": {},
   "cell_type": "markdown",
   "metadata": {},
   "source": [
    "* 문서 파일을 읽어, 문서 파일 안에 있는 탭 문자(Tab)를 공백 문자(Space) 4개로 바꾸어 주는 스크립트 작성"
   ]
  },
  {
   "attachments": {},
   "cell_type": "markdown",
   "metadata": {},
   "source": [
    "* 생각할 것\n",
    ">  - 필요한 기능? 문서 파일 읽어 들이기, 문자열 변경\n",
    ">  - 입력받는 값? 탭을 포함한 문서 파일\n",
    ">  - 출력하는 값? 탭이 공백으로 수정된 문서 파일"
   ]
  },
  {
   "attachments": {},
   "cell_type": "markdown",
   "metadata": {},
   "source": [
    "* python tabto4.py src dst 형식으로 프로그램이 수행되어야 함\n",
    ">  - tabto4.py 는 작성해야 할 파이썬 프로그램 이름\n",
    ">  - src 는 탭을 포함하고 있는 원본 파일 이름\n",
    ">  - dst 는 파일 안의 탭을 공백 4개로 변환한 결과를 저장할 파일 이름"
   ]
  },
  {
   "attachments": {},
   "cell_type": "markdown",
   "metadata": {},
   "source": [
    "* python tabto4.py a.txt b.txt\n",
    ">  - a.txt에 있는 탭을 4개의 공백으로 바꾸어 b.txt에 저장하고 싶을 때 수행"
   ]
  },
  {
   "cell_type": "code",
   "execution_count": 1,
   "metadata": {},
   "outputs": [
    {
     "name": "stdout",
     "output_type": "stream",
     "text": [
      "--ip=127.0.0.1\n",
      "--stdin=9008\n"
     ]
    }
   ],
   "source": [
    "# tabto4.py 파일 작성\n",
    "\n",
    "# /NasData/home/knh/workspace 디렉터리에 해당 파일 저장\n",
    "\n",
    "import sys\n",
    "\n",
    "src = sys.argv[1]\n",
    "dst = sys.argv[2]\n",
    "\n",
    "print(src)\n",
    "print(dst)\n",
    "\n",
    "# sys.argv 사용해 입력값을 확인하도록 만듦"
   ]
  },
  {
   "cell_type": "code",
   "execution_count": null,
   "metadata": {},
   "outputs": [],
   "source": [
    "# 입력값 정상 출력 확인\n",
    "\n",
    "'''\n",
    "\n",
    "(base) knh@gnode5:~/workspace\\$ python tabto4.py a.txt b.txt\n",
    "a.txt\n",
    "b.txt\n",
    "\n",
    "'''"
   ]
  },
  {
   "attachments": {},
   "cell_type": "markdown",
   "metadata": {},
   "source": [
    "* 궁금한 점\n",
    ">  - 왜..바뀌지 않을까..?"
   ]
  },
  {
   "cell_type": "code",
   "execution_count": null,
   "metadata": {},
   "outputs": [],
   "source": [
    "# a.txt\n",
    "# 테스트를 위한 원본 파일(탭을 포함하는 파일)이기에, 각 단어는 탭(\\t) 문자로 분리되도록 입력\n",
    "\n",
    "'''\n",
    "\n",
    "Life    is  too short\n",
    "You need    python\n",
    "\n",
    "'''"
   ]
  },
  {
   "cell_type": "code",
   "execution_count": null,
   "metadata": {},
   "outputs": [],
   "source": [
    "# a.txt 읽어 탭을 공백 4개로 변환할 수 있도록 코드 수정\n",
    "\n",
    "# tabto4.py\n",
    "\n",
    "import sys\n",
    "\n",
    "src = sys.argv[1]\n",
    "dst = sys.argv[2]\n",
    "\n",
    "f = open(src)\n",
    "tab_content = f.read()\n",
    "f.close()\n",
    "\n",
    "space_content = tab_content.replace(\"\\t\", \" \"*4)\n",
    "print(space_content)\n",
    "\n",
    "# src에 해당되는 입력 파일을 읽어, tab_content 라는 변수에 저장한 후, 문자열의 replace 함수를 사용해 탭(\\t)을 4개의 공백으로 변경하도록 코드 수정"
   ]
  },
  {
   "cell_type": "code",
   "execution_count": null,
   "metadata": {},
   "outputs": [],
   "source": [
    "'''\n",
    "\n",
    "(base) knh@gnode5:~/workspace\\$ python tabto4.py a.txt b.txt\n",
    "Life    is  too short\n",
    "You need    python\n",
    "\n",
    "'''"
   ]
  },
  {
   "cell_type": "code",
   "execution_count": null,
   "metadata": {},
   "outputs": [],
   "source": [
    "# 변경 내용 b.txt 에 저장할 수 있도록 프로그램 변경하기\n",
    "\n",
    "# tabto4.py\n",
    "\n",
    "import sys\n",
    "\n",
    "src = sys.argv[1]\n",
    "dst = sys.argv[2]\n",
    "\n",
    "f = open(src)\n",
    "tab_content = f.read()\n",
    "f.close()\n",
    "\n",
    "space_content = tab_content.replace(\"\\t\", \" \"*4)\n",
    "\n",
    "f = open(dst, 'w')\n",
    "f.write(space_content)\n",
    "f.close()"
   ]
  },
  {
   "cell_type": "code",
   "execution_count": null,
   "metadata": {},
   "outputs": [],
   "source": [
    "'''\n",
    "\n",
    "(base) knh@gnode5:~/workspace\\$ python tabto4.py a.txt b.txt\n",
    "\n",
    "'''\n",
    "\n",
    "'''\n",
    "\n",
    "Life    is  too short\n",
    "You need    python\n",
    "\n",
    "'''"
   ]
  }
 ],
 "metadata": {
  "kernelspec": {
   "display_name": "py3.9",
   "language": "python",
   "name": "python3"
  },
  "language_info": {
   "codemirror_mode": {
    "name": "ipython",
    "version": 3
   },
   "file_extension": ".py",
   "mimetype": "text/x-python",
   "name": "python",
   "nbconvert_exporter": "python",
   "pygments_lexer": "ipython3",
   "version": "3.9.16"
  },
  "orig_nbformat": 4
 },
 "nbformat": 4,
 "nbformat_minor": 2
}
