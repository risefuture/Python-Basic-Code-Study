{
 "cells": [
  {
   "attachments": {},
   "cell_type": "markdown",
   "metadata": {},
   "source": [
    "Jump to python\n",
    "=="
   ]
  },
  {
   "attachments": {},
   "cell_type": "markdown",
   "metadata": {},
   "source": [
    "패키지\n",
    "--"
   ]
  },
  {
   "attachments": {},
   "cell_type": "markdown",
   "metadata": {},
   "source": [
    "* 패키지 (packages)\n",
    ">  - 관련있는 모듈의 집합\n",
    ">  - 파이썬 모듈을 계층적 (디렉터리 구조)로 관리 가능\n",
    ">  - 파이썬에서 모듈은 하나의 .py 파일\n",
    ">  - 파이썬 패키지는 디렉터리와 파이썬 모듈로 이루어짐"
   ]
  },
  {
   "attachments": {},
   "cell_type": "markdown",
   "metadata": {},
   "source": [
    ">  - 패키지 구조로 파이썬 프로그램을 만들면, 공동 작업이나 유지 보수 등에서 유리\n",
    ">  - 다른 모듈과 이름이 겹쳐도 안전하게 사용 가능"
   ]
  },
  {
   "attachments": {},
   "cell_type": "markdown",
   "metadata": {},
   "source": [
    "* 가상의 game 패키지 예"
   ]
  },
  {
   "cell_type": "code",
   "execution_count": null,
   "metadata": {},
   "outputs": [],
   "source": [
    "'''\n",
    "\n",
    "game/\n",
    "    __init__.py\n",
    "    sound/\n",
    "        __init__.py\n",
    "        echo.py\n",
    "        wav.py\n",
    "    graphic/\n",
    "        __init__.py\n",
    "        screen.py\n",
    "        render.py\n",
    "    play/\n",
    "        __init__.py\n",
    "        run.py\n",
    "        test.py\n",
    "\n",
    "'''\n",
    "\n",
    "# game, sound, graphic, play 디렉터리\n",
    "# 확장자가 .py 인 파일은 파이썬 모듈\n",
    "\n",
    "# game 디렉터리가 이 패키지의 루트 디렉터리\n",
    "# sound, graphic, play는 서브 디렉터리"
   ]
  },
  {
   "attachments": {},
   "cell_type": "markdown",
   "metadata": {},
   "source": [
    "* 패키지 만들기"
   ]
  },
  {
   "attachments": {},
   "cell_type": "markdown",
   "metadata": {},
   "source": [
    ">  - /NasData/home/knh/workspace/ 디렉터리 밑에 다음과 같이 생성\n",
    "\n",
    ">  - /NasData/home/knh/workspace/game/\\_\\_init\\_\\_.py\n",
    ">  - /NasData/home/knh/workspace/game/sound/\\_\\_init\\_\\_.py\n",
    ">  - /NasData/home/knh/workspace/game/sound/echo.py\n",
    ">  - /NasData/home/knh/workspace/game/graphic/\\_\\_init\\_\\_.py\n",
    ">  - /NasData/home/knh/workspace/game/graphic/render.py"
   ]
  },
  {
   "cell_type": "code",
   "execution_count": null,
   "metadata": {},
   "outputs": [],
   "source": [
    "'''\n",
    "\n",
    "# echo.py\n",
    "def echo_test():\n",
    "    print(\"echo\")\n",
    "\n",
    "# render.py\n",
    "def render_test():\n",
    "    print(\"render\")\n",
    "\n",
    "파일 생성\n",
    "\n",
    "'''\n",
    "\n",
    "'''\n",
    "\n",
    "우리가 만든 game 패키지를 참조할 수 있도록, 명령 프롬프트 창에서 export 명령어로 PYTHONPATH 환경 변수에 /NasData/home/knh/workspace/ 디렉터리 추가 후, 파이썬 인터프리터 실행\n",
    "\n",
    "(base) knh@gnode5:~/workspace\\$ export PYTHONPATH=/NasData/home/knh/workspace/\n",
    "(base) knh@gnode5:~/workspace\\$ python\n",
    "Python 3.7.0 (default, Jun 28 2018, 13:15:42)\n",
    "[GCC 7.2.0] :: Anaconda, Inc. on linux\n",
    "Type \"help\", \"copyright\", \"credits\" or \"license\" for more information.\n",
    "\n",
    "'''"
   ]
  },
  {
   "attachments": {},
   "cell_type": "markdown",
   "metadata": {},
   "source": [
    "* 패키지 안의 함수 실행\n",
    ">  - echo.py 파일의 echo_test 함수 실행\n",
    ">  - import 후 다음 예제 진행 시, 인터프리터 재실행 해야 함 (이전의 import 한 것이 메모리에 남아 있음)\n",
    ">  - 재실행하려면, exit() 후 다시 진행"
   ]
  },
  {
   "attachments": {},
   "cell_type": "markdown",
   "metadata": {},
   "source": [
    "* 1. echo 모듈을 import해서 실행하는 방법\n",
    ">  - echo 모듈은 echo.py 파일임"
   ]
  },
  {
   "cell_type": "code",
   "execution_count": null,
   "metadata": {},
   "outputs": [],
   "source": [
    "'''\n",
    "\n",
    ">>> import game.sound.echo\n",
    ">>> game.sound.echo.echo_test()\n",
    "echo\n",
    "\n",
    "'''"
   ]
  },
  {
   "attachments": {},
   "cell_type": "markdown",
   "metadata": {},
   "source": [
    "* 2. echo 모듈이 있는 디렉터리까지를 from ... import 해서 실행하는 방법"
   ]
  },
  {
   "cell_type": "code",
   "execution_count": null,
   "metadata": {},
   "outputs": [],
   "source": [
    "'''\n",
    "\n",
    ">>> exit()\n",
    "(base) knh@gnode5:~/workspace\\$ python\n",
    "Python 3.7.0 (default, Jun 28 2018, 13:15:42)\n",
    "[GCC 7.2.0] :: Anaconda, Inc. on linux\n",
    "Type \"help\", \"copyright\", \"credits\" or \"license\" for more information.\n",
    ">>> from game.sound import echo\n",
    ">>> echo.echo_test()\n",
    "echo\n",
    "\n",
    "'''"
   ]
  },
  {
   "attachments": {},
   "cell_type": "markdown",
   "metadata": {},
   "source": [
    "* 3. echo 모듈의 echo_test 함수를 직접 import해서 실행하는 방법"
   ]
  },
  {
   "cell_type": "code",
   "execution_count": null,
   "metadata": {},
   "outputs": [],
   "source": [
    "'''\n",
    "\n",
    ">>> exit()\n",
    "(base) knh@gnode5:~/workspace\\$ python\n",
    "Python 3.7.0 (default, Jun 28 2018, 13:15:42)\n",
    "[GCC 7.2.0] :: Anaconda, Inc. on linux\n",
    "Type \"help\", \"copyright\", \"credits\" or \"license\" for more information.\n",
    ">>> from game.sound.echo import echo_test\n",
    ">>> echo_test()\n",
    "echo\n",
    "\n",
    "'''"
   ]
  },
  {
   "attachments": {},
   "cell_type": "markdown",
   "metadata": {},
   "source": [
    "* 다음과 같이 echo_test 함수를 사용하는 것은 불가능\n",
    ">  - import game 수행 시, game 디렉터리의 \\_\\_init\\_\\_.py에 정의한 것만 참조 가능\n",
    ">  - 도트 연산자(.) 사용해, import a.b.c처럼 import할 때 가장 마지막 항목인 c는 반드시 모듈 또는 패키지여야함"
   ]
  },
  {
   "cell_type": "code",
   "execution_count": null,
   "metadata": {},
   "outputs": [],
   "source": [
    "'''\n",
    "\n",
    ">>> exit()\n",
    "(base) knh@gnode5:~/workspace\\$\n",
    "(base) knh@gnode5:~/workspace\\$ python\n",
    "Python 3.7.0 (default, Jun 28 2018, 13:15:42)\n",
    "[GCC 7.2.0] :: Anaconda, Inc. on linux\n",
    "Type \"help\", \"copyright\", \"credits\" or \"license\" for more information.\n",
    ">>> import game\n",
    ">>> game.sound.echo.echo_test()\n",
    "Traceback (most recent call last):\n",
    "  File \"<stdin>\", line 1, in <module>\n",
    "AttributeError: module 'game' has no attribute 'sound'\n",
    "\n",
    "'''"
   ]
  },
  {
   "cell_type": "code",
   "execution_count": null,
   "metadata": {},
   "outputs": [],
   "source": [
    "'''\n",
    "\n",
    ">>> exit()\n",
    "(base) knh@gnode5:~/workspace\\$ python\n",
    "Python 3.7.0 (default, Jun 28 2018, 13:15:42)\n",
    "[GCC 7.2.0] :: Anaconda, Inc. on linux\n",
    "Type \"help\", \"copyright\", \"credits\" or \"license\" for more information.\n",
    ">>> import game.sound.echo.echo_test\n",
    "Traceback (most recent call last):\n",
    "  File \"<stdin>\", line 1, in <module>\n",
    "ModuleNotFoundError: No module named 'game.sound.echo.echo_test'; 'game.sound.echo' is not a package\n",
    "\n",
    "'''"
   ]
  },
  {
   "attachments": {},
   "cell_type": "markdown",
   "metadata": {},
   "source": [
    "* \\_\\_init\\_\\_의 용도\n",
    ">  - \\_\\_init\\_\\_.py 파일은 해당 디렉터리가 패키지의 일부임을 알려줌\n",
    ">  - game, sound, grapic 등 패키지에 포함된 디렉터리에 \\_\\_init\\_\\_.py 파일이 없다면 패키지로 인식되지 않음\n",
    ">  - \\_\\_init\\_\\_.py 파일은 패키지와 관련된 설정이나 초기화 코드를 포함할 수 있음"
   ]
  },
  {
   "attachments": {},
   "cell_type": "markdown",
   "metadata": {},
   "source": [
    "* 패키지 변수 및 함수 정의\n",
    ">  - 패키지 수준에서 변수와 함수를 정의 가능\n",
    ">  - game 패키지의 \\_\\_init\\_\\_.py 파일에 공통 변수나 함수 정의 가능"
   ]
  },
  {
   "cell_type": "code",
   "execution_count": null,
   "metadata": {},
   "outputs": [],
   "source": [
    "# /NasData/home/knh/workspace/game/__init__.py\n",
    "\n",
    "VERSION = 3.5\n",
    "\n",
    "def print_version_info():\n",
    "    print(f\"The version of this game is {VERSION}.\")"
   ]
  },
  {
   "cell_type": "code",
   "execution_count": null,
   "metadata": {},
   "outputs": [],
   "source": [
    "'''\n",
    "\n",
    ">>> exit()\n",
    "(base) knh@gnode5:~/workspace$ python\n",
    "Python 3.7.0 (default, Jun 28 2018, 13:15:42)\n",
    "[GCC 7.2.0] :: Anaconda, Inc. on linux\n",
    "Type \"help\", \"copyright\", \"credits\" or \"license\" for more information.\n",
    ">>> import game\n",
    ">>> print(game.VERSION)\n",
    "3.5\n",
    ">>> game.print_version_info()\n",
    "The version of this game is 3.5.\n",
    "\n",
    "'''"
   ]
  },
  {
   "attachments": {},
   "cell_type": "markdown",
   "metadata": {},
   "source": [
    "* 패키지 내 모듈을 미리 import\n",
    ">  - \\_\\_init\\_\\_.py 파일에 패키지 내 다른 모듈을 미리 import 해서, 패키지 사용 코드에서 간편하게 접근할 수 있게 함"
   ]
  },
  {
   "cell_type": "code",
   "execution_count": null,
   "metadata": {},
   "outputs": [],
   "source": [
    "# /NasData/home/knh/workspace/game/__init__.py\n",
    "\n",
    "from .graphic.render import render_test  # .은 현재 디렉터리 의미\n",
    "\n",
    "VERSION = 3.5\n",
    "\n",
    "def print_version_info():\n",
    "    print(f\"The version of this game is {VERSION}.\")"
   ]
  },
  {
   "cell_type": "code",
   "execution_count": null,
   "metadata": {},
   "outputs": [],
   "source": [
    "'''\n",
    "\n",
    ">>> exit()\n",
    "(base) knh@gnode5:~/workspace\\$ python\n",
    "Python 3.7.0 (default, Jun 28 2018, 13:15:42)\n",
    "[GCC 7.2.0] :: Anaconda, Inc. on linux\n",
    "Type \"help\", \"copyright\", \"credits\" or \"license\" for more information.\n",
    ">>> import game\n",
    ">>> game.render_test()\n",
    "render\n",
    "\n",
    "'''"
   ]
  },
  {
   "attachments": {},
   "cell_type": "markdown",
   "metadata": {},
   "source": [
    "* 패키지 초기화\n",
    ">  - \\_\\_init\\_\\_.py 파일에 패키지를 처음 불러올 때, 실행되어야 하는 코드 작성 가능\n",
    ">  - 데이터베이스 연결, 설정 파일 로드 등\n",
    ">  - 패키지의 하위 모듈 함수 import 시에도 실행"
   ]
  },
  {
   "cell_type": "code",
   "execution_count": null,
   "metadata": {},
   "outputs": [],
   "source": [
    "# /NasData/home/knh/workspace/game/__init__.py\n",
    "\n",
    "from .graphic.render import render_test\n",
    "\n",
    "VERSION = 3.5\n",
    "\n",
    "def print_version_info():\n",
    "    print(f\"The version of this game is {VERSION}.\")\n",
    "\n",
    "# 여기에 패키지 초기화 코드 작성\n",
    "\n",
    "print(\"Initializing game ...\")"
   ]
  },
  {
   "cell_type": "code",
   "execution_count": null,
   "metadata": {},
   "outputs": [],
   "source": [
    "'''\n",
    "\n",
    ">>> exit()\n",
    "(base) knh@gnode5:~/workspace\\$ python\n",
    "Python 3.7.0 (default, Jun 28 2018, 13:15:42)\n",
    "[GCC 7.2.0] :: Anaconda, Inc. on linux\n",
    "Type \"help\", \"copyright\", \"credits\" or \"license\" for more information.\n",
    ">>> import game\n",
    "Initializing game ...\n",
    "\n",
    "'''"
   ]
  },
  {
   "cell_type": "code",
   "execution_count": null,
   "metadata": {},
   "outputs": [],
   "source": [
    "# game 패키지의 초기화 코드는 game 패키지의 하위 모듈의 함수를 import할 경우에도 실행\n",
    "\n",
    "'''\n",
    "\n",
    ">>> exit()\n",
    "(base) knh@gnode5:~/workspace\\$ python\n",
    "Python 3.7.0 (default, Jun 28 2018, 13:15:42)\n",
    "[GCC 7.2.0] :: Anaconda, Inc. on linux\n",
    "Type \"help\", \"copyright\", \"credits\" or \"license\" for more information.\n",
    ">>> from game.graphic.render import render_test\n",
    "Initializing game ...\n",
    "\n",
    "\n",
    ">>> from game.graphic.render import render_test\n",
    "\n",
    "\n",
    "# 단, 초기화 코드는 한번 실행된 후, 다시 import 수행하더라도 실행되지 않음\n",
    "# game 패키지를 import한 후, 하위 모듈을 다시 import 하더라도 초기화 코드는 처음 한 번만 실행\n",
    "\n",
    "'''"
   ]
  },
  {
   "attachments": {},
   "cell_type": "markdown",
   "metadata": {},
   "source": [
    "* \\_\\_all\\_\\_\n",
    ">  - 특정 디렉터리의 모듈을 *를 사용하여 import할 때, 해당 디렉터리의 \\_\\_init\\_\\_.py 파일에 \\_\\_all\\_\\_ 변수를 설정하고, import할 수 있는 모듈을 정의해 주어야 함"
   ]
  },
  {
   "cell_type": "code",
   "execution_count": null,
   "metadata": {},
   "outputs": [],
   "source": [
    "'''\n",
    "\n",
    ">>> exit()\n",
    "(base) knh@gnode5:~/workspace\\$ python\n",
    "Python 3.7.0 (default, Jun 28 2018, 13:15:42)\n",
    "[GCC 7.2.0] :: Anaconda, Inc. on linux\n",
    "Type \"help\", \"copyright\", \"credits\" or \"license\" for more information.\n",
    ">>> from game.sound import *\n",
    "Initializing game ...\n",
    ">>> echo.echo_test()\n",
    "Traceback (most recent call last):\n",
    "  File \"<stdin>\", line 1, in <module>\n",
    "NameError: name 'echo' is not defined\n",
    "\n",
    "'''\n",
    "\n",
    "# game.sound 패키지에서 모든 것(*) import 헸으므로, echo 모듈 사용할 수 있어야 하는 것 아닌가?\n",
    "# echo 이름 정의가 되지 않았다는 오류 발생"
   ]
  },
  {
   "cell_type": "code",
   "execution_count": null,
   "metadata": {},
   "outputs": [],
   "source": [
    "# 특정 디렉터리 모듈을 *를 사용해 import할 때는, 해당 디렉터리 __init__.py 파일에 __all__ 변수를 설정해서, import 할 수 있는 모듈 정의해주어야 함\n",
    "\n",
    "# /NasData/home/knh/workspace/game/sound/__init__.py\n",
    "\n",
    "__all__ = ['echo']\n",
    "\n",
    "# __all__이 의미하는 것 : sound 디렉터리에서 *를 사용하여 import할 경우, 이곳에 정의된 echo 모듈만 import된다는 의미\n",
    "\n",
    "# from game.sound.echo import *은 __all__과 상관없이 import됨\n",
    "# 이렇게 __all__과 상관없이 무조건 import되는 경우는 from a.b.c import *에서 from의 마지막 항목인 c가 모듈일 때임"
   ]
  },
  {
   "cell_type": "code",
   "execution_count": null,
   "metadata": {},
   "outputs": [],
   "source": [
    "'''\n",
    "\n",
    ">>> exit()\n",
    "(base) knh@gnode5:~/workspace\\$ python\n",
    "Python 3.7.0 (default, Jun 28 2018, 13:15:42)\n",
    "[GCC 7.2.0] :: Anaconda, Inc. on linux\n",
    "Type \"help\", \"copyright\", \"credits\" or \"license\" for more information.\n",
    ">>> from game.sound import *\n",
    "Initializing game ...\n",
    ">>> echo.echo_test()\n",
    "echo\n",
    "\n",
    "'''"
   ]
  },
  {
   "attachments": {},
   "cell_type": "markdown",
   "metadata": {},
   "source": [
    "* 궁금한 점\n",
    ">  - from game.sound.echo import * 로 진행 시, \\_\\_all\\_\\_과 상관없이 import 된다면, 아래의 코드에서 에러가 뜨지 않아야 하는 것 아닐까?"
   ]
  },
  {
   "cell_type": "code",
   "execution_count": null,
   "metadata": {},
   "outputs": [],
   "source": [
    "'''\n",
    "\n",
    ">>> exit()\n",
    "(base) knh@gnode5:~/workspace\\$ python\n",
    "Python 3.7.0 (default, Jun 28 2018, 13:15:42)\n",
    "[GCC 7.2.0] :: Anaconda, Inc. on linux\n",
    "Type \"help\", \"copyright\", \"credits\" or \"license\" for more information.\n",
    ">>> from game.sound.echo import *\n",
    "Initializing game ...\n",
    ">>> echo.echo_test()\n",
    "Traceback (most recent call last):\n",
    "  File \"<stdin>\", line 1, in <module>\n",
    "NameError: name 'echo' is not defined\n",
    "\n",
    "'''"
   ]
  },
  {
   "cell_type": "code",
   "execution_count": null,
   "metadata": {},
   "outputs": [],
   "source": [
    "'''\n",
    "\n",
    ">>> echo_test()\n",
    "echo\n",
    "\n",
    "'''"
   ]
  },
  {
   "attachments": {},
   "cell_type": "markdown",
   "metadata": {},
   "source": [
    "* relative 패키지\n",
    ">  - graphic 디렉터리의 render.py 모듈에서 sound 디렉터리의 echo.py 모듈을 사용하고 싶을 때\n",
    ">  - .. 접근자 : 부모 디렉터리\n",
    ">  - . 접근자 : 현재 디렉터리"
   ]
  },
  {
   "cell_type": "code",
   "execution_count": null,
   "metadata": {},
   "outputs": [],
   "source": [
    "# render.py\n",
    "\n",
    "def render_test():\n",
    "    print(\"render\")"
   ]
  },
  {
   "cell_type": "code",
   "execution_count": null,
   "metadata": {},
   "outputs": [],
   "source": [
    "# render.py\n",
    "\n",
    "from game.sound.echo import echo_test # 문장 추가 # 전체 경로 사용해 import\n",
    "\n",
    "def render_test():\n",
    "    print(\"render\")\n",
    "    echo_test()\n",
    "\n",
    "# render 수정"
   ]
  },
  {
   "cell_type": "code",
   "execution_count": null,
   "metadata": {},
   "outputs": [],
   "source": [
    "'''\n",
    "\n",
    ">>> exit()\n",
    "(base) knh@gnode5:~/workspace\\$ python\n",
    "Python 3.7.0 (default, Jun 28 2018, 13:15:42)\n",
    "[GCC 7.2.0] :: Anaconda, Inc. on linux\n",
    "Type \"help\", \"copyright\", \"credits\" or \"license\" for more information.\n",
    ">>> from game.graphic.render import render_test\n",
    "Initializing game ...\n",
    ">>> render_test()\n",
    "render\n",
    "echo\n",
    "\n",
    "'''"
   ]
  },
  {
   "cell_type": "code",
   "execution_count": null,
   "metadata": {},
   "outputs": [],
   "source": [
    "# 전체 경로 사용하지 않고, relative하게 import\n",
    "\n",
    "# render.py\n",
    "\n",
    "from ..sound.echo import echo_test\n",
    "\n",
    "def render_test():\n",
    "    print(\"render\")\n",
    "    echo_test()\n",
    "\n",
    "# .. 은 render.py 파일의 부모 디렉터리\n",
    "# render.py 파일의 현재 디렉터리는 graphic, 부모 디렉터리는 game"
   ]
  },
  {
   "cell_type": "code",
   "execution_count": null,
   "metadata": {},
   "outputs": [],
   "source": [
    "'''\n",
    "\n",
    ">>> exit()\n",
    "(base) knh@gnode5:~/workspace\\$ python\n",
    "Python 3.7.0 (default, Jun 28 2018, 13:15:42)\n",
    "[GCC 7.2.0] :: Anaconda, Inc. on linux\n",
    "Type \"help\", \"copyright\", \"credits\" or \"license\" for more information.\n",
    ">>> from game.graphic.render import render_test\n",
    "Initializing game ...\n",
    ">>> render_test()\n",
    "render\n",
    "echo\n",
    "\n",
    "'''"
   ]
  }
 ],
 "metadata": {
  "language_info": {
   "name": "python"
  },
  "orig_nbformat": 4
 },
 "nbformat": 4,
 "nbformat_minor": 2
}
