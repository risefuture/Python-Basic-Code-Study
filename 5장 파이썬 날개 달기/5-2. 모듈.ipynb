{
 "cells": [
  {
   "attachments": {},
   "cell_type": "markdown",
   "metadata": {},
   "source": [
    "Jump to python\n",
    "=="
   ]
  },
  {
   "attachments": {},
   "cell_type": "markdown",
   "metadata": {},
   "source": [
    "모듈\n",
    "--"
   ]
  },
  {
   "attachments": {},
   "cell_type": "markdown",
   "metadata": {},
   "source": [
    "* 모듈\n",
    ">  - 함수나 변수 또는 클래스를 모아 놓은 파이썬 파일\n",
    ">  - 다른 파이썬 프로그램에서 불러와 사용할 수 있도록 만든 파이썬 파일\n",
    ">  - 다른 사람들이 이미 만들어 놓은 모듈 사용 가능 + 직접 만들어 사용 가능\n"
   ]
  },
  {
   "attachments": {},
   "cell_type": "markdown",
   "metadata": {},
   "source": [
    "* 모듈 만들기"
   ]
  },
  {
   "cell_type": "code",
   "execution_count": 2,
   "metadata": {},
   "outputs": [],
   "source": [
    "# mod1.py\n",
    "\n",
    "def add(a,b):\n",
    "    return a+b\n",
    "\n",
    "def sub(a, b):\n",
    "    return a-b\n",
    "\n",
    "# 이것이 바로 모듈\n",
    "# 파이썬 확장자 .py로 만든 파이썬 파일은 모두 모듈"
   ]
  },
  {
   "attachments": {},
   "cell_type": "markdown",
   "metadata": {},
   "source": [
    "* 모듈 불러오기\n",
    ">  - import는 현재 디렉터리에 있는 파일이나 파이썬 라이브러리가 저장된 디렉터리에 있는 모듈만 불러올 수 있음\n",
    ">  - 파이썬 라이브러리는 파이썬 설치 시, 자동으로 설치되는 파이썬 모듈\n",
    ">  - import 모듈_이름\n",
    ">  - 여기서 모듈 이름은 .py의 확장자를 제거한 모듈 이름만을 가리킴\n",
    "\n",
    ">  - mod1.add, mod1.sub 처럼 쓰지 않고, add, sub 처럼 모듈 이름 없이 함수 이름만 쓰고 싶은 경우\n",
    ">  - from 모듈_이름 import 모듈_함수\n",
    "\n",
    ">  - add 함수, sub 함수 둘 다 모듈 이름 붙이지 않고 사용할 경우\n",
    ">  - from 모듈_이름 import 모듈_함수1, 모듈_함수2\n",
    ">  - from mod1 import * (mod1 모듈의 모든 함수를 불러와 사용)"
   ]
  },
  {
   "cell_type": "code",
   "execution_count": null,
   "metadata": {},
   "outputs": [],
   "source": [
    "# /NasData/home/knh/workspace/ 안에 mod1.py 저장\n",
    "# cmd 창 열어 ssh 로그인 후 cd /NasData/home/knh/workspace/\n",
    "# dir로 확인\n",
    "# python 입력 후, import mod1 입력 시, 대화형 인터프리터 등장\n",
    "# import mod1.py 입력하지 않도록 주의\n",
    "# print(mod1.add(3,4))\n",
    "# print(mod1.sub(4,2))\n",
    "\n",
    "# import는 이미 만들어 놓은 파이썬 모듈을 사용할 수 있게 해주는 명령어\n",
    "# mod1.py 파일에 있는 add 함수 사용하기 위해선, mod1.add 처럼 모듈 뒤에 도트 연산자(.) 붙이고 함수 이름 쓰기\n",
    "\n",
    "'''\n",
    "\n",
    "(base) knh@gnode5:~/workspace$ python\n",
    "Python 3.7.0 (default, Jun 28 2018, 13:15:42)\n",
    "[GCC 7.2.0] :: Anaconda, Inc. on linux\n",
    "Type \"help\", \"copyright\", \"credits\" or \"license\" for more information.\n",
    ">>> import mod1\n",
    ">>> print(mod1.add(3,4))\n",
    "7\n",
    ">>> print(mod1.sub(4,2))\n",
    "2\n",
    "\n",
    "'''"
   ]
  },
  {
   "cell_type": "code",
   "execution_count": null,
   "metadata": {},
   "outputs": [],
   "source": [
    "'''\n",
    "\n",
    "(base) knh@gnode5:~/workspace$ python\n",
    "Python 3.7.0 (default, Jun 28 2018, 13:15:42)\n",
    "[GCC 7.2.0] :: Anaconda, Inc. on linux\n",
    "Type \"help\", \"copyright\", \"credits\" or \"license\" for more information.\n",
    ">>> from mod1 import add\n",
    ">>> add(3,4)\n",
    "7\n",
    "\n",
    "'''"
   ]
  },
  {
   "cell_type": "code",
   "execution_count": null,
   "metadata": {},
   "outputs": [],
   "source": [
    "'''\n",
    "\n",
    "(base) knh@gnode5:~/workspace$ python\n",
    "Python 3.7.0 (default, Jun 28 2018, 13:15:42)\n",
    "[GCC 7.2.0] :: Anaconda, Inc. on linux\n",
    "Type \"help\", \"copyright\", \"credits\" or \"license\" for more information.\n",
    ">>> from mod1 import add, sub\n",
    ">>> add(3,4)\n",
    "7\n",
    ">>> sub(3,4)\n",
    "-1\n",
    "\n",
    "'''"
   ]
  },
  {
   "cell_type": "code",
   "execution_count": null,
   "metadata": {},
   "outputs": [],
   "source": [
    "'''\n",
    "\n",
    "(base) knh@gnode5:~/workspace$ python\n",
    "Python 3.7.0 (default, Jun 28 2018, 13:15:42)\n",
    "[GCC 7.2.0] :: Anaconda, Inc. on linux\n",
    "Type \"help\", \"copyright\", \"credits\" or \"license\" for more information.\n",
    ">>> from mod1 import *\n",
    ">>> add(3,4)\n",
    "7\n",
    ">>> sub(3,4)\n",
    "-1\n",
    "\n",
    "'''"
   ]
  },
  {
   "attachments": {},
   "cell_type": "markdown",
   "metadata": {},
   "source": [
    "* if \\_\\_name__==\"\\_\\_main\\_\\_\": "
   ]
  },
  {
   "attachments": {},
   "cell_type": "markdown",
   "metadata": {},
   "source": [
    "* python mod1.py 실행 잘됨\n",
    "* mod1.py 파일의 add와 sub 함수를 사용하기 위해, mod1을 import 하려고 함\n",
    "* import mod1을 하면 mod1.py이 실행되어 결괏값을 출력해버림\n",
    "* 즉, mod1.py 파일의 add와 sub 함수만 사용하는 것이 안됨"
   ]
  },
  {
   "attachments": {},
   "cell_type": "markdown",
   "metadata": {},
   "source": [
    "* mod1.py 파일에 if \\_\\_name\\_\\_==\"\\_\\_main\\_\\_\": 을 사용하면, python mod1.py 처럼 직접 이 파일 실행 시에는 \\_\\_name\\_\\_==\"\\_\\_main\\_\\_\": 이 참이 되어, if 다음 문장이 수행됨\n",
    "* 대화형 인터프리터나 다른 파일에서 이 모듈을 불러와 사용 시에는 \\_\\_name\\_\\_==\"\\_\\_main\\_\\_\": 이 거짓이 되어 if 문 다음 문장이 수행되지 않음"
   ]
  },
  {
   "cell_type": "code",
   "execution_count": null,
   "metadata": {},
   "outputs": [],
   "source": [
    "# mod1.py\n",
    "\n",
    "def add(a,b):\n",
    "    return a+b\n",
    "\n",
    "def sub(a, b):\n",
    "    return a-b\n",
    "\n",
    "print(add(1,4))\n",
    "print(sub(4,2))\n",
    "\n",
    "'''\n",
    "\n",
    "(base) knh@gnode5:~$ cd /NasData/home/knh/workspace/\n",
    "(base) knh@gnode5:~/workspace$ python mod1.py\n",
    "5\n",
    "2\n",
    "\n",
    "'''"
   ]
  },
  {
   "cell_type": "code",
   "execution_count": null,
   "metadata": {},
   "outputs": [],
   "source": [
    "'''\n",
    "\n",
    "(base) knh@gnode5:~/workspace$ python\n",
    "Python 3.7.0 (default, Jun 28 2018, 13:15:42)\n",
    "[GCC 7.2.0] :: Anaconda, Inc. on linux\n",
    "Type \"help\", \"copyright\", \"credits\" or \"license\" for more information.\n",
    ">>> import mod1\n",
    "5\n",
    "2\n",
    "\n",
    "'''"
   ]
  },
  {
   "cell_type": "code",
   "execution_count": null,
   "metadata": {},
   "outputs": [],
   "source": [
    "# mod1.py\n",
    "\n",
    "def add(a,b):\n",
    "    return a+b\n",
    "\n",
    "def sub(a,b):\n",
    "    return a-b\n",
    "\n",
    "if __name__==\"__main__\":\n",
    "    print(add(1,4))\n",
    "    print(sub(4,2))"
   ]
  },
  {
   "cell_type": "code",
   "execution_count": null,
   "metadata": {},
   "outputs": [],
   "source": [
    "'''\n",
    "\n",
    "(base) knh@gnode5:~$ cd /NasData/home/knh/workspace/\n",
    "(base) knh@gnode5:~/workspace$ python\n",
    "Python 3.7.0 (default, Jun 28 2018, 13:15:42)\n",
    "[GCC 7.2.0] :: Anaconda, Inc. on linux\n",
    "Type \"help\", \"copyright\", \"credits\" or \"license\" for more information.\n",
    ">>> import mod1\n",
    ">>>\n",
    "\n",
    "'''"
   ]
  },
  {
   "attachments": {},
   "cell_type": "markdown",
   "metadata": {},
   "source": [
    "* \\_\\_name\\_\\_ 변수란?\n",
    "* 파이썬이 내부적으로 사용하는 특별한 변수 이름\n",
    "* cd /NasData/home/knh/workspace/ 후 python mod1.py 처럼 직접 mod1.py 파일 실행할 경우, mod1.py의 \\_\\_name\\_\\_ 변수에는 \\_\\_main\\_\\_ 값이 저장됨\n",
    "* 파이썬 셸이나 다른 파이썬 모듈에서 mod1을 import할 경우, mod1.py의 \\_\\_name\\_\\_ 변수에 mod1.py 모듈 이름인 mod1이 저장됨"
   ]
  },
  {
   "cell_type": "code",
   "execution_count": null,
   "metadata": {},
   "outputs": [],
   "source": [
    "'''\n",
    "\n",
    "(base) knh@gnode5:~$ cd /NasData/home/knh/workspace/\n",
    "(base) knh@gnode5:~/workspace$ python\n",
    "Python 3.7.0 (default, Jun 28 2018, 13:15:42)\n",
    "[GCC 7.2.0] :: Anaconda, Inc. on linux\n",
    "Type \"help\", \"copyright\", \"credits\" or \"license\" for more information.\n",
    ">>> import mod1\n",
    ">>> mod1.__name__\n",
    "'mod1'\n",
    "\n",
    "'''"
   ]
  },
  {
   "attachments": {},
   "cell_type": "markdown",
   "metadata": {},
   "source": [
    "* 클래스나 변수 등을 포함한 모듈"
   ]
  },
  {
   "cell_type": "code",
   "execution_count": 1,
   "metadata": {},
   "outputs": [],
   "source": [
    "# mod2.py\n",
    "\n",
    "PI = 3.141592 # 원주율\n",
    "\n",
    "class Math: # 원의 넓이 계산\n",
    "    def solv(self, r):\n",
    "        return PI * (r**2)\n",
    "    \n",
    "def add(a, b):\n",
    "    return a+b\n",
    "\n",
    "'''\n",
    "\n",
    "(base) knh@gnode5:~/workspace$ python\n",
    "Python 3.7.0 (default, Jun 28 2018, 13:15:42)\n",
    "[GCC 7.2.0] :: Anaconda, Inc. on linux\n",
    "Type \"help\", \"copyright\", \"credits\" or \"license\" for more information.\n",
    ">>> import mod2\n",
    ">>> print(mod2.PI)\n",
    "3.141592\n",
    "\n",
    "'''"
   ]
  },
  {
   "cell_type": "code",
   "execution_count": null,
   "metadata": {},
   "outputs": [],
   "source": [
    "'''\n",
    "\n",
    "(base) knh@gnode5:~/workspace$ python\n",
    "Python 3.7.0 (default, Jun 28 2018, 13:15:42)\n",
    "[GCC 7.2.0] :: Anaconda, Inc. on linux\n",
    "Type \"help\", \"copyright\", \"credits\" or \"license\" for more information.\n",
    ">>> import mod2\n",
    ">>> print(mod2.PI)\n",
    "3.141592\n",
    "\n",
    ">>> a = mod2.Math()\n",
    ">>> print(a.solv(2))\n",
    "12.566368\n",
    "\n",
    ">>> print(mod2.add(mod2.PI, 4.4))\n",
    "7.5415920000000005\n",
    "\n",
    "'''"
   ]
  },
  {
   "attachments": {},
   "cell_type": "markdown",
   "metadata": {},
   "source": [
    "* 다른 파일에서 모듈 불러오기\n",
    ">  - 지금까지는 만들어 놓은 모듈 파일을 사용하기 위해 대화형 인터프리터 사용\n",
    ">  - 다른 파이썬 파일에서 이전에 만들어 놓은 모듈을 불러와 사용하기\n",
    ">  - 대화형 인터프리터에서 한 것과 동일한 방법\n",
    ">  - modtest.py 파일과 mod2.py 파일이 동일한 디렉터리에 있어야 함"
   ]
  },
  {
   "cell_type": "code",
   "execution_count": 2,
   "metadata": {},
   "outputs": [
    {
     "name": "stdout",
     "output_type": "stream",
     "text": [
      "7\n"
     ]
    }
   ],
   "source": [
    "# modtest.py\n",
    "\n",
    "import mod2\n",
    "result = mod2.add(3, 4)\n",
    "print(result)\n",
    "\n",
    "'''\n",
    "\n",
    "(knh1) knh@gnode5:~$ /NasData/home/knh/anaconda3/envs/knh1/bin/python /NasData/home/knh/workspace/modtest.py\n",
    "7\n",
    "\n",
    "'''"
   ]
  },
  {
   "attachments": {},
   "cell_type": "markdown",
   "metadata": {},
   "source": [
    "* 다른 디렉터리에 있는 모듈 불러오는 방법\n",
    ">  - 지금까지 해당 모듈이 있는 디렉터리로 이동해서, 모듈을 사용\n",
    ">  - 모듈 저장한 디렉터리로 이동하지 않고, 모듈 불러와 사용하기"
   ]
  },
  {
   "cell_type": "code",
   "execution_count": null,
   "metadata": {},
   "outputs": [],
   "source": [
    "'''\n",
    "\n",
    "이전에 만든 mod2.py 파일을 /NasData/home/knh/workspace/mymod 로 이동시키기\n",
    "\n",
    "(base) knh@gnode5:~$ cd /NasData/home/knh/workspace/\n",
    "(base) knh@gnode5:~/workspace$ mkdir mymod\n",
    "(base) knh@gnode5:~/workspace$ mv mod2.py mymod\n",
    "\n",
    "'''"
   ]
  },
  {
   "attachments": {},
   "cell_type": "markdown",
   "metadata": {},
   "source": [
    "* sys.path.append 사용"
   ]
  },
  {
   "cell_type": "code",
   "execution_count": null,
   "metadata": {},
   "outputs": [],
   "source": [
    "'''\n",
    "\n",
    "(base) knh@gnode5:~$ cd /NasData/home/knh/workspace/\n",
    "(base) knh@gnode5:~/workspace$ python\n",
    "Python 3.7.0 (default, Jun 28 2018, 13:15:42)\n",
    "[GCC 7.2.0] :: Anaconda, Inc. on linux\n",
    "Type \"help\", \"copyright\", \"credits\" or \"license\" for more information.\n",
    ">>> import sys\n",
    "\n",
    "# sys 모듈은 파이썬을 설치할 때, 함께 설치되는 라이브러리 모듈\n",
    "# sys 모듈을 불러옴\n",
    "# sys 모듈은 인터프리터가 제공하는 변수와 함수를 직접 제어하기 위해 사용\n",
    "\n",
    ">>> sys.path\n",
    "['', '/NasData/home/knh/anaconda3/lib/python37.zip', '/NasData/home/knh/anaconda3/lib/python3.7', '/NasData/home/knh/anaconda3/lib/python3.7/lib-dynload', '/NasData/home/knh/anaconda3/lib/python3.7/site-packages']\n",
    "\n",
    "# sys.path는 파이썬 라이브러리가 설치되어 있는 디렉터리 목록을 보여줌\n",
    "# 디렉터리 안에 저장된 파이썬 모듈은 모듈이 저장된 디렉터리로 이동할 필요 없이 바로 불러 사용 가능\n",
    "# sys.path에 /NasData/home/knh/workspace/mymod 디렉터리 추가하면, mymod 디렉터리에 저장된 파이썬 모듈을 아무 곳에서나 불러서 사용 가능\n",
    "\n",
    ">>> sys.path.append(\"/NasData/home/knh/workspace/mymod\")\n",
    ">>> sys.path\n",
    "['', '/NasData/home/knh/anaconda3/lib/python37.zip', '/NasData/home/knh/anaconda3/lib/python3.7', '/NasData/home/knh/anaconda3/lib/python3.7/lib-dynload', '/NasData/home/knh/anaconda3/lib/python3.7/site-packages', '/NasData/home/knh/workspace/mymod']\n",
    "\n",
    "# sys.path.append 사용해 /NasData/home/knh/workspace/mymod 디렉터리 sys.path에 추가\n",
    "# sys.path 출력 시, 마지막에 /NasData/home/knh/workspace/mymod 디렉터리 추가된 것 확인 가능\n",
    "\n",
    "'''\n",
    "\n",
    "'''\n",
    "\n",
    ">>> import mod2\n",
    ">>> print(mod2.add(3,4))\n",
    "7\n",
    "\n",
    "# 디렉터리 이동 없이 바로 모듈 불러와 사용 가능\n",
    "\n",
    "'''\n",
    "\n"
   ]
  },
  {
   "attachments": {},
   "cell_type": "markdown",
   "metadata": {},
   "source": [
    "* PYTHONPATH 환경 변수 \n",
    ">  - 모듈을 불러와서 사용하는 또 다른 방법\n",
    ">  - set 명령어 사용해(윈도우), PYTHONPATH 환경 변수에 mod2.py 파일이 있는 /NasData/home/knh/workspace/mymod 디렉터리 설정\n",
    ">  - 디렉터리 이동이나 별도의 모듈 추가 작업 없이 mymod 디렉터리에 저장된 mod2 모듈 불러와 사용 가능\n",
    ">  - set 대신 export 명령 사용(리눅스)"
   ]
  },
  {
   "cell_type": "code",
   "execution_count": null,
   "metadata": {},
   "outputs": [],
   "source": [
    "'''\n",
    "\n",
    "(base) knh@gnode5:~$ cd /NasData/home/knh/workspace/\n",
    "(base) knh@gnode5:~/workspace$ export PYTHONPATH=/NasData/home/knh/workspace/mymod\n",
    "(base) knh@gnode5:~/workspace$ python\n",
    "Python 3.7.0 (default, Jun 28 2018, 13:15:42)\n",
    "[GCC 7.2.0] :: Anaconda, Inc. on linux\n",
    "Type \"help\", \"copyright\", \"credits\" or \"license\" for more information.\n",
    ">>> import mod2\n",
    ">>> print(mod2.add(3,4))\n",
    "7\n",
    "\n",
    "'''"
   ]
  }
 ],
 "metadata": {
  "kernelspec": {
   "display_name": "knh1",
   "language": "python",
   "name": "python3"
  },
  "language_info": {
   "codemirror_mode": {
    "name": "ipython",
    "version": 3
   },
   "file_extension": ".py",
   "mimetype": "text/x-python",
   "name": "python",
   "nbconvert_exporter": "python",
   "pygments_lexer": "ipython3",
   "version": "3.8.17"
  },
  "orig_nbformat": 4
 },
 "nbformat": 4,
 "nbformat_minor": 2
}
