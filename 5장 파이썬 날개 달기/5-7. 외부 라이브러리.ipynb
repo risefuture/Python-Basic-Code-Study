{
 "cells": [
  {
   "attachments": {},
   "cell_type": "markdown",
   "metadata": {},
   "source": [
    "Jump to python\n",
    "=="
   ]
  },
  {
   "attachments": {},
   "cell_type": "markdown",
   "metadata": {},
   "source": [
    "외부 라이브러리\n",
    "--"
   ]
  },
  {
   "attachments": {},
   "cell_type": "markdown",
   "metadata": {},
   "source": [
    "* 파이썬 표준 라이브러리\n",
    ">  - 파이썬 설치 시, 기본으로 설치되는 라이브러리"
   ]
  },
  {
   "attachments": {},
   "cell_type": "markdown",
   "metadata": {},
   "source": [
    "* 외부 라이브러리\n",
    ">  - 파이썬 표준 라이브러리가 아님\n",
    ">  - pip 도구 이용해, 설치해야 함"
   ]
  },
  {
   "attachments": {},
   "cell_type": "markdown",
   "metadata": {},
   "source": [
    "* pip\n",
    ">  - 파이썬 모듈이나 패키지를 쉽게 설치할 수 있도록 도와줌\n",
    ">  - 의존성 있는 모듈이나 패키지를 함께 설치해주어 편리\n",
    ">  - B라는 파이썬 패키지를 설치할 때, A라는 패키지가 먼저 설치되어야 하는 규칙이라면 pip 이용해 B 패키지를 설치할 때, A 패키지도 자동으로 함께 설치됨"
   ]
  },
  {
   "attachments": {},
   "cell_type": "markdown",
   "metadata": {},
   "source": [
    "* pip install\n",
    ">  - PyPI(python package index)는 파이썬 소프트웨어가 모인 저장 공간\n",
    ">  - pip install SomePackage\n",
    ">  - SomePackage는 내려받을 수 있는 특정 패키지"
   ]
  },
  {
   "attachments": {},
   "cell_type": "markdown",
   "metadata": {},
   "source": [
    "* pip uninstall\n",
    ">  - 설치한 패키지 삭제\n",
    ">  - pip uninstall SomePackage"
   ]
  },
  {
   "attachments": {},
   "cell_type": "markdown",
   "metadata": {},
   "source": [
    "* 특정 버전으로 설치\n",
    ">  - pip install SomePackage==1.0.4\n",
    ">  - 1.0.4 버전의 SomePackage 설치"
   ]
  },
  {
   "attachments": {},
   "cell_type": "markdown",
   "metadata": {},
   "source": [
    ">  - pip install SomePackage\n",
    ">  - 버전 생략 시, 최신 버전 설치"
   ]
  },
  {
   "attachments": {},
   "cell_type": "markdown",
   "metadata": {},
   "source": [
    "* 최신 버전으로 업그레이드\n",
    ">  - --upgrade 옵션 사용\n",
    ">  - pip install --upgrade SomePackage"
   ]
  },
  {
   "attachments": {},
   "cell_type": "markdown",
   "metadata": {},
   "source": [
    "* 설치된 패키지 확인\n",
    ">  - pip list\n",
    ">  - 설치한 패키지 목록 출력"
   ]
  },
  {
   "cell_type": "code",
   "execution_count": null,
   "metadata": {},
   "outputs": [],
   "source": [
    "'''\n",
    "\n",
    "Package            Version\n",
    "------------------ -------\n",
    "asttokens          2.0.5\n",
    "backcall           0.2.0\n",
    "comm               0.1.2\n",
    "debugpy            1.5.1\n",
    "decorator          5.1.1\n",
    "executing          0.8.3\n",
    "importlib-metadata 6.0.0\n",
    "ipykernel          6.19.2\n",
    "ipython            8.12.0\n",
    "jedi               0.18.1\n",
    "jupyter_client     8.1.0\n",
    "jupyter_core       5.3.0\n",
    "matplotlib-inline  0.1.6\n",
    "nest-asyncio       1.5.6\n",
    "packaging          23.0\n",
    "parso              0.8.3\n",
    "pexpect            4.8.0\n",
    "pickleshare        0.7.5\n",
    "pip                23.1.2\n",
    "platformdirs       2.5.2\n",
    "prompt-toolkit     3.0.36\n",
    "psutil             5.9.0\n",
    "ptyprocess         0.7.0\n",
    "pure-eval          0.2.2\n",
    "Pygments           2.15.1\n",
    "python-dateutil    2.8.2\n",
    "pyzmq              25.1.0\n",
    "setuptools         67.8.0\n",
    "six                1.16.0\n",
    "stack-data         0.2.0\n",
    "tornado            6.2\n",
    "traitlets          5.7.1\n",
    "typing_extensions  4.6.3\n",
    "wcwidth            0.2.5\n",
    "wheel              0.38.4\n",
    "zipp               3.11.0\n",
    "\n",
    "'''"
   ]
  },
  {
   "attachments": {},
   "cell_type": "markdown",
   "metadata": {},
   "source": [
    "* Faker\n",
    ">  - Faker는 테스트용 가짜 데이터를 생성할 때 사용하는 라이브러리"
   ]
  },
  {
   "attachments": {},
   "cell_type": "markdown",
   "metadata": {},
   "source": [
    ">>  - 외부 라이브러리 중 하나인 Faker 설치하고 사용하기"
   ]
  },
  {
   "cell_type": "code",
   "execution_count": null,
   "metadata": {},
   "outputs": [],
   "source": [
    "# pip 이용해 Faker 라이브러리 설치\n",
    "\n",
    "'''\n",
    "\n",
    "(py3.9) knh@gnode5:~$ pip install Faker\n",
    "Collecting Faker\n",
    "  Downloading Faker-18.11.1-py3-none-any.whl (1.7 MB)\n",
    "     ━━━━━━━━━━━━━━━━━━━━━━━━━━━━━━━━━━━━━━━━ 1.7/1.7 MB 12.6 MB/s eta 0:00:00\n",
    "Requirement already satisfied: python-dateutil>=2.4 in ./anaconda3/envs/py3.9/lib/python3.9/site-packages (from Faker) (2.8.2)\n",
    "Requirement already satisfied: six>=1.5 in ./anaconda3/envs/py3.9/lib/python3.9/site-packages (from python-dateutil>=2.4->Faker) (1.16.0)\n",
    "Installing collected packages: Faker\n",
    "Successfully installed Faker-18.11.1\n",
    "\n",
    "'''"
   ]
  },
  {
   "attachments": {},
   "cell_type": "markdown",
   "metadata": {},
   "source": [
    ">>  - Faker 사용해 보기\n",
    ">>>  - [(이름1, 주소1), (이름2, 주소2), ..., (이름30, 주소30)]\n",
    ">>>  - 다음과 같은 형식의 테스트 데이터 30건이 필요할 때\n",
    ">>>  - 직접 데이터를 작성하지 않고, Faker 이용해 테스트 데이터를 만들어보자"
   ]
  },
  {
   "cell_type": "code",
   "execution_count": 3,
   "metadata": {},
   "outputs": [
    {
     "data": {
      "text/plain": [
       "'Victoria Vang'"
      ]
     },
     "execution_count": 3,
     "metadata": {},
     "output_type": "execute_result"
    }
   ],
   "source": [
    "from faker import Faker\n",
    "\n",
    "fake = Faker()\n",
    "fake.name()"
   ]
  },
  {
   "attachments": {},
   "cell_type": "markdown",
   "metadata": {},
   "source": [
    ">>  - 한글 이름이 필요할 때\n",
    ">>>  - 한국을 의미하는 ko-KR 전달해, fake 객체 생성"
   ]
  },
  {
   "cell_type": "code",
   "execution_count": 4,
   "metadata": {},
   "outputs": [
    {
     "data": {
      "text/plain": [
       "'김상훈'"
      ]
     },
     "execution_count": 4,
     "metadata": {},
     "output_type": "execute_result"
    }
   ],
   "source": [
    "fake = Faker('ko-KR')\n",
    "fake.name()"
   ]
  },
  {
   "attachments": {},
   "cell_type": "markdown",
   "metadata": {},
   "source": [
    ">>  - 주소 생성"
   ]
  },
  {
   "cell_type": "code",
   "execution_count": 5,
   "metadata": {},
   "outputs": [
    {
     "data": {
      "text/plain": [
       "'경상북도 용인시 처인구 언주로'"
      ]
     },
     "execution_count": 5,
     "metadata": {},
     "output_type": "execute_result"
    }
   ],
   "source": [
    "fake.address()"
   ]
  },
  {
   "attachments": {},
   "cell_type": "markdown",
   "metadata": {},
   "source": [
    ">> - 이름과 주소를 쌍으로 하는 30건의 테스트 데이터 생성"
   ]
  },
  {
   "cell_type": "code",
   "execution_count": 6,
   "metadata": {},
   "outputs": [],
   "source": [
    "test_data = [(fake.name(), fake.address()) for i in range(30)]"
   ]
  },
  {
   "cell_type": "code",
   "execution_count": 7,
   "metadata": {},
   "outputs": [
    {
     "data": {
      "text/plain": [
       "[('김서현', '세종특별자치시 중랑구 석촌호수19길'),\n",
       " ('손아름', '부산광역시 구로구 백제고분8로 (승민김박동)'),\n",
       " ('차지민', '광주광역시 동작구 테헤란로'),\n",
       " ('이영환', '대구광역시 종로구 양재천길'),\n",
       " ('이재호', '충청북도 보령시 반포대2가 (정순김이동)'),\n",
       " ('장영수', '강원도 고양시 일산서구 논현거리 (진우주리)'),\n",
       " ('김미숙', '경상북도 부천시 개포길 (정호서김리)'),\n",
       " ('장순자', '인천광역시 금천구 백제고분6거리'),\n",
       " ('김중수', '서울특별시 은평구 잠실거리 (정수문오리)'),\n",
       " ('김미정', '서울특별시 성동구 도산대9길'),\n",
       " ('오수빈', '인천광역시 남구 영동대거리'),\n",
       " ('김성현', '부산광역시 종로구 반포대24가 (옥자이이동)'),\n",
       " ('최영자', '전라북도 홍성군 도산대로'),\n",
       " ('김수빈', '대구광역시 중구 논현로 (성민구허면)'),\n",
       " ('권광수', '경상남도 수원시 장안구 서초대462로 (영수김읍)'),\n",
       " ('김준혁', '경상남도 고성군 가락거리'),\n",
       " ('김정훈', '대구광역시 강서구 영동대로 (은정이면)'),\n",
       " ('권서영', '충청남도 태안군 언주가 (성민오면)'),\n",
       " ('오승현', '서울특별시 강동구 가락길 (영미김동)'),\n",
       " ('노은경', '서울특별시 양천구 논현거리 (민서김리)'),\n",
       " ('허성호', '광주광역시 남구 압구정841로 (현우이읍)'),\n",
       " ('남미숙', '울산광역시 은평구 강남대759길 (영식황이마을)'),\n",
       " ('이지원', '부산광역시 강남구 반포대가 (정남이윤리)'),\n",
       " ('최예준', '서울특별시 마포구 역삼0가 (수진강박마을)'),\n",
       " ('구은영', '대구광역시 서구 강남대길 (민재조리)'),\n",
       " ('박재현', '인천광역시 은평구 테헤란49거리'),\n",
       " ('김순옥', '전라남도 속초시 양재천254로 (성호이읍)'),\n",
       " ('김성진', '서울특별시 성북구 학동983가'),\n",
       " ('김하윤', '충청북도 안양시 만안구 서초대가'),\n",
       " ('최예준', '강원도 용인시 수지구 반포대로')]"
      ]
     },
     "execution_count": 7,
     "metadata": {},
     "output_type": "execute_result"
    }
   ],
   "source": [
    "test_data"
   ]
  },
  {
   "attachments": {},
   "cell_type": "markdown",
   "metadata": {},
   "source": [
    "* Faker 활용\n",
    ">  - fake.name( ) : 이름\n",
    ">  - fake.address( ) : 주소\n",
    ">  - fake.postcode( ) : 우편 번호\n",
    ">  - fake.country( ) : 국가명\n",
    ">  - fake.company( ) : 회사명\n",
    ">  - fake.job( ) : 직업명\n",
    ">  - fake.phone_number( ) : 휴대전화 번호\n",
    ">  - fake.email( ) : 이메일 주소\n",
    ">  - fake.user_name( ) : 사용자명\n",
    ">  - fake.pyint(min_value=0, max_value=100) : 0부터 100 사이의 임의의 숫자\n",
    ">  - fake.ipv4_private( ) : IP 주소\n",
    ">  - fake.text( ) : 임의의 문장 (한글 임의의 문장은 fake.catch_phrase( ) 사용)\n",
    ">  - fake.color_name( ) : 색상명"
   ]
  },
  {
   "attachments": {},
   "cell_type": "markdown",
   "metadata": {},
   "source": [
    "* sympy\n",
    ">  - 방정식 기호(symbol) 사용하게 해 주는 외부 라이브러리"
   ]
  },
  {
   "cell_type": "code",
   "execution_count": null,
   "metadata": {},
   "outputs": [],
   "source": [
    "'''\n",
    "\n",
    "(py3.9) knh@gnode5:~$ pip install sympy\n",
    "Collecting sympy\n",
    "  Using cached sympy-1.12-py3-none-any.whl (5.7 MB)\n",
    "Collecting mpmath>=0.19 (from sympy)\n",
    "  Using cached mpmath-1.3.0-py3-none-any.whl (536 kB)\n",
    "Installing collected packages: mpmath, sympy\n",
    "Successfully installed mpmath-1.3.0 sympy-1.12\n",
    "\n",
    "'''"
   ]
  },
  {
   "attachments": {},
   "cell_type": "markdown",
   "metadata": {},
   "source": [
    ">  - sympy 사용해 보기\n",
    ">>  - 시윤이는 가진 돈의 2/5로 학용품을 삼. 학용품 사는 데 쓴 돈이 1,760원이라면 남은 돈은 어떻게 구할까? (일차방정식 문제)\n",
    ">>  - sympy.symbols( )는 x처럼 방정식에 사용하는 미지수를 나타내는 기호를 생성할 때 사용\n",
    ">>  - sympy.Eq(a, b) : a와 b가 같다는 방정식\n",
    ">>  - Fraction은 유리수를 표현할 때, 사용하는 표준 라이브러리. 2/5를 정확하게 계산하고자 사용"
   ]
  },
  {
   "cell_type": "code",
   "execution_count": 10,
   "metadata": {},
   "outputs": [],
   "source": [
    "from fractions import Fraction\n",
    "import sympy\n",
    "\n",
    "# 시윤이가 가진 돈 = x\n",
    "\n",
    "x = sympy.symbols(\"x\")"
   ]
  },
  {
   "attachments": {},
   "cell_type": "markdown",
   "metadata": {},
   "source": [
    ">>  - 여러 개 기호 사용\n",
    ">>>  - x, y 2개의 미지수 필요 시\n",
    ">>>  - x, y = sympy.symbols('x y')"
   ]
  },
  {
   "cell_type": "code",
   "execution_count": 11,
   "metadata": {},
   "outputs": [],
   "source": [
    "# 시윤이가 가진 돈의 2/5는 1,760원\n",
    "# x * (2/5) = 1760\n",
    "\n",
    "f = sympy.Eq(x*Fraction('2/5'), 1760)"
   ]
  },
  {
   "cell_type": "code",
   "execution_count": 12,
   "metadata": {},
   "outputs": [
    {
     "data": {
      "text/plain": [
       "[4400]"
      ]
     },
     "execution_count": 12,
     "metadata": {},
     "output_type": "execute_result"
    }
   ],
   "source": [
    "# f 라는 방정식을 세웠음\n",
    "# sympy.solve(f) 로 x에 해당하는 값 구할 수 있음\n",
    "\n",
    "result = sympy.solve(f)\n",
    "result"
   ]
  },
  {
   "cell_type": "code",
   "execution_count": 13,
   "metadata": {},
   "outputs": [
    {
     "data": {
      "text/latex": [
       "$\\displaystyle 2640$"
      ],
      "text/plain": [
       "2640"
      ]
     },
     "execution_count": 13,
     "metadata": {},
     "output_type": "execute_result"
    }
   ],
   "source": [
    "# 방정식의 해는 여러 개일 수 있음\n",
    "# solve() 함수는 결괏값으로 리스트 리턴\n",
    "\n",
    "# result를 확인하면, 시윤이가 원래 가진 돈은 4,400원\n",
    "# 남은 돈은 가진 돈에서 1,760원 빼면 됨\n",
    "\n",
    "remains = result[0] - 1760\n",
    "remains"
   ]
  },
  {
   "cell_type": "code",
   "execution_count": 14,
   "metadata": {},
   "outputs": [
    {
     "name": "stdout",
     "output_type": "stream",
     "text": [
      "남은 돈은 2640원 입니다.\n"
     ]
    }
   ],
   "source": [
    "# 지금까지 내용 종합 풀이\n",
    "\n",
    "# sympy_test.py\n",
    "\n",
    "from fractions import Fraction\n",
    "import sympy\n",
    "\n",
    "# 가지고 있던 돈을 x라고 정의\n",
    "x = sympy.symbols(\"x\")\n",
    "\n",
    "# 가지고 있던 돈의 2/5가 1760원이므로 방정식은 x * (2/5) = 1760 임\n",
    "f = sympy.Eq(x*Fraction('2/5'), 1760)\n",
    "\n",
    "# 방정식을 만족하는 값(result) 구함\n",
    "result = sympy.solve(f) # 결괏값은 리스트로 리턴\n",
    "\n",
    "# 남은 돈은 다음과 같이 가지고 있던 돈에서 1760원을 빼면 됨\n",
    "remains = result[0] - 1760\n",
    "\n",
    "print('남은 돈은 {}원 입니다.'.format(remains))"
   ]
  },
  {
   "attachments": {},
   "cell_type": "markdown",
   "metadata": {},
   "source": [
    ">>  - fracions.Fraction으로 유리수 연산\n",
    ">>>  - 파이썬에서 유리수 연산을 정확하게 하려면, fractions.Fraction 사용해야 함"
   ]
  },
  {
   "attachments": {},
   "cell_type": "markdown",
   "metadata": {},
   "source": [
    ">>>  - 유리수는 Fraction(분자, 분모) 형태로 만들 수 있음"
   ]
  },
  {
   "cell_type": "code",
   "execution_count": 15,
   "metadata": {},
   "outputs": [
    {
     "data": {
      "text/plain": [
       "Fraction(1, 5)"
      ]
     },
     "execution_count": 15,
     "metadata": {},
     "output_type": "execute_result"
    }
   ],
   "source": [
    "from fractions import Fraction\n",
    "\n",
    "a = Fraction(1, 5)\n",
    "a"
   ]
  },
  {
   "attachments": {},
   "cell_type": "markdown",
   "metadata": {},
   "source": [
    ">>>  - Fraction('분자/분모')처럼 문자열로 만들 수 있음"
   ]
  },
  {
   "cell_type": "code",
   "execution_count": 16,
   "metadata": {},
   "outputs": [
    {
     "data": {
      "text/plain": [
       "Fraction(1, 5)"
      ]
     },
     "execution_count": 16,
     "metadata": {},
     "output_type": "execute_result"
    }
   ],
   "source": [
    "a = Fraction('1/5')\n",
    "a"
   ]
  },
  {
   "attachments": {},
   "cell_type": "markdown",
   "metadata": {},
   "source": [
    "* sympy 활용\n",
    ">  - x**2 = 1 같은 2차 방정식의 해 구하기"
   ]
  },
  {
   "cell_type": "code",
   "execution_count": 17,
   "metadata": {},
   "outputs": [
    {
     "data": {
      "text/plain": [
       "[-1, 1]"
      ]
     },
     "execution_count": 17,
     "metadata": {},
     "output_type": "execute_result"
    }
   ],
   "source": [
    "import sympy\n",
    "\n",
    "x = sympy.symbols(\"x\")\n",
    "\n",
    "f = sympy.Eq(x**2, 1)\n",
    "\n",
    "sympy.solve(f)"
   ]
  },
  {
   "attachments": {},
   "cell_type": "markdown",
   "metadata": {},
   "source": [
    ">  - 연립방정식의 해 구하기\n",
    ">>  - x + y = 10\n",
    ">>  - x - y = 4"
   ]
  },
  {
   "attachments": {},
   "cell_type": "markdown",
   "metadata": {},
   "source": [
    ">>  - 미지수가 2개 이상이면 결괏값은 리스트가 아닌 딕셔너리"
   ]
  },
  {
   "cell_type": "code",
   "execution_count": 18,
   "metadata": {},
   "outputs": [
    {
     "data": {
      "text/plain": [
       "{x: 7, y: 3}"
      ]
     },
     "execution_count": 18,
     "metadata": {},
     "output_type": "execute_result"
    }
   ],
   "source": [
    "import sympy\n",
    "\n",
    "x, y = sympy.symbols('x y')\n",
    "\n",
    "f1 = sympy.Eq(x+y, 10)\n",
    "\n",
    "f2 = sympy.Eq(x-y, 4)\n",
    "\n",
    "sympy.solve([f1, f2])"
   ]
  }
 ],
 "metadata": {
  "kernelspec": {
   "display_name": "py3.9",
   "language": "python",
   "name": "python3"
  },
  "language_info": {
   "codemirror_mode": {
    "name": "ipython",
    "version": 3
   },
   "file_extension": ".py",
   "mimetype": "text/x-python",
   "name": "python",
   "nbconvert_exporter": "python",
   "pygments_lexer": "ipython3",
   "version": "3.9.16"
  },
  "orig_nbformat": 4
 },
 "nbformat": 4,
 "nbformat_minor": 2
}
