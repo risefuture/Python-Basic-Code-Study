{
 "cells": [
  {
   "attachments": {},
   "cell_type": "markdown",
   "metadata": {},
   "source": [
    "Jump to python\n",
    "=="
   ]
  },
  {
   "attachments": {},
   "cell_type": "markdown",
   "metadata": {},
   "source": [
    "표준 라이브러리\n",
    "--"
   ]
  },
  {
   "attachments": {},
   "cell_type": "markdown",
   "metadata": {},
   "source": [
    "* 파이썬 표준 라이브러리\n",
    ">  - 유용한 파이썬 프로그램을 모아 놓은 것\n",
    ">  - '라이브러리' = '도서관' 으로 원하는 정보를 찾아보는 곳\n",
    ">  - 어떤 일을 할 때, 어떤 라이브러리를 사용해야 하는지 알아야 함"
   ]
  },
  {
   "attachments": {},
   "cell_type": "markdown",
   "metadata": {},
   "source": [
    ">  - 파이썬 표준 라이브러리는 파이썬 설치 시, 자동으로 컴퓨터에 설치됨\n",
    ">  - sys, re 모듈은 파이썬의 중요한 표준 라이브러리"
   ]
  },
  {
   "attachments": {},
   "cell_type": "markdown",
   "metadata": {},
   "source": [
    "* datetime.date\n",
    ">  - 연, 월, 일로 날짜 표현 시 사용하는 함수"
   ]
  },
  {
   "attachments": {},
   "cell_type": "markdown",
   "metadata": {},
   "source": [
    ">>  - A군과 B양이 2021년 12월 14일 부터 만나기 시작. 2023년 4월 5일은 둘이 사귄 지 며칠째 되는 날일까?\n",
    ">>  - 사귀기 시작한 2021년 12월 14일은 무슨 요일이었을까?"
   ]
  },
  {
   "cell_type": "code",
   "execution_count": 2,
   "metadata": {},
   "outputs": [],
   "source": [
    "import datetime\n",
    "day1 = datetime.date(2021, 12, 14)\n",
    "day2 = datetime.date(2023, 4, 5)\n",
    "\n",
    "# 연, 월, 일로 datetime.date 객체 만들기"
   ]
  },
  {
   "cell_type": "code",
   "execution_count": 6,
   "metadata": {},
   "outputs": [
    {
     "data": {
      "text/plain": [
       "477"
      ]
     },
     "execution_count": 6,
     "metadata": {},
     "output_type": "execute_result"
    }
   ],
   "source": [
    "diff = day2 - day1\n",
    "diff.days"
   ]
  },
  {
   "attachments": {},
   "cell_type": "markdown",
   "metadata": {},
   "source": [
    ">>  - day2에서 day1을 빼면, datatime 모듈의 timedelta 객체가 리턴"
   ]
  },
  {
   "cell_type": "code",
   "execution_count": 7,
   "metadata": {},
   "outputs": [
    {
     "data": {
      "text/plain": [
       "datetime.timedelta"
      ]
     },
     "execution_count": 7,
     "metadata": {},
     "output_type": "execute_result"
    }
   ],
   "source": [
    "type(diff)"
   ]
  },
  {
   "attachments": {},
   "cell_type": "markdown",
   "metadata": {},
   "source": [
    ">>  - 요일은 datatime.date 객체의 weekday 함수 사용\n",
    ">>  - 0은 월요일, 1은 화요일... 6은 일요일"
   ]
  },
  {
   "cell_type": "code",
   "execution_count": 9,
   "metadata": {},
   "outputs": [
    {
     "data": {
      "text/plain": [
       "1"
      ]
     },
     "execution_count": 9,
     "metadata": {},
     "output_type": "execute_result"
    }
   ],
   "source": [
    "day = datetime.date(2021, 12, 14)\n",
    "day.weekday()"
   ]
  },
  {
   "attachments": {},
   "cell_type": "markdown",
   "metadata": {},
   "source": [
    ">>  - isoweekday 함수로 1은 월요일, 2는 화요일... 7은 일요일 리턴"
   ]
  },
  {
   "cell_type": "code",
   "execution_count": 10,
   "metadata": {},
   "outputs": [
    {
     "data": {
      "text/plain": [
       "2"
      ]
     },
     "execution_count": 10,
     "metadata": {},
     "output_type": "execute_result"
    }
   ],
   "source": [
    "day.isoweekday()"
   ]
  },
  {
   "attachments": {},
   "cell_type": "markdown",
   "metadata": {},
   "source": [
    "* time 모듈의 함수 알아보기"
   ]
  },
  {
   "attachments": {},
   "cell_type": "markdown",
   "metadata": {},
   "source": [
    "* time.time()\n",
    ">  - UTC(universal time coordinated, 협정 세계 표준시)를 사용해, 현재 시간을 실수 형태로 리턴"
   ]
  },
  {
   "cell_type": "code",
   "execution_count": 12,
   "metadata": {},
   "outputs": [
    {
     "data": {
      "text/plain": [
       "1687776484.8979087"
      ]
     },
     "execution_count": 12,
     "metadata": {},
     "output_type": "execute_result"
    }
   ],
   "source": [
    "import time\n",
    "\n",
    "time.time()"
   ]
  },
  {
   "attachments": {},
   "cell_type": "markdown",
   "metadata": {},
   "source": [
    "* time.localtime\n",
    ">  - time.localtime은 time.time()이 리턴한 실숫값을 사용해, 연, 월, 일, 시, 분, 초...의 형태로 바꾸어 줌"
   ]
  },
  {
   "cell_type": "code",
   "execution_count": 13,
   "metadata": {},
   "outputs": [
    {
     "data": {
      "text/plain": [
       "time.struct_time(tm_year=2023, tm_mon=6, tm_mday=26, tm_hour=19, tm_min=48, tm_sec=59, tm_wday=0, tm_yday=177, tm_isdst=0)"
      ]
     },
     "execution_count": 13,
     "metadata": {},
     "output_type": "execute_result"
    }
   ],
   "source": [
    "time.localtime(time.time())"
   ]
  },
  {
   "attachments": {},
   "cell_type": "markdown",
   "metadata": {},
   "source": [
    "* time.asctime\n",
    ">  - time.asctime은 time.localtime가 리턴된 튜플 형태의 값을 인수로 받아, 날짜와 시간을 알아보기 쉬운 형태로 리턴하는 함수"
   ]
  },
  {
   "cell_type": "code",
   "execution_count": 14,
   "metadata": {},
   "outputs": [
    {
     "data": {
      "text/plain": [
       "'Mon Jun 26 19:51:18 2023'"
      ]
     },
     "execution_count": 14,
     "metadata": {},
     "output_type": "execute_result"
    }
   ],
   "source": [
    "time.asctime(time.localtime(time.time()))"
   ]
  },
  {
   "attachments": {},
   "cell_type": "markdown",
   "metadata": {},
   "source": [
    "* time.ctime\n",
    ">  - time.asctime(time.localtime(time.time()))은 time.ctime()으로 표시 가능\n",
    ">  - asctime과 다른 점 : 항상 현재 시간만 리턴"
   ]
  },
  {
   "cell_type": "code",
   "execution_count": 15,
   "metadata": {},
   "outputs": [
    {
     "data": {
      "text/plain": [
       "'Mon Jun 26 19:52:21 2023'"
      ]
     },
     "execution_count": 15,
     "metadata": {},
     "output_type": "execute_result"
    }
   ],
   "source": [
    "time.ctime()"
   ]
  },
  {
   "attachments": {},
   "cell_type": "markdown",
   "metadata": {},
   "source": [
    "* time.strftime\n",
    ">  - strftime 함수는 시간에 관계된 것을 세밀하게 표현하는 여러 포맷 코드 제공\n",
    ">  - time.strftime('출력할 형식 포맷 코드', time.localtime(time.time()))"
   ]
  },
  {
   "cell_type": "code",
   "execution_count": null,
   "metadata": {},
   "outputs": [],
   "source": [
    "time.strftime('출력할 형식 포맷 코드', time.localtime(time.time()))"
   ]
  },
  {
   "attachments": {},
   "cell_type": "markdown",
   "metadata": {},
   "source": [
    "* 시간에 관계된 것을 표현하는 포맷 코드\n",
    ">  - %a : 요일의 줄임말 ex. Mon\n",
    ">  - %A : 요일 ex. Monday\n",
    ">  - %b : 달의 줄임말 ex. Jan\n",
    ">  - %B : 달 ex. January\n",
    ">  - %c : 날짜와 시간을 출력 ex. Thu May 25 10:13:52 2023\n",
    ">  - %d : 일(day) ex. [01,31]\n",
    ">  - %H : 시간(hour) 24시간 출력 형태 ex. [00,23]\n",
    ">  - %I : 시간(hour) 12시간 출력 형태 ex. [01,12]\n",
    ">  - %j : 1년 중 누적 날짜 ex. [001,366]\n",
    ">  - %m : 달 ex. [01,12]\n",
    ">  - %M : 분 ex. [01, 59]\n",
    ">  - %p : AM or PM ex. AM\n",
    ">  - %S : 초 ex. [00,59]\n",
    ">  - %U : 1년 중 누적 주(일요일 시작) ex. [00,53]\n",
    ">  - %w : 숫자로 된 요일 ex. [0(일), 6(토)]\n",
    ">  - %W : 1년 중 누적 주(월요일 시작) ex.[00,53]\n",
    ">  - %x : 현재 설정된 지역에 기반한 날짜 출력 ex. 05/25/23\n",
    ">  - %X : 현재 설정된 지역에 기반한 날짜 출력 ex. 17:22:21\n",
    ">  - %Y : 연도 출력 ex. 2023\n",
    ">  - %Z : 시간대 출력 ex. 대한민국 표준시\n",
    ">  - %% : 문자 % ex. %\n",
    ">  - %y : 세기 부분을 제외한 연도 출력 ex. 01"
   ]
  },
  {
   "cell_type": "code",
   "execution_count": 18,
   "metadata": {},
   "outputs": [
    {
     "data": {
      "text/plain": [
       "'06/26/23'"
      ]
     },
     "execution_count": 18,
     "metadata": {},
     "output_type": "execute_result"
    }
   ],
   "source": [
    "import time\n",
    "time.strftime('%x', time.localtime(time.time()))"
   ]
  },
  {
   "cell_type": "code",
   "execution_count": 19,
   "metadata": {},
   "outputs": [
    {
     "data": {
      "text/plain": [
       "'Mon Jun 26 21:20:04 2023'"
      ]
     },
     "execution_count": 19,
     "metadata": {},
     "output_type": "execute_result"
    }
   ],
   "source": [
    "time.strftime('%c', time.localtime(time.time()))"
   ]
  },
  {
   "attachments": {},
   "cell_type": "markdown",
   "metadata": {},
   "source": [
    "* time.sleep\n",
    ">  - 주로 루프 안에서 많이 사용\n",
    ">  - 일정한 시간 간격을 두고 루프 실행 가능\n",
    ">  - time.sleep 함수의 인수는 실수 형태"
   ]
  },
  {
   "cell_type": "code",
   "execution_count": 21,
   "metadata": {},
   "outputs": [
    {
     "name": "stdout",
     "output_type": "stream",
     "text": [
      "0\n",
      "1\n",
      "2\n",
      "3\n",
      "4\n",
      "5\n",
      "6\n",
      "7\n",
      "8\n",
      "9\n"
     ]
    }
   ],
   "source": [
    "# sleep1.py\n",
    "\n",
    "import time\n",
    "\n",
    "for i in range(10):\n",
    "    print(i)\n",
    "    time.sleep(1)\n",
    "\n",
    "# 1초 간격으로 0부터 9까지의 숫자 출력"
   ]
  },
  {
   "cell_type": "code",
   "execution_count": 22,
   "metadata": {},
   "outputs": [
    {
     "name": "stdout",
     "output_type": "stream",
     "text": [
      "0\n",
      "1\n",
      "2\n",
      "3\n",
      "4\n",
      "5\n",
      "6\n",
      "7\n",
      "8\n",
      "9\n"
     ]
    }
   ],
   "source": [
    "import time\n",
    "\n",
    "for i in range(10):\n",
    "    print(i)\n",
    "    time.sleep(0.5)"
   ]
  },
  {
   "attachments": {},
   "cell_type": "markdown",
   "metadata": {},
   "source": [
    "* 인수 없이 time 함수 사용\n",
    ">  - time.localtime, time.asctime, time.strftime 함수는 입력 인수 없이 사용 가능\n",
    ">  - 입력 인수 없이 사용 시, 현재 시각 기준으로 함수 수행"
   ]
  },
  {
   "cell_type": "code",
   "execution_count": 23,
   "metadata": {},
   "outputs": [
    {
     "data": {
      "text/plain": [
       "time.struct_time(tm_year=2023, tm_mon=6, tm_mday=26, tm_hour=21, tm_min=25, tm_sec=11, tm_wday=0, tm_yday=177, tm_isdst=0)"
      ]
     },
     "execution_count": 23,
     "metadata": {},
     "output_type": "execute_result"
    }
   ],
   "source": [
    "time.localtime()"
   ]
  },
  {
   "cell_type": "code",
   "execution_count": 24,
   "metadata": {},
   "outputs": [
    {
     "data": {
      "text/plain": [
       "'Mon Jun 26 21:25:20 2023'"
      ]
     },
     "execution_count": 24,
     "metadata": {},
     "output_type": "execute_result"
    }
   ],
   "source": [
    "time.asctime()"
   ]
  },
  {
   "cell_type": "code",
   "execution_count": 25,
   "metadata": {},
   "outputs": [
    {
     "data": {
      "text/plain": [
       "'Mon Jun 26 21:25:33 2023'"
      ]
     },
     "execution_count": 25,
     "metadata": {},
     "output_type": "execute_result"
    }
   ],
   "source": [
    "time.strftime('%c')"
   ]
  },
  {
   "attachments": {},
   "cell_type": "markdown",
   "metadata": {},
   "source": [
    "* math.gcd\n",
    ">  - 최대 공약수(gcd, greatest common divisor) 쉽게 구할 수 있음\n",
    ">  - 공약수? 두 수 이상의 여러 수의 공통된 약수. 공약수 중 가장 큰 수가 최대 공약수\n",
    ">  - ex. 30과 15의 약수는 1, 3, 5, 15. 최대 공약수는 15"
   ]
  },
  {
   "attachments": {},
   "cell_type": "markdown",
   "metadata": {},
   "source": [
    ">>  - 어린이집에서 사탕 60개, 초콜릿 100개, 젤리 80개 준비. 똑같이 나누어 봉지에 담을 때, 최대 몇 봉지까지 만들 수 있을까?"
   ]
  },
  {
   "cell_type": "code",
   "execution_count": 27,
   "metadata": {},
   "outputs": [
    {
     "ename": "TypeError",
     "evalue": "gcd expected 2 arguments, got 3",
     "output_type": "error",
     "traceback": [
      "\u001b[0;31m---------------------------------------------------------------------------\u001b[0m",
      "\u001b[0;31mTypeError\u001b[0m                                 Traceback (most recent call last)",
      "Cell \u001b[0;32mIn[27], line 3\u001b[0m\n\u001b[1;32m      1\u001b[0m \u001b[39mimport\u001b[39;00m \u001b[39mmath\u001b[39;00m\n\u001b[0;32m----> 3\u001b[0m math\u001b[39m.\u001b[39;49mgcd(\u001b[39m60\u001b[39;49m, \u001b[39m100\u001b[39;49m, \u001b[39m80\u001b[39;49m)\n",
      "\u001b[0;31mTypeError\u001b[0m: gcd expected 2 arguments, got 3"
     ]
    }
   ],
   "source": [
    "import math\n",
    "\n",
    "math.gcd(60, 100, 80)\n",
    "\n",
    "# python 3.9 미만 버전에서는 2개까지 허용되어 에러가 뜸\n",
    "\n",
    "'''\n",
    "\n",
    "(knh1) knh@gnode5:~$ python -V\n",
    "Python 3.8.17\n",
    "\n",
    "'''\n",
    "\n",
    "# python 3.9 버전 부터는 math.gcd에 여러 개의 인수 입력 가능"
   ]
  },
  {
   "cell_type": "code",
   "execution_count": 3,
   "metadata": {},
   "outputs": [
    {
     "data": {
      "text/plain": [
       "20"
      ]
     },
     "execution_count": 3,
     "metadata": {},
     "output_type": "execute_result"
    }
   ],
   "source": [
    "import math\n",
    "\n",
    "math.gcd(60, 100, 80)\n",
    "\n",
    "'''\n",
    "\n",
    "python 3.9 version인 가상환경 새로 만들자\n",
    "\n",
    "conda create -n py3.9 python=3.9\n",
    "\n",
    "(base) knh@gnode5:~$ conda activate py3.9                                                                                                                                                                                                                                                                  \n",
    "(py3.9) knh@gnode5:~$ \n",
    "\n",
    "'''"
   ]
  },
  {
   "cell_type": "code",
   "execution_count": 4,
   "metadata": {},
   "outputs": [
    {
     "data": {
      "text/plain": [
       "(3.0, 5.0, 4.0)"
      ]
     },
     "execution_count": 4,
     "metadata": {},
     "output_type": "execute_result"
    }
   ],
   "source": [
    "60/20, 100/20, 80/20"
   ]
  },
  {
   "attachments": {},
   "cell_type": "markdown",
   "metadata": {},
   "source": [
    "* math.lcm\n",
    ">  - 최소 공배수(lcm, least common multiple) 구할 때 사용\n",
    ">  - 최소 공배수란 두 수의 공통 배수 중 가장 작은 수\n",
    ">  - ex. 3과 5의 최소 공배수는 15"
   ]
  },
  {
   "attachments": {},
   "cell_type": "markdown",
   "metadata": {},
   "source": [
    ">>  - 버스 정류장에 시내버스는 15분마다 도착, 마을 버스는 25분마다 도착. 오후 1시에 두 버스 동시 도착. 두 버스 동시 도착할 다음 시각은?"
   ]
  },
  {
   "cell_type": "code",
   "execution_count": 5,
   "metadata": {},
   "outputs": [
    {
     "data": {
      "text/plain": [
       "75"
      ]
     },
     "execution_count": 5,
     "metadata": {},
     "output_type": "execute_result"
    }
   ],
   "source": [
    "import math\n",
    "\n",
    "math.lcm(15, 25)\n",
    "\n",
    "# 75분 후인 오후 2시 15분"
   ]
  },
  {
   "attachments": {},
   "cell_type": "markdown",
   "metadata": {},
   "source": [
    "* random\n",
    ">  - 난수(규칙이 없는 임의의 수) 발생시키는 모듈"
   ]
  },
  {
   "cell_type": "code",
   "execution_count": 8,
   "metadata": {},
   "outputs": [
    {
     "data": {
      "text/plain": [
       "0.48702385653011115"
      ]
     },
     "execution_count": 8,
     "metadata": {},
     "output_type": "execute_result"
    }
   ],
   "source": [
    "import random\n",
    "\n",
    "random.random()\n",
    "\n",
    "# 0.0에서 1.0 사이의 실수 중 난수 값 리턴"
   ]
  },
  {
   "cell_type": "code",
   "execution_count": 9,
   "metadata": {},
   "outputs": [
    {
     "data": {
      "text/plain": [
       "1"
      ]
     },
     "execution_count": 9,
     "metadata": {},
     "output_type": "execute_result"
    }
   ],
   "source": [
    "random.randint(1, 10)\n",
    "\n",
    "# 1에서 10 사이의 정수 중 난수 값 리턴"
   ]
  },
  {
   "cell_type": "code",
   "execution_count": 10,
   "metadata": {},
   "outputs": [
    {
     "data": {
      "text/plain": [
       "45"
      ]
     },
     "execution_count": 10,
     "metadata": {},
     "output_type": "execute_result"
    }
   ],
   "source": [
    "random.randint(1, 55)"
   ]
  },
  {
   "cell_type": "code",
   "execution_count": 11,
   "metadata": {},
   "outputs": [
    {
     "name": "stdout",
     "output_type": "stream",
     "text": [
      "2\n",
      "5\n",
      "4\n",
      "1\n",
      "3\n"
     ]
    }
   ],
   "source": [
    "# random_pop.py\n",
    "\n",
    "import random\n",
    "\n",
    "def random_pop(data):\n",
    "    number = random.randint(0, len(data)-1)\n",
    "    return data.pop(number)\n",
    "\n",
    "if __name__==\"__main__\":\n",
    "    data = [1, 2, 3, 4, 5]\n",
    "    while data:\n",
    "        print(random_pop(data))\n",
    "\n",
    "# random_pop 함수는 리스트의 요소 중 무작위로 하나 선택해 꺼내고, 그 값을 리턴\n",
    "# 꺼낸 요소는 pop 메서드에 의해 사라짐"
   ]
  },
  {
   "cell_type": "code",
   "execution_count": 13,
   "metadata": {},
   "outputs": [
    {
     "name": "stdout",
     "output_type": "stream",
     "text": [
      "1\n",
      "3\n",
      "4\n",
      "2\n",
      "5\n"
     ]
    }
   ],
   "source": [
    "import random\n",
    "\n",
    "def random_pop(data):\n",
    "    number = random.choice(data)\n",
    "    data.remove(number)\n",
    "    return number\n",
    "\n",
    "if __name__==\"__main__\":\n",
    "    data = [1, 2, 3, 4, 5]\n",
    "    while data:\n",
    "        print(random_pop(data))\n",
    "\n",
    "# random_pop 함수를 random 모듈의 choice 함수 사용해 만든 것\n",
    "# random.choice 함수는 입력으로 받은 리스트에서 무작위로 하나 선택해 리턴"
   ]
  },
  {
   "cell_type": "code",
   "execution_count": 14,
   "metadata": {},
   "outputs": [
    {
     "data": {
      "text/plain": [
       "[1, 3, 2, 5, 4]"
      ]
     },
     "execution_count": 14,
     "metadata": {},
     "output_type": "execute_result"
    }
   ],
   "source": [
    "# 리스트 항목 무작위로 섞고 싶을 때, random.sample 함수 사용\n",
    "\n",
    "import random\n",
    "\n",
    "data = [1, 2, 3, 4, 5]\n",
    "random.sample(data, len(data))\n",
    "\n",
    "# random.sample 두번 째 인수인 len(data)는 무작위로 추출한 원소의 개수를 의미"
   ]
  },
  {
   "cell_type": "code",
   "execution_count": 15,
   "metadata": {},
   "outputs": [
    {
     "data": {
      "text/plain": [
       "[5, 3, 1]"
      ]
     },
     "execution_count": 15,
     "metadata": {},
     "output_type": "execute_result"
    }
   ],
   "source": [
    "import random\n",
    "\n",
    "data = [1, 2, 3, 4, 5]\n",
    "random.sample(data, 3)"
   ]
  },
  {
   "attachments": {},
   "cell_type": "markdown",
   "metadata": {},
   "source": [
    "* itertools.zip_longest\n",
    ">  - itertools.zip_longest(*iterables, fillvalue=None) 함수는 같은 개수의 자료형을 묶는 파이썬 내장 함수인 zip 함수와 동일하게 동작\n",
    ">  - itertools.zip_longest() 함수는 전달한 반복 가능 객체(*iterables)의 길이가 다를 때, 긴 객체의 길이에 맞춰 fillvalue에 설정한 값을 짧은 객체에 채울 수 있음"
   ]
  },
  {
   "cell_type": "code",
   "execution_count": 16,
   "metadata": {},
   "outputs": [
    {
     "name": "stdout",
     "output_type": "stream",
     "text": [
      "[('한민서', '사탕'), ('황지민', '초콜릿'), ('이영철', '젤리')]\n"
     ]
    }
   ],
   "source": [
    "# itertools_zip.py\n",
    "\n",
    "students = ['한민서', '황지민', '이영철', '이광수', '김승민']\n",
    "snacks = ['사탕', '초콜릿', '젤리']\n",
    "\n",
    "result = zip(students, snacks)\n",
    "print(list(result))\n",
    "\n",
    "# students와 snacks의 요소 개수가 다르므로, 더 적은 snacks의 개수만큼만 zip()으로 묶임"
   ]
  },
  {
   "cell_type": "code",
   "execution_count": 17,
   "metadata": {},
   "outputs": [
    {
     "name": "stdout",
     "output_type": "stream",
     "text": [
      "[('한민서', '사탕'), ('황지민', '초콜릿'), ('이영철', '젤리'), ('이광수', '새우깡'), ('김승민', '새우깡')]\n"
     ]
    }
   ],
   "source": [
    "# students의 요소 개수가 snacks보다 많을 때, 그만큼을 '새우깡'으로 채우고 싶을 때\n",
    "# 요소 개수가 많은 것을 기준으로 자료형을 묶는 itertools.zip_longest()를 사용\n",
    "# 부족한 항목을 None으로 채우기 때문에, fillvalue 값을 '새우깡'으로 지정해 None 대신 다른 값으로 채움\n",
    "\n",
    "# itertools_zip.py\n",
    "\n",
    "import itertools\n",
    "\n",
    "students = ['한민서', '황지민', '이영철', '이광수', '김승민']\n",
    "snacks = ['사탕', '초콜릿', '젤리']\n",
    "\n",
    "result = itertools.zip_longest(students, snacks, fillvalue='새우깡')\n",
    "\n",
    "print(list(result))"
   ]
  },
  {
   "attachments": {},
   "cell_type": "markdown",
   "metadata": {},
   "source": [
    "* itertools.permutation\n",
    ">  - itertools.permutations(iterable, r)은 반복 가능 객체 중 r개 선택한 순열을 iterator로 리턴\n",
    ">  - iterator는 반복 가능한 객체\n"
   ]
  },
  {
   "attachments": {},
   "cell_type": "markdown",
   "metadata": {},
   "source": [
    ">>  - 1, 2, 3이라는 숫자가 적힌 3장의 카드에서 2장의 카드를 꺼내, 만들 수 있는 2자리 숫자를 모두 구하려면?"
   ]
  },
  {
   "attachments": {},
   "cell_type": "markdown",
   "metadata": {},
   "source": [
    ">>  - [1, 2, 3]이라는 3장의 카드 중 순서에 상관없이 2장을 뽑는 경우의 수는 모두 3가지 (조합)\n",
    ">>  - 1, 2\n",
    ">>  - 2, 3\n",
    ">>  - 1, 3"
   ]
  },
  {
   "attachments": {},
   "cell_type": "markdown",
   "metadata": {},
   "source": [
    ">>  - 2자리 숫자이므로, 이 3가지에 순서를 더해 6가지를 만들 수 있음(순열)\n",
    ">>  - 1,2\n",
    ">>  - 2,1\n",
    ">>  - 2,3\n",
    ">>  - 3,2\n",
    ">>  - 1,3\n",
    ">>  - 3,1"
   ]
  },
  {
   "cell_type": "code",
   "execution_count": 18,
   "metadata": {},
   "outputs": [
    {
     "data": {
      "text/plain": [
       "[('1', '2'), ('1', '3'), ('2', '1'), ('2', '3'), ('3', '1'), ('3', '2')]"
      ]
     },
     "execution_count": 18,
     "metadata": {},
     "output_type": "execute_result"
    }
   ],
   "source": [
    "import itertools\n",
    "\n",
    "list(itertools.permutations(['1', '2', '3'], 2))"
   ]
  },
  {
   "cell_type": "code",
   "execution_count": 20,
   "metadata": {},
   "outputs": [
    {
     "name": "stdout",
     "output_type": "stream",
     "text": [
      "12\n",
      "13\n",
      "21\n",
      "23\n",
      "31\n",
      "32\n"
     ]
    }
   ],
   "source": [
    "for a, b in itertools.permutations(['1', '2', '3'], 2):\n",
    "    print(a+b)"
   ]
  },
  {
   "attachments": {},
   "cell_type": "markdown",
   "metadata": {},
   "source": [
    "* 조합을 사용하는 함수\n",
    ">  - 3장의 카드에서 순서에 상관없이 2장을 고르는 조합은 itertools.combinations() 사용"
   ]
  },
  {
   "cell_type": "code",
   "execution_count": 21,
   "metadata": {},
   "outputs": [
    {
     "data": {
      "text/plain": [
       "[('1', '2'), ('1', '3'), ('2', '3')]"
      ]
     },
     "execution_count": 21,
     "metadata": {},
     "output_type": "execute_result"
    }
   ],
   "source": [
    "import itertools\n",
    "\n",
    "list(itertools.combinations(['1', '2', '3'], 2))"
   ]
  },
  {
   "attachments": {},
   "cell_type": "markdown",
   "metadata": {},
   "source": [
    "* itertools.combination\n",
    ">  - itertools.combinations(iterable, r) 은 반복 가능 객체 중 r개를 선택한 조합을 iterator로 리턴"
   ]
  },
  {
   "attachments": {},
   "cell_type": "markdown",
   "metadata": {},
   "source": [
    ">>  - 1 ~ 45 중 서로 다른 숫자 6개를 뽑는 로또 번호의 모든 경우의 수(조합)을 구하고, 그 개수를 출력하려면?"
   ]
  },
  {
   "cell_type": "code",
   "execution_count": 28,
   "metadata": {},
   "outputs": [],
   "source": [
    "import itertools\n",
    "\n",
    "it = itertools.combinations(range(1, 46), 6)\n",
    "\n",
    "# 1 ~ 45의 숫자 중에서 6개를 뽑는 경우의 수 iterator로 리턴"
   ]
  },
  {
   "cell_type": "code",
   "execution_count": null,
   "metadata": {},
   "outputs": [],
   "source": [
    "for num in it:\n",
    "    print(num)\n",
    "\n",
    "# 실행 시, 끝없이 출력"
   ]
  },
  {
   "cell_type": "code",
   "execution_count": 33,
   "metadata": {},
   "outputs": [
    {
     "data": {
      "text/plain": [
       "8145060"
      ]
     },
     "execution_count": 33,
     "metadata": {},
     "output_type": "execute_result"
    }
   ],
   "source": [
    "# iterator 개수만 세려면?\n",
    "\n",
    "len(list(itertools.combinations(range(1, 46), 6)))\n",
    "\n",
    "# 로또 번호의 가짓수"
   ]
  },
  {
   "attachments": {},
   "cell_type": "markdown",
   "metadata": {},
   "source": [
    "* 중복 조합을 사용하는 함수\n",
    ">  - 로또 복권이 숫자 중복을 허용하도록 규칙이 변경된다면, 경우의 수는?\n",
    ">  - 같은 숫자 허용하는 중복 조합은 itertools.combinations_with_replacement()"
   ]
  },
  {
   "cell_type": "code",
   "execution_count": 34,
   "metadata": {},
   "outputs": [
    {
     "data": {
      "text/plain": [
       "15890700"
      ]
     },
     "execution_count": 34,
     "metadata": {},
     "output_type": "execute_result"
    }
   ],
   "source": [
    "len(list(itertools.combinations_with_replacement(range(1, 46), 6)))"
   ]
  },
  {
   "attachments": {},
   "cell_type": "markdown",
   "metadata": {},
   "source": [
    "* functools.reduce\n",
    ">  - functools.reduce(function, iterable)은 함수를 반복가능한 객체의 요소에 차례대로 (왼쪽에서 오른쪽) 누적 적용해, 객체를 하나의 값으로 줄이는 함수"
   ]
  },
  {
   "cell_type": "code",
   "execution_count": 35,
   "metadata": {},
   "outputs": [
    {
     "name": "stdout",
     "output_type": "stream",
     "text": [
      "15\n"
     ]
    }
   ],
   "source": [
    "# 입력 인수 data의 요소를 모두 더해 리턴하는 add 함수\n",
    "\n",
    "def add(data):\n",
    "    result = 0\n",
    "    for i in data:\n",
    "        result += i\n",
    "    return result\n",
    "\n",
    "data = [1, 2, 3, 4, 5]\n",
    "result = add(data)\n",
    "print(result)"
   ]
  },
  {
   "cell_type": "code",
   "execution_count": 36,
   "metadata": {},
   "outputs": [
    {
     "name": "stdout",
     "output_type": "stream",
     "text": [
      "15\n"
     ]
    }
   ],
   "source": [
    "# functools.reduce() 사용 코드\n",
    "\n",
    "# reduce_test.py\n",
    "\n",
    "import functools\n",
    "\n",
    "data = [1, 2, 3, 4, 5]\n",
    "result = functools.reduce(lambda x, y: x+y, data)\n",
    "print(result)\n",
    "\n",
    "# ((((1+2)+3)+4)+5)\n",
    "# add 함수와 동일한 역할"
   ]
  },
  {
   "attachments": {},
   "cell_type": "markdown",
   "metadata": {},
   "source": [
    "* functools.reduce()로 최댓값 구하기"
   ]
  },
  {
   "cell_type": "code",
   "execution_count": 37,
   "metadata": {},
   "outputs": [
    {
     "name": "stdout",
     "output_type": "stream",
     "text": [
      "8\n"
     ]
    }
   ],
   "source": [
    "num_list = [3, 2, 8, 1, 6, 7]\n",
    "max_num = functools.reduce(lambda x, y: x if x > y else y, num_list)\n",
    "print(max_num)"
   ]
  },
  {
   "attachments": {},
   "cell_type": "markdown",
   "metadata": {},
   "source": [
    "* functools.reduce()로 최솟값 구하기"
   ]
  },
  {
   "cell_type": "code",
   "execution_count": 38,
   "metadata": {},
   "outputs": [
    {
     "data": {
      "text/plain": [
       "1"
      ]
     },
     "execution_count": 38,
     "metadata": {},
     "output_type": "execute_result"
    }
   ],
   "source": [
    "functools.reduce(lambda x, y: x if x < y else y, num_list)"
   ]
  },
  {
   "attachments": {},
   "cell_type": "markdown",
   "metadata": {},
   "source": [
    "* operator.itemgetter\n",
    ">  - sorted와 같은 함수의 key 매개변수에 적용해, 다양한 기준으로 정렬할 수 있도록 도와주는 모듈"
   ]
  },
  {
   "attachments": {},
   "cell_type": "markdown",
   "metadata": {},
   "source": [
    ">>  - 학생의 이름, 나이, 성적 등의 정보를 저장한, students 리스트 존재\n",
    ">>  - students 리스트에는 3개의 튜플이 존재. 각 튜플은 순서대로 이름, 나이, 성적 데이터.\n",
    ">>  - 이 리스트를 나이순으로 정렬하려면?"
   ]
  },
  {
   "attachments": {},
   "cell_type": "markdown",
   "metadata": {},
   "source": [
    ">>  - students 가 리스트 일 때"
   ]
  },
  {
   "cell_type": "code",
   "execution_count": null,
   "metadata": {},
   "outputs": [],
   "source": [
    "students = [\n",
    "    (\"jane\", 22, 'A'),\n",
    "    (\"dave\", 32, 'B'),\n",
    "    (\"sally\", 17, 'B')\n",
    "]"
   ]
  },
  {
   "cell_type": "code",
   "execution_count": 39,
   "metadata": {},
   "outputs": [
    {
     "name": "stdout",
     "output_type": "stream",
     "text": [
      "[('sally', 17, 'B'), ('jane', 22, 'A'), ('dave', 32, 'B')]\n"
     ]
    }
   ],
   "source": [
    "# sorted 함수의 key매개변수에 itemgetter()를 적용하면 해결 가능\n",
    "\n",
    "# itemgetter1.py\n",
    "\n",
    "from operator import itemgetter\n",
    "\n",
    "students = [\n",
    "    (\"jane\", 22, 'A'),\n",
    "    (\"dave\", 32, 'B'),\n",
    "    (\"sally\", 17, 'B')\n",
    "]\n",
    "\n",
    "result = sorted(students, key=itemgetter(1))\n",
    "print(result)\n",
    "\n",
    "# itemgetter(1)은 students 아이템인 튜플의 두 번째 요소를 기준으로 정렬"
   ]
  },
  {
   "cell_type": "code",
   "execution_count": 1,
   "metadata": {},
   "outputs": [
    {
     "name": "stdout",
     "output_type": "stream",
     "text": [
      "[('jane', 22, 'A'), ('dave', 32, 'B'), ('sally', 17, 'B')]\n"
     ]
    }
   ],
   "source": [
    "from operator import itemgetter\n",
    "\n",
    "students = [\n",
    "    (\"jane\", 22, 'A'),\n",
    "    (\"dave\", 32, 'B'),\n",
    "    (\"sally\", 17, 'B')\n",
    "]\n",
    "\n",
    "result = sorted(students, key=itemgetter(2))\n",
    "print(result)\n",
    "\n",
    "# itemgetter(2)은 students 아이템인 튜플의 세 번째 요소인 성적순으로 정렬"
   ]
  },
  {
   "attachments": {},
   "cell_type": "markdown",
   "metadata": {},
   "source": [
    ">>  - students 가 딕셔너리 일 때"
   ]
  },
  {
   "cell_type": "code",
   "execution_count": 2,
   "metadata": {},
   "outputs": [
    {
     "name": "stdout",
     "output_type": "stream",
     "text": [
      "[{'name': 'sally', 'age': 17, 'grade': 'B'}, {'name': 'jane', 'age': 22, 'grade': 'A'}, {'name': 'dave', 'age': 32, 'grade': 'B'}]\n"
     ]
    }
   ],
   "source": [
    "# itemgetter2.py\n",
    "\n",
    "from operator import itemgetter\n",
    "\n",
    "students = [\n",
    "    {\"name\": \"jane\", \"age\": 22, \"grade\": 'A'},\n",
    "    {\"name\": \"dave\", \"age\": 32, \"grade\": 'B'},\n",
    "    {\"name\": \"sally\", \"age\": 17, \"grade\": 'B' }\n",
    "]\n",
    "\n",
    "result = sorted(students, key=itemgetter('age'))\n",
    "print(result)\n",
    "\n",
    "# itemgetter('age') 처럼 딕셔너리 키를 사용해야 함"
   ]
  },
  {
   "cell_type": "code",
   "execution_count": 3,
   "metadata": {},
   "outputs": [
    {
     "name": "stdout",
     "output_type": "stream",
     "text": [
      "[{'name': 'jane', 'age': 22, 'grade': 'A'}, {'name': 'dave', 'age': 32, 'grade': 'B'}, {'name': 'sally', 'age': 17, 'grade': 'B'}]\n"
     ]
    }
   ],
   "source": [
    "from operator import itemgetter\n",
    "\n",
    "students = [\n",
    "    {\"name\": \"jane\", \"age\": 22, \"grade\": 'A'},\n",
    "    {\"name\": \"dave\", \"age\": 32, \"grade\": 'B'},\n",
    "    {\"name\": \"sally\", \"age\": 17, \"grade\": 'B' }\n",
    "]\n",
    "\n",
    "result = sorted(students, key=itemgetter('grade'))\n",
    "print(result)"
   ]
  },
  {
   "attachments": {},
   "cell_type": "markdown",
   "metadata": {},
   "source": [
    "* operator.attrgetter( )\n",
    ">  - students 리스트 요소가 튜플이 아닌 Student 클래스의 객체일 때\n",
    ">  - attrgetter( ) 적용해 정렬해야 함"
   ]
  },
  {
   "attachments": {},
   "cell_type": "markdown",
   "metadata": {},
   "source": [
    "* 궁금한 점\n",
    ">  - [<\\_\\_main\\_\\_.Student object at 0x7f79ec3983a0>, <\\_\\_main\\_\\_.Student object at 0x7f79ec398430>, <\\_\\_main\\_\\_.Student object at 0x7f79ec3989a0>] 에서\n",
    "<\\_\\_main\\_\\_.Student object at 0x7f79ec398430> 과 <\\_\\_main\\_\\_.Student object at 0x7f79ec44f310> 이 동일하지 않은 이유?\n",
    ">>  - 리스트 안에 있는 객체와 print(Student('jane', 22, 'A'))에서 생성한 객체는 다르기 때문\n",
    "\n",
    ">  - age랑 grade로 정렬한 결과값을 보면, 같은 객체가 가지는 주소가 다른 이유?\n",
    ">>  - 정렬 후 새롭게 result로 할당하기 때문에 주소가 다름"
   ]
  },
  {
   "cell_type": "code",
   "execution_count": 13,
   "metadata": {},
   "outputs": [
    {
     "name": "stdout",
     "output_type": "stream",
     "text": [
      "[<__main__.Student object at 0x7f79ec3983a0>, <__main__.Student object at 0x7f79ec398430>, <__main__.Student object at 0x7f79ec3989a0>]\n",
      "<__main__.Student object at 0x7f79ec44f310>\n"
     ]
    }
   ],
   "source": [
    "# attrgetter1.py\n",
    "\n",
    "from operator import attrgetter\n",
    "\n",
    "class Student:\n",
    "    def __init__(self, name, age, grade):\n",
    "        self.name = name\n",
    "        self.age = age\n",
    "        self.grade = grade\n",
    "\n",
    "students = [\n",
    "    Student('jane', 22, 'A'),\n",
    "    Student('dave', 32, 'B'),\n",
    "    Student('sally', 17, 'B')\n",
    "]\n",
    "\n",
    "result = sorted(students, key=attrgetter('age'))\n",
    "\n",
    "print(result)\n",
    "\n",
    "print(Student('jane', 22, 'A'))"
   ]
  },
  {
   "cell_type": "code",
   "execution_count": 14,
   "metadata": {},
   "outputs": [
    {
     "name": "stdout",
     "output_type": "stream",
     "text": [
      "[<__main__.Student object at 0x7f79ec398d60>, <__main__.Student object at 0x7f79ec398670>, <__main__.Student object at 0x7f79ec398790>]\n"
     ]
    }
   ],
   "source": [
    "from operator import attrgetter\n",
    "\n",
    "class Student:\n",
    "    def __init__(self, name, age, grade):\n",
    "        self.name = name\n",
    "        self.age = age\n",
    "        self.grade = grade\n",
    "\n",
    "students = [\n",
    "    Student('jane', 22, 'A'),\n",
    "    Student('dave', 32, 'B'),\n",
    "    Student('sally', 17, 'B')\n",
    "]\n",
    "\n",
    "result = sorted(students, key=attrgetter('grade'))\n",
    "\n",
    "print(result)"
   ]
  },
  {
   "attachments": {},
   "cell_type": "markdown",
   "metadata": {},
   "source": [
    "* shutil\n",
    ">  - 파일 복사(copy)하거나 이동(move)시 사용하는 모듈"
   ]
  },
  {
   "attachments": {},
   "cell_type": "markdown",
   "metadata": {},
   "source": [
    ">>  - 작업 중인 파일을 자동으로 백업하는 기능 구현"
   ]
  },
  {
   "attachments": {},
   "cell_type": "markdown",
   "metadata": {},
   "source": [
    ">>  - /NasData/home/knh/workspace/doit/a.txt 를 /NasData/home/knh/workspace/temp/a.txt.bak 라는 이름으로 복사하는 프로그램\n",
    ">>  - /NasData/home/knh/workspace/doit 디렉터리에 a.txt 를 만드는 중\n",
    ">>  - 백업용 /NasData/home/knh/workspace/temp 디렉터리는 이미 생성 완료\n"
   ]
  },
  {
   "cell_type": "code",
   "execution_count": 16,
   "metadata": {},
   "outputs": [
    {
     "data": {
      "text/plain": [
       "'/NasData/home/knh/workspace/temp/a.txt.bak'"
      ]
     },
     "execution_count": 16,
     "metadata": {},
     "output_type": "execute_result"
    }
   ],
   "source": [
    "# shutil_copy.py\n",
    "\n",
    "import shutil\n",
    "\n",
    "shutil.copy(\"/NasData/home/knh/workspace/doit/a.txt\", \"/NasData/home/knh/workspace/temp/a.txt.bak\")\n",
    "\n",
    "# temp 디렉터리 아래에 a.txt.bak 생성됨"
   ]
  },
  {
   "attachments": {},
   "cell_type": "markdown",
   "metadata": {},
   "source": [
    "* shutil.move로 삭제 기능 만들기\n",
    ">  - /NasData/home/knh/workspace/doit/a.txt 파일을 /NasData/home/knh/workspace/temp/a.txt 로 이동"
   ]
  },
  {
   "cell_type": "code",
   "execution_count": 19,
   "metadata": {},
   "outputs": [
    {
     "data": {
      "text/plain": [
       "'/NasData/home/knh/workspace/temp/a.txt'"
      ]
     },
     "execution_count": 19,
     "metadata": {},
     "output_type": "execute_result"
    }
   ],
   "source": [
    "# shutil_move.py\n",
    "\n",
    "import shutil\n",
    "\n",
    "shutil.move(\"/NasData/home/knh/workspace/doit/a.txt\", \"/NasData/home/knh/workspace/temp/a.txt\")\n",
    "\n",
    "# doit 안에 있는 a.txt 가 삭제되고, temp 안에 a.txt 생성됨"
   ]
  },
  {
   "attachments": {},
   "cell_type": "markdown",
   "metadata": {},
   "source": [
    "* glob\n",
    ">  - 파일을 읽고 쓰는 기능이 있는 프로그램을 만들 시, 특정 디렉터리에 있는 파일 이름을 모두 알아야 할 때가 있음"
   ]
  },
  {
   "attachments": {},
   "cell_type": "markdown",
   "metadata": {},
   "source": [
    "* 디렉터리에 있는 파일들을 리스트로 만들기 : glob(pathname)\n",
    ">  - glob 모듈은 디렉터리 안의 파일들을 읽어서 리턴\n",
    ">  - *, ? 와 같은 메타 문자를 써서 원하는 파일만 읽어 올 수도 있음\n",
    ">  - ? : 1자리 문자열\n",
    ">  - \\* : 임의의 길이의 문자열"
   ]
  },
  {
   "attachments": {},
   "cell_type": "markdown",
   "metadata": {},
   "source": [
    ">>  - /NasData/home/knh/workspace 디렉터리에 있는 파일 중 이름이 mark로 시작하는 파일을 모두 찾아 읽어들여보자"
   ]
  },
  {
   "cell_type": "code",
   "execution_count": 4,
   "metadata": {},
   "outputs": [
    {
     "data": {
      "text/plain": [
       "['/NasData/home/knh/workspace/marks3.py',\n",
       " '/NasData/home/knh/workspace/marks1.py',\n",
       " '/NasData/home/knh/workspace/marks2.py']"
      ]
     },
     "execution_count": 4,
     "metadata": {},
     "output_type": "execute_result"
    }
   ],
   "source": [
    "import glob\n",
    "\n",
    "glob.glob(\"/NasData/home/knh/workspace/mark*\")"
   ]
  },
  {
   "attachments": {},
   "cell_type": "markdown",
   "metadata": {},
   "source": [
    "* pickle\n",
    ">  - pickle은 객체의 형태를 그대로 유지하며, 파일을 저장하고 불러올 수 있게 하는 모듈"
   ]
  },
  {
   "attachments": {},
   "cell_type": "markdown",
   "metadata": {},
   "source": [
    ">>  - pickle 모듈의 dump 함수를 사용해, 딕셔너리 객체인 data를 그대로 파일에 저장해보기"
   ]
  },
  {
   "attachments": {},
   "cell_type": "markdown",
   "metadata": {},
   "source": [
    ">> -  궁금한 점\n",
    ">>>  - the file is not displayed in the text editor because it is either binary of uses an unsupported text encoding ( 파일 내용 확인이 안됨 )\n",
    ">>>  - vscode가 소스 코드 에디터라서 안됨 ( 밑에 zip을 열어 보는 것도 안되는 것도 이 이유때문 )"
   ]
  },
  {
   "cell_type": "code",
   "execution_count": 16,
   "metadata": {},
   "outputs": [],
   "source": [
    "import pickle\n",
    "\n",
    "f = open(\"test.txt\", 'wb')\n",
    "data = {1: 'python', 2: 'you need'}\n",
    "pickle.dump(data, f)\n",
    "f.close()\n",
    "\n",
    "# text.txt가 생성됨\n",
    "# the file is not displayed in the text editor because it is either binary of uses an unsupported text encoding"
   ]
  },
  {
   "attachments": {},
   "cell_type": "markdown",
   "metadata": {},
   "source": [
    ">> - pickle.dump로 저장한 파일을 pickle.load 사용해, 원래 있던 딕셔너리 객체(data) 상태 그대로 불러오기"
   ]
  },
  {
   "cell_type": "code",
   "execution_count": 17,
   "metadata": {},
   "outputs": [
    {
     "name": "stdout",
     "output_type": "stream",
     "text": [
      "{1: 'python', 2: 'you need'}\n"
     ]
    }
   ],
   "source": [
    "import pickle\n",
    "\n",
    "f = open(\"test.txt\", 'rb')\n",
    "data = pickle.load(f)\n",
    "print(data)\n",
    "\n",
    "# 딕셔너리 외 어떤 자료형이든 저장하고 불러올 수 있음"
   ]
  },
  {
   "cell_type": "code",
   "execution_count": 1,
   "metadata": {},
   "outputs": [],
   "source": [
    "import pickle\n",
    "\n",
    "f = open(\"test2.txt\", 'wb')\n",
    "data = [1, 'python', 2, 'you need']\n",
    "pickle.dump(data, f)\n",
    "f.close()"
   ]
  },
  {
   "cell_type": "code",
   "execution_count": 2,
   "metadata": {},
   "outputs": [
    {
     "name": "stdout",
     "output_type": "stream",
     "text": [
      "[1, 'python', 2, 'you need']\n"
     ]
    }
   ],
   "source": [
    "import pickle\n",
    "\n",
    "f = open(\"test2.txt\", 'rb')\n",
    "data = pickle.load(f)\n",
    "print(data)"
   ]
  },
  {
   "attachments": {},
   "cell_type": "markdown",
   "metadata": {},
   "source": [
    "* os\n",
    ">  - 환경 변수, 디렉터리, 파일 등의 OS 자원을 제어할 수 있게 해주는 모듈"
   ]
  },
  {
   "attachments": {},
   "cell_type": "markdown",
   "metadata": {},
   "source": [
    "* 내 시스템의 환경 변숫값을 알고 싶을 때 - os.environ\n",
    ">  - 시스템은 제각기 다른 환경 변숫값을 가지고 있음\n",
    ">  - os.environ은 현재 시스템의 환경 변숫값을 리턴\n",
    ">  - os.environ은 환경 변수에 대한 정보를 딕셔너리 형태로 구성된 environ 객체로 리턴\n",
    ">  - 환경 변수? 프로세스가 컴퓨터에서 동작하는 방식에 영향을 미치는, 동적인 값들의 모임"
   ]
  },
  {
   "cell_type": "code",
   "execution_count": 3,
   "metadata": {},
   "outputs": [
    {
     "data": {
      "text/plain": [
       "environ{'CONDA_PROMPT_MODIFIER': '(py3.9) ',\n",
       "        'MAIL': '/var/mail/knh',\n",
       "        'USER': 'knh',\n",
       "        'SSH_CLIENT': '155.230.134.92 58168 50305',\n",
       "        'LD_LIBRARY_PATH': '/usr/local/cuda/extras/CUPTI/lib64',\n",
       "        'SHLVL': '5',\n",
       "        'CONDA_SHLVL': '2',\n",
       "        'HOME': '/NasData/home/knh',\n",
       "        '_CE_M': '',\n",
       "        'LOGNAME': 'knh',\n",
       "        '_': '/NasData/home/knh/anaconda3/envs/py3.9/bin/python',\n",
       "        '_CE_CONDA': '',\n",
       "        'PATH': '/NasData/home/knh/anaconda3/envs/py3.9/bin:/NasData/home/knh/.vscode-server/bin/695af097c7bd098fbf017ce3ac85e09bbc5dda06/bin/remote-cli:/NasData/home/knh/anaconda3/envs/py3.9/bin:/NasData/home/knh/bin:/NasData/home/knh/.local/bin:/usr/local/sbin:/usr/local/bin:/usr/sbin:/usr/bin:/sbin:/bin:/usr/games:/usr/local/games:/snap/bin:/usr/local/cuda/bin:/NasData/home/knh/.local/bin:/NasData/home/knh/bin',\n",
       "        'VSCODE_AGENT_FOLDER': '/NasData/home/knh/.vscode-server',\n",
       "        'CONDA_PYTHON_EXE': '/NasData/home/knh/anaconda3/bin/python',\n",
       "        'SHELL': '/bin/bash',\n",
       "        'CONDA_DEFAULT_ENV': 'py3.9',\n",
       "        'PWD': '/NasData/home/knh',\n",
       "        'CONDA_EXE': '/NasData/home/knh/anaconda3/bin/conda',\n",
       "        'SSH_CONNECTION': '155.230.134.92 58168 155.230.134.43 50305',\n",
       "        'CONDA_PREFIX': '/NasData/home/knh/anaconda3/envs/py3.9',\n",
       "        'VSCODE_HANDLES_SIGPIPE': 'true',\n",
       "        'S_COLORS': 'auto',\n",
       "        'XDG_DATA_DIRS': '/usr/local/share:/usr/share:/var/lib/snapd/desktop',\n",
       "        'VSCODE_AMD_ENTRYPOINT': 'vs/workbench/api/node/extensionHostProcess',\n",
       "        'VSCODE_HANDLES_UNCAUGHT_ERRORS': 'true',\n",
       "        'VSCODE_NLS_CONFIG': '{\"locale\":\"en\",\"osLocale\":\"en\",\"availableLanguages\":{}}',\n",
       "        'BROWSER': '/NasData/home/knh/.vscode-server/bin/695af097c7bd098fbf017ce3ac85e09bbc5dda06/bin/helpers/browser.sh',\n",
       "        'VSCODE_CWD': '/NasData/home/knh',\n",
       "        'ELECTRON_RUN_AS_NODE': '1',\n",
       "        'VSCODE_IPC_HOOK_CLI': '/tmp/vscode-ipc-3e1c354b-d61f-40f5-859a-5e345e946067.sock',\n",
       "        'VSCODE_L10N_BUNDLE_LOCATION': '',\n",
       "        'PYTHONUNBUFFERED': '1',\n",
       "        'PYTHONIOENCODING': 'utf-8',\n",
       "        'CONDA_PREFIX_1': '/NasData/home/knh/anaconda3',\n",
       "        'LC_CTYPE': 'C.UTF-8',\n",
       "        'CONDA_ROOT': '/NasData/home/knh/anaconda3',\n",
       "        'PYDEVD_IPYTHON_COMPATIBLE_DEBUGGING': '1',\n",
       "        'PYDEVD_USE_FRAME_EVAL': 'NO',\n",
       "        'TERM': 'xterm-color',\n",
       "        'CLICOLOR': '1',\n",
       "        'FORCE_COLOR': '1',\n",
       "        'CLICOLOR_FORCE': '1',\n",
       "        'PAGER': 'cat',\n",
       "        'GIT_PAGER': 'cat',\n",
       "        'MPLBACKEND': 'module://matplotlib_inline.backend_inline'}"
      ]
     },
     "execution_count": 3,
     "metadata": {},
     "output_type": "execute_result"
    }
   ],
   "source": [
    "import os\n",
    "\n",
    "os.environ"
   ]
  },
  {
   "cell_type": "code",
   "execution_count": 6,
   "metadata": {},
   "outputs": [
    {
     "data": {
      "text/plain": [
       "'knh'"
      ]
     },
     "execution_count": 6,
     "metadata": {},
     "output_type": "execute_result"
    }
   ],
   "source": [
    "import os\n",
    "\n",
    "os.environ['USER']"
   ]
  },
  {
   "cell_type": "code",
   "execution_count": 7,
   "metadata": {},
   "outputs": [
    {
     "data": {
      "text/plain": [
       "'/NasData/home/knh/anaconda3/envs/py3.9/bin:/NasData/home/knh/.vscode-server/bin/695af097c7bd098fbf017ce3ac85e09bbc5dda06/bin/remote-cli:/NasData/home/knh/anaconda3/envs/py3.9/bin:/NasData/home/knh/bin:/NasData/home/knh/.local/bin:/usr/local/sbin:/usr/local/bin:/usr/sbin:/usr/bin:/sbin:/bin:/usr/games:/usr/local/games:/snap/bin:/usr/local/cuda/bin:/NasData/home/knh/.local/bin:/NasData/home/knh/bin'"
      ]
     },
     "execution_count": 7,
     "metadata": {},
     "output_type": "execute_result"
    }
   ],
   "source": [
    "os.environ['PATH']\n",
    "\n",
    "# PATH 환경 변수 내용"
   ]
  },
  {
   "attachments": {},
   "cell_type": "markdown",
   "metadata": {},
   "source": [
    "* 디렉터리 위치 변경 - os.chdir\n",
    ">  - 현재 디렉터리의 위치 변경"
   ]
  },
  {
   "cell_type": "code",
   "execution_count": 13,
   "metadata": {},
   "outputs": [],
   "source": [
    "import os\n",
    "\n",
    "os.chdir(\"/NasData/home/knh/mlcl/MLCL_2023\")"
   ]
  },
  {
   "attachments": {},
   "cell_type": "markdown",
   "metadata": {},
   "source": [
    "* 디렉터리 위치 돌려받기 - os.getcwd\n",
    ">  - 현재 자신의 디렉터리 위치 리턴"
   ]
  },
  {
   "cell_type": "code",
   "execution_count": 14,
   "metadata": {},
   "outputs": [
    {
     "data": {
      "text/plain": [
       "'/NasData/home/knh/mlcl/MLCL_2023'"
      ]
     },
     "execution_count": 14,
     "metadata": {},
     "output_type": "execute_result"
    }
   ],
   "source": [
    "os.getcwd()"
   ]
  },
  {
   "cell_type": "code",
   "execution_count": 19,
   "metadata": {},
   "outputs": [],
   "source": [
    "import os\n",
    "\n",
    "os.chdir(\"/NasData/home/knh/workspace\")"
   ]
  },
  {
   "cell_type": "code",
   "execution_count": 20,
   "metadata": {},
   "outputs": [
    {
     "data": {
      "text/plain": [
       "'/NasData/home/knh/workspace'"
      ]
     },
     "execution_count": 20,
     "metadata": {},
     "output_type": "execute_result"
    }
   ],
   "source": [
    "os.getcwd()"
   ]
  },
  {
   "attachments": {},
   "cell_type": "markdown",
   "metadata": {},
   "source": [
    "* 시스템 명령어 호출 - os.system\n",
    ">  - 시스템 자체의 프로그램이나 기타 명령어를 파이썬에서 호출 가능\n",
    ">  - os.system(\"명령어\")"
   ]
  },
  {
   "cell_type": "code",
   "execution_count": 6,
   "metadata": {},
   "outputs": [
    {
     "name": "stdout",
     "output_type": "stream",
     "text": [
      "0509.py\t\t\t\t\t       cifar10_.py\n",
      "0604\t\t\t\t\t       colab\n",
      "0613.ipynb\t\t\t\t       data\n",
      "06132.ipynb\t\t\t\t       doit\n",
      "06133.ipynb\t\t\t\t       fig.png\n",
      "06134.ipynb\t\t\t\t       file_with.py\n",
      "06141.ipynb\t\t\t\t       foo.txt\n",
      "06142.ipynb\t\t\t\t       game\n",
      "06143.ipynb\t\t\t\t       image\\ processing.py\n",
      "06144.ipynb\t\t\t\t       marks1.py\n",
      "3-1.ipynb\t\t\t\t       marks2.py\n",
      "3-2.ipynb\t\t\t\t       marks3.py\n",
      "3-3.ipynb\t\t\t\t       mod1.py\n",
      "4-1.ipynb\t\t\t\t       modtest.py\n",
      "4-2.ipynb\t\t\t\t       multistring.py\n",
      "4-3.ipynb\t\t\t\t       mymod\n",
      "4-4.ipynb\t\t\t\t       paper.py\n",
      "5-1.ipynb\t\t\t\t       read.py\n",
      "5-2.ipynb\t\t\t\t       read_for.py\n",
      "5-3.ipynb\t\t\t\t       readlines.py\n",
      "5-4.ipynb\t\t\t\t       readlines2.py\n",
      "5-5.ipynb\t\t\t\t       sys1.py\n",
      "5-6.ipynb\t\t\t\t       sys2.py\n",
      "__pycache__\t\t\t\t       temp\n",
      "add_data.py\t\t\t\t       term\\ project\\ data.py\n",
      "binary_file.py\t\t\t\t       test.txt\n",
      "cifar\\ 10\\ resnet\\ classifier.py\t       test2.txt\n",
      "cifar10\\ image.py\t\t\t       text\n",
      "cifar10\\ resnet\\ classifier\\ wuth\\ pytorch.py  text.txt\n",
      "cifar10-baseline\t\t\t       writedata.py\n",
      "cifar10.ipynb\t\t\t\t     "
     ]
    },
    {
     "data": {
      "text/plain": [
       "0"
      ]
     },
     "execution_count": 6,
     "metadata": {},
     "output_type": "execute_result"
    },
    {
     "name": "stdout",
     "output_type": "stream",
     "text": [
      "  새파일.txt\n"
     ]
    }
   ],
   "source": [
    "os.system(\"dir\")"
   ]
  },
  {
   "attachments": {},
   "cell_type": "markdown",
   "metadata": {},
   "source": [
    "* 실행한 시스템 명령어의 결괏값 돌려받기 - os.popen\n",
    ">  - 시스템 명령어를 실행한 결괏값을 읽기 모드 형태의 파일 객체로 리턴"
   ]
  },
  {
   "cell_type": "code",
   "execution_count": 7,
   "metadata": {},
   "outputs": [],
   "source": [
    "f = os.popen(\"dir\")"
   ]
  },
  {
   "cell_type": "code",
   "execution_count": 8,
   "metadata": {},
   "outputs": [
    {
     "name": "stdout",
     "output_type": "stream",
     "text": [
      "0509.py\t\t\t\t\t       cifar10_.py\n",
      "0604\t\t\t\t\t       colab\n",
      "0613.ipynb\t\t\t\t       data\n",
      "06132.ipynb\t\t\t\t       doit\n",
      "06133.ipynb\t\t\t\t       fig.png\n",
      "06134.ipynb\t\t\t\t       file_with.py\n",
      "06141.ipynb\t\t\t\t       foo.txt\n",
      "06142.ipynb\t\t\t\t       game\n",
      "06143.ipynb\t\t\t\t       image\\ processing.py\n",
      "06144.ipynb\t\t\t\t       marks1.py\n",
      "3-1.ipynb\t\t\t\t       marks2.py\n",
      "3-2.ipynb\t\t\t\t       marks3.py\n",
      "3-3.ipynb\t\t\t\t       mod1.py\n",
      "4-1.ipynb\t\t\t\t       modtest.py\n",
      "4-2.ipynb\t\t\t\t       multistring.py\n",
      "4-3.ipynb\t\t\t\t       mymod\n",
      "4-4.ipynb\t\t\t\t       paper.py\n",
      "5-1.ipynb\t\t\t\t       read.py\n",
      "5-2.ipynb\t\t\t\t       read_for.py\n",
      "5-3.ipynb\t\t\t\t       readlines.py\n",
      "5-4.ipynb\t\t\t\t       readlines2.py\n",
      "5-5.ipynb\t\t\t\t       sys1.py\n",
      "5-6.ipynb\t\t\t\t       sys2.py\n",
      "__pycache__\t\t\t\t       temp\n",
      "add_data.py\t\t\t\t       term\\ project\\ data.py\n",
      "binary_file.py\t\t\t\t       test.txt\n",
      "cifar\\ 10\\ resnet\\ classifier.py\t       test2.txt\n",
      "cifar10\\ image.py\t\t\t       text\n",
      "cifar10\\ resnet\\ classifier\\ wuth\\ pytorch.py  text.txt\n",
      "cifar10-baseline\t\t\t       writedata.py\n",
      "cifar10.ipynb\t\t\t\t       새파일.txt\n",
      "\n"
     ]
    }
   ],
   "source": [
    "print(f.read())"
   ]
  },
  {
   "attachments": {},
   "cell_type": "markdown",
   "metadata": {},
   "source": [
    "* os 관련 함수\n",
    ">  - os.mkdir(디렉터리) : 디렉터리 생성\n",
    ">  - os.rmdir(디렉터리) : 디렉터리 삭제 (디렉터리가 비어 있어야 삭제 가능)\n",
    ">  - os.remove(파일) : 파일 지움\n",
    ">  - os.rename(src, dst) : scr라는 이름의 파일을 dst라는 이름으로 바꿈"
   ]
  },
  {
   "attachments": {},
   "cell_type": "markdown",
   "metadata": {},
   "source": [
    "* zipfile\n",
    ">   - 여러 개의 파일을 zip 형식으로 합치거나 해제 시 사용하는 모듈"
   ]
  },
  {
   "attachments": {},
   "cell_type": "markdown",
   "metadata": {},
   "source": [
    ">>  - a.txt, b.txt, c.txt 텍스트 파일을 하나로 합쳐, 'mytext.zip' 이라는 파일을 만들고, 이 파일을 원래의 텍스트 파일 3개로 해제하는 프로그램을 만들려면?"
   ]
  },
  {
   "cell_type": "code",
   "execution_count": 30,
   "metadata": {},
   "outputs": [],
   "source": [
    "# zipfile_test.py\n",
    "\n",
    "import zipfile\n",
    "\n",
    "# 파일 합치기\n",
    "\n",
    "with zipfile.ZipFile('mytext.zip', 'w') as myzip:\n",
    "    myzip.write('a.txt')\n",
    "    myzip.write('b.txt')\n",
    "    myzip.write('c.txt')\n",
    "\n",
    "# mytext.zip 안에 a.txt, b.txt, c.txt 생성됨"
   ]
  },
  {
   "cell_type": "code",
   "execution_count": 31,
   "metadata": {},
   "outputs": [
    {
     "name": "stdout",
     "output_type": "stream",
     "text": [
      "Archive:  mytext.zip\n",
      " extracting: ./mytext/a.txt          \n",
      " extracting: ./mytext/b.txt          \n",
      " extracting: ./mytext/c.txt          \n"
     ]
    }
   ],
   "source": [
    "!unzip mytext.zip -d ./mytext\n",
    "\n",
    "# 리눅스 코드"
   ]
  },
  {
   "cell_type": "code",
   "execution_count": 32,
   "metadata": {},
   "outputs": [],
   "source": [
    "# 해제하기\n",
    "\n",
    "with zipfile.ZipFile('mytext.zip') as myzip:\n",
    "    myzip.extractall()"
   ]
  },
  {
   "attachments": {},
   "cell_type": "markdown",
   "metadata": {},
   "source": [
    ">  - ZipFile 객체의 write( ) 함수로 개별 파일 추가 가능\n",
    ">  - extreactall( ) 함수로 모든 파일 해제 가능"
   ]
  },
  {
   "attachments": {},
   "cell_type": "markdown",
   "metadata": {},
   "source": [
    ">  - 합친 파일에서 특정 파일만 해제하고 싶을 때, extract( ) 함수 사용"
   ]
  },
  {
   "cell_type": "code",
   "execution_count": 33,
   "metadata": {},
   "outputs": [],
   "source": [
    "# 특정 파일만 해제하기\n",
    "\n",
    "with zipfile.ZipFile('mytext.zip') as myzip:\n",
    "    myzip.extract('a.txt')"
   ]
  },
  {
   "attachments": {},
   "cell_type": "markdown",
   "metadata": {},
   "source": [
    ">  - 파일을 압축해 묶고 싶은 경우 compression, compresslevel 옵션 사용\n",
    ">  - with zipfile.ZipFile('mytext.zip', 'w', compression=zipfile.ZIP_LZMA, compresslevel=9) as myzip:"
   ]
  },
  {
   "attachments": {},
   "cell_type": "markdown",
   "metadata": {},
   "source": [
    ">  - compression 4가지 종류\n",
    "\n",
    ">  - ZIP_STORED : 압축하지 않고 파일을 zip으로만 묶음. 속도 빠름\n",
    ">  - ZIP_DEFLATED : 일반적인 zip 압축으로 속도가 빠르고 압축률 낮음 ( 호환성 좋음 )\n",
    ">  - ZIP_BZIP2 : bzip2 압축으로 압축률이 높고 속도가 느림\n",
    ">  - ZIP_LZMA : lzma 압축으로 압축률이 높고 속도가 느림 ( 7zip과 동일한 알고리즘 )"
   ]
  },
  {
   "attachments": {},
   "cell_type": "markdown",
   "metadata": {},
   "source": [
    ">  - compressionlevel\n",
    ">>  - 압축 수준 의미하는 숫자값으로 1 ~ 9 사용\n",
    ">>  - 1은 속도가 가장 빠르지만 압축률 낮음\n",
    ">>  - 9는 속도는 가장 느리지만 압축률 높음"
   ]
  },
  {
   "attachments": {},
   "cell_type": "markdown",
   "metadata": {},
   "source": [
    "* threading\n",
    ">  - 스레드 프로그래밍은 초보 프로그래머가 구현하기에는 어려움\n",
    ">  - 컴퓨터에서 동작하고 있는 프로그램을 프로세스(process)라고 함\n",
    ">  - 보통 1개의 프로세스는 1가지 일만 함\n",
    ">  - 스레드(thread)를 사용하면 한 프로세스 안에서 2가지 또는 그 이상의 일 동시 수행 가능"
   ]
  },
  {
   "attachments": {},
   "cell_type": "markdown",
   "metadata": {},
   "source": [
    ">>  - 스레드의 단점 \n",
    ">>>  - 같은 변수를 사용할 때, 각 프로세스에서 같은 변수를 동시에 참조하게 됨\n",
    ">>>  - 변수 값이 계속 바뀌면 프로그램이 꼬일 수도 있는 위험성이 있음\n"
   ]
  },
  {
   "cell_type": "code",
   "execution_count": 35,
   "metadata": {},
   "outputs": [
    {
     "name": "stdout",
     "output_type": "stream",
     "text": [
      "Start\n",
      "working:0\n",
      "\n",
      "working:1\n",
      "\n",
      "working:2\n",
      "\n",
      "working:3\n",
      "\n",
      "working:4\n",
      "\n",
      "working:0\n",
      "\n",
      "working:1\n",
      "\n",
      "working:2\n",
      "\n",
      "working:3\n",
      "\n",
      "working:4\n",
      "\n",
      "working:0\n",
      "\n",
      "working:1\n",
      "\n",
      "working:2\n",
      "\n",
      "working:3\n",
      "\n",
      "working:4\n",
      "\n",
      "working:0\n",
      "\n",
      "working:1\n",
      "\n",
      "working:2\n",
      "\n",
      "working:3\n",
      "\n",
      "working:4\n",
      "\n",
      "working:0\n",
      "\n",
      "working:1\n",
      "\n",
      "working:2\n",
      "\n",
      "working:3\n",
      "\n",
      "working:4\n",
      "\n",
      "End\n"
     ]
    }
   ],
   "source": [
    "# thread_test.py\n",
    "\n",
    "import time\n",
    "\n",
    "def long_task(): # 5초의 시간이 걸리는 함수\n",
    "    for i in range(5):\n",
    "        time.sleep(1) # 1초간 대기\n",
    "        print(\"working:%s\\n\" % i)\n",
    "\n",
    "print(\"Start\")\n",
    "\n",
    "for i in range(5): # long_task를 5회 수행\n",
    "    long_task()\n",
    "\n",
    "print(\"End\")\n",
    "\n",
    "# long_task는 수행 시 5초의 시간이 걸리는 함수\n",
    "# 위 프로그램은 이 함수를 총 5번 반복해서 수행하는 프로그램\n",
    "\n",
    "# 5초가 5번 반복되므로 총 25초의 시간이 걸림"
   ]
  },
  {
   "cell_type": "code",
   "execution_count": 37,
   "metadata": {},
   "outputs": [
    {
     "name": "stdout",
     "output_type": "stream",
     "text": [
      "Start\n",
      "End\n"
     ]
    },
    {
     "name": "stdout",
     "output_type": "stream",
     "text": [
      "working:0\n",
      "working:0\n",
      "\n",
      "\n",
      "working:0\n",
      "\n",
      "working:0\n",
      "\n",
      "working:0\n",
      "\n",
      "working:1\n",
      "\n",
      "working:1\n",
      "\n",
      "working:1\n",
      "\n",
      "working:1\n",
      "\n",
      "working:1\n",
      "\n",
      "working:2\n",
      "working:2\n",
      "\n",
      "\n",
      "working:2\n",
      "\n",
      "working:2\n",
      "\n",
      "working:2\n",
      "\n",
      "working:3\n",
      "working:3\n",
      "\n",
      "\n",
      "working:3\n",
      "\n",
      "working:3\n",
      "\n",
      "working:3\n",
      "\n",
      "working:4\n",
      "working:4\n",
      "\n",
      "\n",
      "working:4\n",
      "\n",
      "working:4\n",
      "\n",
      "working:4\n",
      "\n"
     ]
    }
   ],
   "source": [
    "# 스레드 사용 시, 5초의 시간이 걸리는 long_task 함수를 동시에 실행할 수 있어 시간 단축 가능\n",
    "\n",
    "# thread_test.py\n",
    "\n",
    "import time\n",
    "import threading # 스레드 생성하기 위해서는 threading 모듈 필요\n",
    "\n",
    "def long_task():\n",
    "    for i in range(5):\n",
    "        time.sleep(1)\n",
    "        print(\"working:%s\\n\" % i)\n",
    "\n",
    "print(\"Start\")\n",
    "\n",
    "threads = []\n",
    "\n",
    "for i in range(5):\n",
    "    t = threading.Thread(target = long_task) # 스레드 생성\n",
    "    threads.append(t)\n",
    "\n",
    "for t in threads:\n",
    "    t.start() # 스레드 실행\n",
    "\n",
    "print(\"End\")\n",
    "\n",
    "# 25초가 걸리던 작업이 5초 정도에 수행됨\n",
    "# threading.Thread 사용해 만든 스레드 객체가 동시 작업 가능하게 함\n",
    "\n",
    "# 프로그램 실행 시, \"Start\"와 \"End\"가 먼저 출력되고, 그 이후에 스레드 결과 출력됨\n",
    "# 프로그램 정상 종료 되지 않음"
   ]
  },
  {
   "cell_type": "code",
   "execution_count": 39,
   "metadata": {},
   "outputs": [
    {
     "name": "stdout",
     "output_type": "stream",
     "text": [
      "Start\n",
      "working:0\n",
      "\n",
      "working:0\n",
      "\n",
      "working:0\n",
      "\n",
      "working:0\n",
      "\n",
      "working:0\n",
      "\n",
      "working:1\n",
      "\n",
      "working:1\n",
      "\n",
      "working:1\n",
      "\n",
      "working:1\n",
      "\n",
      "working:1\n",
      "\n",
      "working:2\n",
      "\n",
      "working:2\n",
      "\n",
      "working:2\n",
      "\n",
      "working:2\n",
      "\n",
      "working:2\n",
      "\n",
      "working:3\n",
      "working:3\n",
      "\n",
      "\n",
      "working:3\n",
      "\n",
      "working:3\n",
      "\n",
      "working:3\n",
      "\n",
      "working:4\n",
      "\n",
      "working:4\n",
      "\n",
      "working:4\n",
      "\n",
      "working:4\n",
      "\n",
      "working:4\n",
      "\n",
      "End\n"
     ]
    }
   ],
   "source": [
    "# \"Start\"가 출력되고, 그 다음에 스레드의 결과가 출력된 후, 마지막으로 \"End\"가 출력되게 하려면?\n",
    "# 스레드의 join 함수를 사용해, 해당 스레드가 종료될 때까지 기다리게 하면 됨\n",
    "\n",
    "# thread_test.py\n",
    "\n",
    "import time\n",
    "import threading\n",
    "\n",
    "def long_task():\n",
    "    for i in range(5):\n",
    "        time.sleep(1)\n",
    "        print(\"working:%s\\n\" % i)\n",
    "\n",
    "print(\"Start\")\n",
    "\n",
    "threads = []\n",
    "\n",
    "for i in range(5):\n",
    "    t = threading.Thread(target=long_task)\n",
    "    threads.append(t)\n",
    "\n",
    "for t in threads:\n",
    "    t.start()\n",
    "\n",
    "for t in threads:\n",
    "    t.join() # join으로 스레드가 종료될 때 까지 기다림\n",
    "\n",
    "print(\"End\")"
   ]
  },
  {
   "attachments": {},
   "cell_type": "markdown",
   "metadata": {},
   "source": [
    "* tempfile\n",
    ">  - 파일을 임시로 만들어 사용할 때 유용한 모듈"
   ]
  },
  {
   "attachments": {},
   "cell_type": "markdown",
   "metadata": {},
   "source": [
    ">  - tempfile.mkstemp( )\n",
    ">  - 중복되지 않는 임시 파일의 이름을 무작위로 만들어 리턴"
   ]
  },
  {
   "attachments": {},
   "cell_type": "markdown",
   "metadata": {},
   "source": [
    ">>  - 궁금한 점\n",
    ">>  - 이름만 만들어 리턴하는지, 임시로 파일을 만들어 해당 이름으로 리턴하는지?"
   ]
  },
  {
   "cell_type": "code",
   "execution_count": 41,
   "metadata": {},
   "outputs": [
    {
     "data": {
      "text/plain": [
       "(67, '/tmp/tmpfbfsoxh2')"
      ]
     },
     "execution_count": 41,
     "metadata": {},
     "output_type": "execute_result"
    }
   ],
   "source": [
    "import tempfile\n",
    "\n",
    "filename = tempfile.mkstemp()\n",
    "filename"
   ]
  },
  {
   "attachments": {},
   "cell_type": "markdown",
   "metadata": {},
   "source": [
    ">  - tempfile.TemporaryFile( ) 임시 저장 공간으로 사용할 파일 객체를 리턴\n",
    ">  - 기본적으로 바이너리 쓰기 모드(wb)를 갖음\n",
    ">  - f.close( ) 호출되면 이 파일은 자동으로 삭제"
   ]
  },
  {
   "cell_type": "code",
   "execution_count": 43,
   "metadata": {},
   "outputs": [],
   "source": [
    "import tempfile\n",
    "\n",
    "f = tempfile.TemporaryFile()\n",
    "f.close()"
   ]
  },
  {
   "attachments": {},
   "cell_type": "markdown",
   "metadata": {},
   "source": [
    "* traceback\n",
    ">  - 프로그램 실행 중 발생한 오류를 추적할 때 사용 모듈\n",
    ">  - 복잡한 파이썬 코드는 어디에서 어떤 오류가 발생했는지 알기 어려움"
   ]
  },
  {
   "cell_type": "code",
   "execution_count": 45,
   "metadata": {},
   "outputs": [
    {
     "name": "stdout",
     "output_type": "stream",
     "text": [
      "오류가 발생했습니다\n"
     ]
    }
   ],
   "source": [
    "# traceback_test.py\n",
    "\n",
    "def a():\n",
    "    return 1/0\n",
    "\n",
    "def b():\n",
    "    a()\n",
    "\n",
    "def main():\n",
    "    try:\n",
    "        b()\n",
    "    except:\n",
    "        print(\"오류가 발생했습니다\")\n",
    "\n",
    "main()\n",
    "\n",
    "# main()함수 시작하면 b() 함수 호출, b() 함수에서 다시 a() 함수 호출하고, 1을 0으로 나누니까 오류가 발생해서, \"오류가 발생했습니다\" 메시지 출력\n",
    "\n",
    "# 코드에서 오류가 발생한 위치와 원인을 정확히 판단해보자"
   ]
  },
  {
   "cell_type": "code",
   "execution_count": 46,
   "metadata": {},
   "outputs": [
    {
     "name": "stdout",
     "output_type": "stream",
     "text": [
      "오류가 발생했습니다.\n",
      "Traceback (most recent call last):\n",
      "  File \"/tmp/ipykernel_48679/1929379760.py\", line 13, in main\n",
      "    b()\n",
      "  File \"/tmp/ipykernel_48679/1929379760.py\", line 9, in b\n",
      "    a()\n",
      "  File \"/tmp/ipykernel_48679/1929379760.py\", line 6, in a\n",
      "    return 1/0\n",
      "ZeroDivisionError: division by zero\n",
      "\n"
     ]
    }
   ],
   "source": [
    "# traceback_test.py\n",
    "\n",
    "import traceback # traceback 모듈 적용\n",
    "\n",
    "def a():\n",
    "    return 1/0\n",
    "\n",
    "def b():\n",
    "    a()\n",
    "\n",
    "def main():\n",
    "    try:\n",
    "        b()\n",
    "    except:\n",
    "        print(\"오류가 발생했습니다.\")\n",
    "        print(traceback.format_exc()) # traceback 모듈의 format_exc()는 오류 추적 결과를 문자열로 리턴하는 함수\n",
    "\n",
    "main()\n",
    "\n",
    "# main()함수에서  b() 함수 호출, b() 함수에서 다시 a() 함수 호출, 1을 0으로 나누니까 ZeroDivisionError 오류가 발생한 것을 로그를 통해 정확하게 확인 가능"
   ]
  },
  {
   "attachments": {},
   "cell_type": "markdown",
   "metadata": {},
   "source": [
    "* json\n",
    ">  - JSON 데이터 쉽게 처리하는 모듈"
   ]
  },
  {
   "attachments": {},
   "cell_type": "markdown",
   "metadata": {},
   "source": [
    ">>  - 개인정보를 JSON 형태의 데이터로 만든 myinfo.json 파일\n",
    ">>  - 인터넷으로 얻은 이 파일을 읽어 파이썬에서 처리할 수 있도록 딕셔너리 자료형으로 만드려면?\n",
    ">>  - 즉, JSON 파일을 읽어 딕셔너리로 변환하려면 json 모듈 사용하자"
   ]
  },
  {
   "attachments": {},
   "cell_type": "markdown",
   "metadata": {},
   "source": [
    ">>>  - 파일명 : myinfo.json\n",
    "\n",
    "{\n",
    "    \"name\": \"홍길동\",\n",
    "    \"birth\": \"0525\",\n",
    "    \"age\": 30\n",
    "}"
   ]
  },
  {
   "attachments": {},
   "cell_type": "markdown",
   "metadata": {},
   "source": [
    ">>  - JSON 파일 읽을 때, json.load(파일_객체)를 사용\n",
    ">>  - load( ) 함수는 읽은 데이터를 딕셔너리 자료형으로 리턴"
   ]
  },
  {
   "cell_type": "code",
   "execution_count": 50,
   "metadata": {},
   "outputs": [
    {
     "data": {
      "text/plain": [
       "dict"
      ]
     },
     "execution_count": 50,
     "metadata": {},
     "output_type": "execute_result"
    }
   ],
   "source": [
    "import json\n",
    "\n",
    "with open('myinfo.json') as f:\n",
    "    data = json.load(f)\n",
    "\n",
    "type(data)"
   ]
  },
  {
   "cell_type": "code",
   "execution_count": 51,
   "metadata": {},
   "outputs": [
    {
     "data": {
      "text/plain": [
       "{'name': '홍길동', 'birth': '0525', 'age': 30}"
      ]
     },
     "execution_count": 51,
     "metadata": {},
     "output_type": "execute_result"
    }
   ],
   "source": [
    "data"
   ]
  },
  {
   "attachments": {},
   "cell_type": "markdown",
   "metadata": {},
   "source": [
    ">>  - 딕셔너리 자료형을 JSON 파일로 생성 시, json.dump(딕셔너리, 파일_객체) 사용"
   ]
  },
  {
   "cell_type": "code",
   "execution_count": 53,
   "metadata": {},
   "outputs": [],
   "source": [
    "import json\n",
    "\n",
    "data = {'name': '홍길동', 'birth': '0525', 'age': 30}\n",
    "\n",
    "with open('myinfo.json', 'w') as f:\n",
    "    json.dump(data, f)\n",
    "\n",
    "# myinfo.json이 생성되고, {\"name\": \"\\ud64d\\uae38\\ub3d9\", \"birth\": \"0525\", \"age\": 30} 를 담고 있음"
   ]
  },
  {
   "attachments": {},
   "cell_type": "markdown",
   "metadata": {},
   "source": [
    ">>  - 딕셔너리 자료형을 JSON 문자열로 만들려면, json.dumps() 함수를 사용"
   ]
  },
  {
   "cell_type": "code",
   "execution_count": 57,
   "metadata": {},
   "outputs": [
    {
     "data": {
      "text/plain": [
       "'{\"name\": \"\\\\ud64d\\\\uae38\\\\ub3d9\", \"birth\": \"0525\", \"age\": 30}'"
      ]
     },
     "execution_count": 57,
     "metadata": {},
     "output_type": "execute_result"
    }
   ],
   "source": [
    "import json\n",
    "\n",
    "d = {\"name\": \"홍길동\", \"birth\": \"0525\", \"age\": 30}\n",
    "json_data = json.dumps(d)\n",
    "json_data"
   ]
  },
  {
   "attachments": {},
   "cell_type": "markdown",
   "metadata": {},
   "source": [
    ">>  - dump( ), dumps( ) 함수는 기본적으로 데이터를 아스키 형태로 저장함\n",
    ">>  - 딕셔너리를 JSON 데이터로 변경하면, '홍길동'과 같은 한글 문자열이 코드 형태로 표시\n",
    ">>  - 유니코드 문자열을 아스키 형태로 저장하다 보니 한글 문자열이 깨진 것 처럼 보임\n",
    ">>  - 하지만 JSON 문자열을 딕셔너리로 다시 역변환하는 데는 문제가 없음"
   ]
  },
  {
   "attachments": {},
   "cell_type": "markdown",
   "metadata": {},
   "source": [
    ">>>  - 유니코드? 컴퓨터 처리를 위한 텍스트 표현에 사용되는 범용 문자 인코딩 표준. 일관성 있는 방식으로 다국어 텍스트를 인코딩할 수 있도록 하며 국제 텍스트 파일 교환을 원활하게 처리함\n",
    ">>>  - 아스키 형태? 미국에서 정의한 표준화한 부호체계. 7비트 즉, 128개의 고유한 값만 사용"
   ]
  },
  {
   "attachments": {},
   "cell_type": "markdown",
   "metadata": {},
   "source": [
    ">>  - JSON 문자열을 딕셔너리로 변환할 때, json.loads( ) 함수 사용"
   ]
  },
  {
   "cell_type": "code",
   "execution_count": 58,
   "metadata": {},
   "outputs": [
    {
     "data": {
      "text/plain": [
       "{'name': '홍길동', 'birth': '0525', 'age': 30}"
      ]
     },
     "execution_count": 58,
     "metadata": {},
     "output_type": "execute_result"
    }
   ],
   "source": [
    "json.loads(json_data)"
   ]
  },
  {
   "attachments": {},
   "cell_type": "markdown",
   "metadata": {},
   "source": [
    ">>  - 한글 문자열이 아스키 형태의 문자열로 변경되는 것을 방지하는 방법\n",
    ">>  - ensure_ascii = False 옵션 사용\n",
    ">>  - 데이터 저장 시, 아스키 형태로 변환하지 않겠다는 뜻"
   ]
  },
  {
   "cell_type": "code",
   "execution_count": 59,
   "metadata": {},
   "outputs": [
    {
     "data": {
      "text/plain": [
       "'{\"name\": \"홍길동\", \"birth\": \"0525\", \"age\": 30}'"
      ]
     },
     "execution_count": 59,
     "metadata": {},
     "output_type": "execute_result"
    }
   ],
   "source": [
    "d = {\"name\": \"홍길동\", \"birth\": \"0525\", \"age\": 30}\n",
    "json_data = json.dumps(d, ensure_ascii = False)\n",
    "json_data"
   ]
  },
  {
   "cell_type": "code",
   "execution_count": 60,
   "metadata": {},
   "outputs": [
    {
     "data": {
      "text/plain": [
       "{'name': '홍길동', 'birth': '0525', 'age': 30}"
      ]
     },
     "execution_count": 60,
     "metadata": {},
     "output_type": "execute_result"
    }
   ],
   "source": [
    "json.loads(json_data)"
   ]
  },
  {
   "attachments": {},
   "cell_type": "markdown",
   "metadata": {},
   "source": [
    ">>  - 출력되는 JSON 문자열 보기 좋게 정렬하려면?\n",
    ">>  - indent 옵션 추가 ( 들여쓰기 )"
   ]
  },
  {
   "cell_type": "code",
   "execution_count": 61,
   "metadata": {},
   "outputs": [
    {
     "name": "stdout",
     "output_type": "stream",
     "text": [
      "{\n",
      "  \"name\": \"홍길동\",\n",
      "  \"birth\": \"0525\",\n",
      "  \"age\": 30\n",
      "}\n"
     ]
    }
   ],
   "source": [
    "d = {\"name\": \"홍길동\", \"birth\": \"0525\", \"age\": 30}\n",
    "print(json.dumps(d, indent=2, ensure_ascii=False))"
   ]
  },
  {
   "cell_type": "code",
   "execution_count": 64,
   "metadata": {},
   "outputs": [
    {
     "name": "stdout",
     "output_type": "stream",
     "text": [
      "{\n",
      " \"name\": \"홍길동\",\n",
      " \"birth\": \"0525\",\n",
      " \"age\": 30\n",
      "}\n"
     ]
    }
   ],
   "source": [
    "d = {\"name\": \"홍길동\", \"birth\": \"0525\", \"age\": 30}\n",
    "print(json.dumps(d, indent=1, ensure_ascii=False))"
   ]
  },
  {
   "cell_type": "code",
   "execution_count": 65,
   "metadata": {},
   "outputs": [
    {
     "name": "stdout",
     "output_type": "stream",
     "text": [
      "{\n",
      "   \"name\": \"홍길동\",\n",
      "   \"birth\": \"0525\",\n",
      "   \"age\": 30\n",
      "}\n"
     ]
    }
   ],
   "source": [
    "d = {\"name\": \"홍길동\", \"birth\": \"0525\", \"age\": 30}\n",
    "print(json.dumps(d, indent=3, ensure_ascii=False))"
   ]
  },
  {
   "attachments": {},
   "cell_type": "markdown",
   "metadata": {},
   "source": [
    ">>  - 리스트, 튜플같은 다른 자료형도 JSON 문자열로 바꿀 수 있음"
   ]
  },
  {
   "cell_type": "code",
   "execution_count": 66,
   "metadata": {},
   "outputs": [
    {
     "data": {
      "text/plain": [
       "'[1, 2, 3]'"
      ]
     },
     "execution_count": 66,
     "metadata": {},
     "output_type": "execute_result"
    }
   ],
   "source": [
    "json.dumps([1, 2, 3])"
   ]
  },
  {
   "cell_type": "code",
   "execution_count": 67,
   "metadata": {},
   "outputs": [
    {
     "data": {
      "text/plain": [
       "'[4, 5, 6]'"
      ]
     },
     "execution_count": 67,
     "metadata": {},
     "output_type": "execute_result"
    }
   ],
   "source": [
    "json.dumps((4, 5, 6))"
   ]
  },
  {
   "attachments": {},
   "cell_type": "markdown",
   "metadata": {},
   "source": [
    "* urllib\n",
    ">  - URL을 읽고 분석할 때 사용 모듈"
   ]
  },
  {
   "attachments": {},
   "cell_type": "markdown",
   "metadata": {},
   "source": [
    ">>  - 브라우저로 위키독스의 특정 페이지를 읽고 싶을 때\n",
    ">>  - https://wikidocs.net/페이지_번호"
   ]
  },
  {
   "attachments": {},
   "cell_type": "markdown",
   "metadata": {},
   "source": [
    ">>  - 오프라인으로도 읽을 수 있도록, 페이지 번호를 입력받아, 위키독스의 특정 페이지를 wikidocs_페이지_번호.html 파일로 저장하는 함수를 만드는 방법"
   ]
  },
  {
   "attachments": {},
   "cell_type": "markdown",
   "metadata": {},
   "source": [
    ">>  - URL 호출해 원하는 리소스 얻고 싶을 때, urllib 모듈 사용"
   ]
  },
  {
   "cell_type": "code",
   "execution_count": 2,
   "metadata": {},
   "outputs": [],
   "source": [
    "# urllib_test.py\n",
    "\n",
    "import urllib.request\n",
    "\n",
    "def get_wikidocs(page):\n",
    "    resource = 'https://wikidocs.net/{}'.format(page)\n",
    "    with urllib.request.urlopen(resource) as s:\n",
    "        with open('wikidocs_%s.html' % page, 'wb') as f:\n",
    "            f.write(s.read())\n",
    "\n",
    "# get_wikidocs(page)는 위키독스의 페이지 번호를 입력받아, 해당 페이지의 리소스 내용을 파일로 저장하는 함수\n",
    "# urllib.request.urlopen(resource) 로 s 객체 생성\n",
    "# s.read()로 리소스 내용 전체를 읽어 저장"
   ]
  },
  {
   "cell_type": "code",
   "execution_count": 4,
   "metadata": {},
   "outputs": [
    {
     "ename": "HTTPError",
     "evalue": "HTTP Error 403: Forbidden",
     "output_type": "error",
     "traceback": [
      "\u001b[0;31m---------------------------------------------------------------------------\u001b[0m",
      "\u001b[0;31mHTTPError\u001b[0m                                 Traceback (most recent call last)",
      "Cell \u001b[0;32mIn[4], line 1\u001b[0m\n\u001b[0;32m----> 1\u001b[0m get_wikidocs(\u001b[39m33\u001b[39;49m)\n",
      "Cell \u001b[0;32mIn[2], line 7\u001b[0m, in \u001b[0;36mget_wikidocs\u001b[0;34m(page)\u001b[0m\n\u001b[1;32m      5\u001b[0m \u001b[39mdef\u001b[39;00m \u001b[39mget_wikidocs\u001b[39m(page):\n\u001b[1;32m      6\u001b[0m     resource \u001b[39m=\u001b[39m \u001b[39m'\u001b[39m\u001b[39mhttps://wikidocs.net/\u001b[39m\u001b[39m{}\u001b[39;00m\u001b[39m'\u001b[39m\u001b[39m.\u001b[39mformat(page)\n\u001b[0;32m----> 7\u001b[0m     \u001b[39mwith\u001b[39;00m urllib\u001b[39m.\u001b[39;49mrequest\u001b[39m.\u001b[39;49murlopen(resource) \u001b[39mas\u001b[39;00m s:\n\u001b[1;32m      8\u001b[0m         \u001b[39mwith\u001b[39;00m \u001b[39mopen\u001b[39m(\u001b[39m'\u001b[39m\u001b[39mwikidocs_\u001b[39m\u001b[39m%s\u001b[39;00m\u001b[39m.html\u001b[39m\u001b[39m'\u001b[39m \u001b[39m%\u001b[39m page, \u001b[39m'\u001b[39m\u001b[39mwb\u001b[39m\u001b[39m'\u001b[39m) \u001b[39mas\u001b[39;00m f:\n\u001b[1;32m      9\u001b[0m             f\u001b[39m.\u001b[39mwrite(s\u001b[39m.\u001b[39mread())\n",
      "File \u001b[0;32m~/anaconda3/envs/py3.9/lib/python3.9/urllib/request.py:214\u001b[0m, in \u001b[0;36murlopen\u001b[0;34m(url, data, timeout, cafile, capath, cadefault, context)\u001b[0m\n\u001b[1;32m    212\u001b[0m \u001b[39melse\u001b[39;00m:\n\u001b[1;32m    213\u001b[0m     opener \u001b[39m=\u001b[39m _opener\n\u001b[0;32m--> 214\u001b[0m \u001b[39mreturn\u001b[39;00m opener\u001b[39m.\u001b[39;49mopen(url, data, timeout)\n",
      "File \u001b[0;32m~/anaconda3/envs/py3.9/lib/python3.9/urllib/request.py:523\u001b[0m, in \u001b[0;36mOpenerDirector.open\u001b[0;34m(self, fullurl, data, timeout)\u001b[0m\n\u001b[1;32m    521\u001b[0m \u001b[39mfor\u001b[39;00m processor \u001b[39min\u001b[39;00m \u001b[39mself\u001b[39m\u001b[39m.\u001b[39mprocess_response\u001b[39m.\u001b[39mget(protocol, []):\n\u001b[1;32m    522\u001b[0m     meth \u001b[39m=\u001b[39m \u001b[39mgetattr\u001b[39m(processor, meth_name)\n\u001b[0;32m--> 523\u001b[0m     response \u001b[39m=\u001b[39m meth(req, response)\n\u001b[1;32m    525\u001b[0m \u001b[39mreturn\u001b[39;00m response\n",
      "File \u001b[0;32m~/anaconda3/envs/py3.9/lib/python3.9/urllib/request.py:632\u001b[0m, in \u001b[0;36mHTTPErrorProcessor.http_response\u001b[0;34m(self, request, response)\u001b[0m\n\u001b[1;32m    629\u001b[0m \u001b[39m# According to RFC 2616, \"2xx\" code indicates that the client's\u001b[39;00m\n\u001b[1;32m    630\u001b[0m \u001b[39m# request was successfully received, understood, and accepted.\u001b[39;00m\n\u001b[1;32m    631\u001b[0m \u001b[39mif\u001b[39;00m \u001b[39mnot\u001b[39;00m (\u001b[39m200\u001b[39m \u001b[39m<\u001b[39m\u001b[39m=\u001b[39m code \u001b[39m<\u001b[39m \u001b[39m300\u001b[39m):\n\u001b[0;32m--> 632\u001b[0m     response \u001b[39m=\u001b[39m \u001b[39mself\u001b[39;49m\u001b[39m.\u001b[39;49mparent\u001b[39m.\u001b[39;49merror(\n\u001b[1;32m    633\u001b[0m         \u001b[39m'\u001b[39;49m\u001b[39mhttp\u001b[39;49m\u001b[39m'\u001b[39;49m, request, response, code, msg, hdrs)\n\u001b[1;32m    635\u001b[0m \u001b[39mreturn\u001b[39;00m response\n",
      "File \u001b[0;32m~/anaconda3/envs/py3.9/lib/python3.9/urllib/request.py:561\u001b[0m, in \u001b[0;36mOpenerDirector.error\u001b[0;34m(self, proto, *args)\u001b[0m\n\u001b[1;32m    559\u001b[0m \u001b[39mif\u001b[39;00m http_err:\n\u001b[1;32m    560\u001b[0m     args \u001b[39m=\u001b[39m (\u001b[39mdict\u001b[39m, \u001b[39m'\u001b[39m\u001b[39mdefault\u001b[39m\u001b[39m'\u001b[39m, \u001b[39m'\u001b[39m\u001b[39mhttp_error_default\u001b[39m\u001b[39m'\u001b[39m) \u001b[39m+\u001b[39m orig_args\n\u001b[0;32m--> 561\u001b[0m     \u001b[39mreturn\u001b[39;00m \u001b[39mself\u001b[39;49m\u001b[39m.\u001b[39;49m_call_chain(\u001b[39m*\u001b[39;49margs)\n",
      "File \u001b[0;32m~/anaconda3/envs/py3.9/lib/python3.9/urllib/request.py:494\u001b[0m, in \u001b[0;36mOpenerDirector._call_chain\u001b[0;34m(self, chain, kind, meth_name, *args)\u001b[0m\n\u001b[1;32m    492\u001b[0m \u001b[39mfor\u001b[39;00m handler \u001b[39min\u001b[39;00m handlers:\n\u001b[1;32m    493\u001b[0m     func \u001b[39m=\u001b[39m \u001b[39mgetattr\u001b[39m(handler, meth_name)\n\u001b[0;32m--> 494\u001b[0m     result \u001b[39m=\u001b[39m func(\u001b[39m*\u001b[39;49margs)\n\u001b[1;32m    495\u001b[0m     \u001b[39mif\u001b[39;00m result \u001b[39mis\u001b[39;00m \u001b[39mnot\u001b[39;00m \u001b[39mNone\u001b[39;00m:\n\u001b[1;32m    496\u001b[0m         \u001b[39mreturn\u001b[39;00m result\n",
      "File \u001b[0;32m~/anaconda3/envs/py3.9/lib/python3.9/urllib/request.py:641\u001b[0m, in \u001b[0;36mHTTPDefaultErrorHandler.http_error_default\u001b[0;34m(self, req, fp, code, msg, hdrs)\u001b[0m\n\u001b[1;32m    640\u001b[0m \u001b[39mdef\u001b[39;00m \u001b[39mhttp_error_default\u001b[39m(\u001b[39mself\u001b[39m, req, fp, code, msg, hdrs):\n\u001b[0;32m--> 641\u001b[0m     \u001b[39mraise\u001b[39;00m HTTPError(req\u001b[39m.\u001b[39mfull_url, code, msg, hdrs, fp)\n",
      "\u001b[0;31mHTTPError\u001b[0m: HTTP Error 403: Forbidden"
     ]
    }
   ],
   "source": [
    "get_wikidocs(33)\n",
    "\n",
    "# https://wikidocs.net/33 웹 페이지를 wikidocs_33.html 이라는 파일로 저장"
   ]
  },
  {
   "attachments": {},
   "cell_type": "markdown",
   "metadata": {},
   "source": [
    "* 궁금한 점\n",
    ">  - 왜 오류가 발생했을까?\n",
    ">  - '403 Forbidden' 는 웹사이트 접속 실패 오류 메시지\n",
    ">  - 접속하려는 웹 페이지에 대한 액세스가 어떠한 이유로 금지되었음을 나타내는 일반적인 HTTP 상태 이상 코드"
   ]
  },
  {
   "attachments": {},
   "cell_type": "markdown",
   "metadata": {},
   "source": [
    "* webbrowser\n",
    ">  - 파이썬 프로그램에서 시스템 브라우저를 호출할 때 사용하는 모듈"
   ]
  },
  {
   "attachments": {},
   "cell_type": "markdown",
   "metadata": {},
   "source": [
    ">>  - 개발 중 파이썬 문서를 참고하려 함\n",
    ">>  - https://python.org 사이트를 새로운 웹 브라우저로 열기 위한 코드는?"
   ]
  },
  {
   "attachments": {},
   "cell_type": "markdown",
   "metadata": {},
   "source": [
    ">>  - 파이썬으로 웹 페이지를 새 창으로 열려면, webbrowser 모듈의 open_new( ) 함수 사용"
   ]
  },
  {
   "cell_type": "code",
   "execution_count": 7,
   "metadata": {},
   "outputs": [
    {
     "data": {
      "text/plain": [
       "True"
      ]
     },
     "execution_count": 7,
     "metadata": {},
     "output_type": "execute_result"
    }
   ],
   "source": [
    "# webbrowser_test.py\n",
    "\n",
    "import webbrowser\n",
    "\n",
    "webbrowser.open_new('http://python.org')\n",
    "\n",
    "# https://www.python.org/ 창이 뜬다"
   ]
  },
  {
   "attachments": {},
   "cell_type": "markdown",
   "metadata": {},
   "source": [
    ">>  - 이미 열린 브라우저로 원하는 사이트를 열고 싶다면, open_new( ) 대신 open( ) 사용"
   ]
  },
  {
   "cell_type": "code",
   "execution_count": 8,
   "metadata": {},
   "outputs": [
    {
     "data": {
      "text/plain": [
       "True"
      ]
     },
     "execution_count": 8,
     "metadata": {},
     "output_type": "execute_result"
    }
   ],
   "source": [
    "webbrowser.open('https://wikidocs.net/33')"
   ]
  }
 ],
 "metadata": {
  "kernelspec": {
   "display_name": "knh1",
   "language": "python",
   "name": "python3"
  },
  "language_info": {
   "codemirror_mode": {
    "name": "ipython",
    "version": 3
   },
   "file_extension": ".py",
   "mimetype": "text/x-python",
   "name": "python",
   "nbconvert_exporter": "python",
   "pygments_lexer": "ipython3",
   "version": "3.9.16"
  },
  "orig_nbformat": 4
 },
 "nbformat": 4,
 "nbformat_minor": 2
}
