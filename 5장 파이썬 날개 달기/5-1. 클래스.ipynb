{
 "cells": [
  {
   "attachments": {},
   "cell_type": "markdown",
   "metadata": {},
   "source": [
    "Jump to python\n",
    "=="
   ]
  },
  {
   "attachments": {},
   "cell_type": "markdown",
   "metadata": {},
   "source": [
    "클래스\n",
    "--"
   ]
  },
  {
   "cell_type": "code",
   "execution_count": 16,
   "metadata": {},
   "outputs": [
    {
     "name": "stdout",
     "output_type": "stream",
     "text": [
      "3\n",
      "7\n"
     ]
    }
   ],
   "source": [
    "# calculator.py\n",
    "# 계산기는 이전에 계산한 결괏값을 기억하고 있어야 함\n",
    "\n",
    "result = 0\n",
    "\n",
    "def add(num):\n",
    "    global result\n",
    "    result += num # 결괏값(result)에 입력값(result) 더하기\n",
    "    return result # 결괏값 리턴\n",
    "\n",
    "print(add(3))\n",
    "print(add(4))\n",
    "\n",
    "# 입력값을 이전에 계산한 결괏값에 더한 후 리턴하는 add 함수\n",
    "# 이전에 계산한 결괏값을 유지하기 위해 result 전역 변수 (global) 사용"
   ]
  },
  {
   "cell_type": "code",
   "execution_count": 17,
   "metadata": {},
   "outputs": [
    {
     "name": "stdout",
     "output_type": "stream",
     "text": [
      "3\n",
      "7\n",
      "3\n",
      "10\n"
     ]
    }
   ],
   "source": [
    "# 2대의 계산기가 필요한 상황이라면?\n",
    "# 함수를 각각 따로 만들어야 함\n",
    "\n",
    "# calculator2.py\n",
    "\n",
    "result1 = 0\n",
    "result2 = 0\n",
    "\n",
    "def add1(num): # 계산기1\n",
    "    global result1\n",
    "    result1 += num\n",
    "    return result1\n",
    "\n",
    "def add2(num): # 계산기2\n",
    "    global result2\n",
    "    result2 += num\n",
    "    return result2\n",
    "\n",
    "print(add1(3))\n",
    "print(add1(4))\n",
    "print(add2(3))\n",
    "print(add2(7))\n",
    "\n",
    "# 동일한 일을 수행하는 add1과 add2 함수를 만들고, 각 함수에서 계산한 결괏값을 유지하며 저장하는 전역 변수 result1과 result2 정의\n",
    "\n",
    "# 계산기가 점점 더 많이 필요한 상황이 발생하고, 또 계산기에 다양한 기능을 추가할 시 그때마다 전역 변수와 함수를 추가한다면 더욱 복잡해짐!"
   ]
  },
  {
   "cell_type": "code",
   "execution_count": 18,
   "metadata": {},
   "outputs": [
    {
     "name": "stdout",
     "output_type": "stream",
     "text": [
      "3\n",
      "7\n",
      "3\n",
      "10\n"
     ]
    }
   ],
   "source": [
    "# calculator3.py\n",
    "\n",
    "class Calculator:\n",
    "    def __init__(self):\n",
    "        self.result = 0\n",
    "\n",
    "    def add(self, num):\n",
    "        self.result += num\n",
    "        return self.result\n",
    "    \n",
    "cal1 = Calculator()\n",
    "cal2 = Calculator()\n",
    "\n",
    "print(cal1.add(3))\n",
    "print(cal1.add(4))\n",
    "print(cal2.add(3))\n",
    "print(cal2.add(7))\n",
    "\n",
    "# Calculator 클래스로 만든 별개의 계산기 cal1, cal2 (= 객체) 가 각각의 역할 수행\n",
    "# 계산기의 결괏값 또한 다른 계산기 결괏값과 상관없이 독립적인 값 유지\n",
    "\n",
    "# 즉, 클래스를 사용하면 계산기 대수가 늘어나도 객체 생성만 하면 되므로, 프로그램 작성이 용이"
   ]
  },
  {
   "cell_type": "code",
   "execution_count": 19,
   "metadata": {},
   "outputs": [
    {
     "name": "stdout",
     "output_type": "stream",
     "text": [
      "3\n",
      "7\n",
      "2\n",
      "3\n",
      "10\n",
      "4\n"
     ]
    }
   ],
   "source": [
    "# 빼기 기능 더하고 싶을 때, Calculator 클래스에 빼기 기능 함수를 추가하면 됨\n",
    "\n",
    "class Calculator:\n",
    "    def __init__(self):\n",
    "        self.result = 0\n",
    "\n",
    "    def add(self, num):\n",
    "        self.result += num\n",
    "        return self.result\n",
    "    \n",
    "    def sub(self, num):\n",
    "        self.result -= num\n",
    "        return self.result\n",
    "    \n",
    "cal1 = Calculator()\n",
    "cal2 = Calculator()\n",
    "\n",
    "print(cal1.add(3))\n",
    "print(cal1.add(4))\n",
    "print(cal1.sub(5))\n",
    "print(cal2.add(3))\n",
    "print(cal2.add(7))\n",
    "print(cal2.sub(6))\n",
    "    "
   ]
  },
  {
   "attachments": {},
   "cell_type": "markdown",
   "metadata": {},
   "source": [
    "* 클래스와 객체\n",
    ">  - 과자 틀 = 클래스 (똑같은 무언가를 계속 만들어 낼 수 있는 설계 도면)\n",
    ">  - 과자 틀로 찍어 낸 과자 = 객체 (클래스로 만든 피조물)\n",
    "\n",
    ">  - 클래스로 만든 객체는 각 객체마다 고유한 성격을 가짐\n",
    ">  - 동일 클래스로 만든 객체는 서로 영향을 주지 않음"
   ]
  },
  {
   "cell_type": "code",
   "execution_count": 20,
   "metadata": {},
   "outputs": [],
   "source": [
    "class Cookie:\n",
    "    pass\n",
    "\n",
    "# Cookie 클래스는 아무 기능도 없는 클래스지만, 객체를 생성하는 기능이 있음"
   ]
  },
  {
   "cell_type": "code",
   "execution_count": 21,
   "metadata": {},
   "outputs": [],
   "source": [
    "a = Cookie()\n",
    "b = Cookie()\n",
    "\n",
    "# Cookie()의 결괏값을 리턴받은 a와 b가 바로 객체\n",
    "# 함수 사용해서 결괏값을 리턴받는 모습과 비슷"
   ]
  },
  {
   "attachments": {},
   "cell_type": "markdown",
   "metadata": {},
   "source": [
    "* 객체와 인스턴스의 차이\n",
    ">  - 클래스로 만든 객체를 '인스턴스'라고도 함\n",
    ">  - a = Cookie()\n",
    ">  - a 는 객체\n",
    ">  - a 객체는 Cookie의 인스턴스. 즉, 인스턴스는 특정 객체가 어떤 클래스의 객체인지 관계 위주로 설명할 때 사용"
   ]
  },
  {
   "attachments": {},
   "cell_type": "markdown",
   "metadata": {},
   "source": [
    "* 사칙 연산 클래스 만들기\n",
    ">  - 클래스를 만들 때, 객체를 중심으로 어떤 식으로 동작하게 할 지 미리 구상한 후, 완성시켜 나가는 것이 좋음"
   ]
  },
  {
   "attachments": {},
   "cell_type": "markdown",
   "metadata": {},
   "source": [
    "* 사칙 연산 클래스 FourCal\n",
    ">  - 사칙 연산 하기위해 두 숫자를 입력받는 setdata 메서드\n",
    ">  - 더하기 기능 add 메서드\n",
    ">  - 곱하기 기능 mul 메서드\n",
    ">  - 빼기 기능 sub 메서드\n",
    ">  - 나누기 기능 div 메서드"
   ]
  },
  {
   "attachments": {},
   "cell_type": "markdown",
   "metadata": {},
   "source": [
    "* 다음과 같이 동작하는 FourCal 클래스 구상하기\n",
    ">  - a = FourCal() # a 객체 생성\n",
    ">  - a.setdata(4, 2) # 숫자 4와 2를 a에 지정\n",
    ">  - a.add() # 두 수 합한 결과 리턴\n",
    ">  - a.mul() # 두 수 곱한 결과 리턴\n",
    ">  - a.sub() # 두 수 뺀 결과 리턴\n",
    ">  - a.div() # 두 수 나눈 결과 리턴"
   ]
  },
  {
   "attachments": {},
   "cell_type": "markdown",
   "metadata": {},
   "source": [
    "* 클래스 구조 만들기"
   ]
  },
  {
   "cell_type": "code",
   "execution_count": 22,
   "metadata": {},
   "outputs": [],
   "source": [
    "class FourCal:\n",
    "    pass\n",
    "\n",
    "# 객체를 만들게 하기 위해서, 클래스 생성\n",
    "# pass 는 아무것도 수행하지 않는 문법으로, 임시로 코드 작성 시 주로 사용"
   ]
  },
  {
   "cell_type": "code",
   "execution_count": 23,
   "metadata": {},
   "outputs": [
    {
     "name": "stdout",
     "output_type": "stream",
     "text": [
      "<class '__main__.FourCal'>\n"
     ]
    }
   ],
   "source": [
    "a = FourCal()\n",
    "print(type(a))\n",
    "\n",
    "# type은 파이썬 내장 함수, 객체 타입 출력해 줌\n",
    "# 객체 a는 FourCal 클래스의 인스턴스"
   ]
  },
  {
   "attachments": {},
   "cell_type": "markdown",
   "metadata": {},
   "source": [
    "* 객체에 연산할 숫자 지정"
   ]
  },
  {
   "cell_type": "code",
   "execution_count": 25,
   "metadata": {},
   "outputs": [],
   "source": [
    "# 사칙 연산 시 사용할 숫자 2개를 a 객체에게 알려주기 위해서 a.setdata(4, 2) 를 지정해주어야 함\n",
    "# 이를 위해 FourCal 클래스 다시 정의\n",
    "\n",
    "class FourCal:\n",
    "    def setdata(self, first, second): # 메서드의 매개변수\n",
    "        self.first = first            # 메서드의 수행문\n",
    "        self.second = second          # 메서드의 수행문\n",
    "\n",
    "# 클래스 내부에 구현된 함수는 메서드(method) 라고 부름\n",
    "\n",
    "'''\n",
    "\n",
    "일반적인 함수 생성 시, 소스 코드 작성 방법\n",
    "\n",
    "def 함수_이름(매개변수):\n",
    "    수행할_문장\n",
    "    ...\n",
    "\n",
    "'''\n"
   ]
  },
  {
   "attachments": {},
   "cell_type": "markdown",
   "metadata": {},
   "source": [
    "* setdata 메서드의 매개변수\n",
    ">  - 매개변수로 self, first, second 3개의 입력값을 받음\n",
    ">  - 첫 번째 매개변수 self의 특별한 의미"
   ]
  },
  {
   "cell_type": "code",
   "execution_count": 26,
   "metadata": {},
   "outputs": [
    {
     "ename": "TypeError",
     "evalue": "setdata() takes 3 positional arguments but 4 were given",
     "output_type": "error",
     "traceback": [
      "\u001b[0;31m---------------------------------------------------------------------------\u001b[0m",
      "\u001b[0;31mTypeError\u001b[0m                                 Traceback (most recent call last)",
      "Cell \u001b[0;32mIn[26], line 2\u001b[0m\n\u001b[1;32m      1\u001b[0m a \u001b[39m=\u001b[39m FourCal()\n\u001b[0;32m----> 2\u001b[0m a\u001b[39m.\u001b[39;49msetdata(\u001b[39m3\u001b[39;49m, \u001b[39m4\u001b[39;49m, \u001b[39m2\u001b[39;49m)\n",
      "\u001b[0;31mTypeError\u001b[0m: setdata() takes 3 positional arguments but 4 were given"
     ]
    }
   ],
   "source": [
    "a = FourCal()\n",
    "a.setdata(3, 4, 2)\n",
    "\n",
    "# a 객체 통해 setdata 메서드 호출\n",
    "# 객체 이용해 메서드 호출하려면 도트(.) 연산자 사용\n",
    "\n",
    "# setdata 메서드는 self, first, second 총 3개의 매개변수가 필요\n",
    "# 실제로는 2개의 값만 전달\n",
    "\n",
    "# 그 이유는 a.setdata(4, 2) 처럼 호출 시, 첫 번째 매개변수 self에는 setdata 메서드를 호출한 객체 a가 자동으로 전달되기 때문\n",
    "\n",
    "# 파이썬 메서드 첫 번째 매개변수 이름은 관례적으로 self를 사용\n",
    "# 객체를 호출할 때, 호출한 객체 자신이 전달되기 때문\n",
    "# self 말고 다른 이름을 사용해도 상관없음"
   ]
  },
  {
   "cell_type": "code",
   "execution_count": 27,
   "metadata": {},
   "outputs": [],
   "source": [
    "a = FourCal()\n",
    "a.setdata(4, 2)"
   ]
  },
  {
   "cell_type": "code",
   "execution_count": null,
   "metadata": {},
   "outputs": [],
   "source": [
    "'''\n",
    "a.setdata(4,2)\n",
    "\n",
    "def setdata(self, first, second):\n",
    "    self.first = first\n",
    "    self.second = second\n",
    "\n",
    "a 는 self 로 전달, 4 는 first 로 전달, 2 는 second 로 전달\n",
    "'''"
   ]
  },
  {
   "attachments": {},
   "cell_type": "markdown",
   "metadata": {},
   "source": [
    "* 메서드 호출하는 다른 방법\n",
    ">  - 클래스 이용해 메서드 호출"
   ]
  },
  {
   "cell_type": "code",
   "execution_count": 28,
   "metadata": {},
   "outputs": [],
   "source": [
    "a = FourCal()\n",
    "FourCal.setdata(a, 4, 2)\n",
    "\n",
    "# '클래스명.메서드' 형태로 호출 시, 객체 a를 첫 번째 매개변수 self에 꼭 전달해야 함"
   ]
  },
  {
   "cell_type": "code",
   "execution_count": 29,
   "metadata": {},
   "outputs": [],
   "source": [
    "a = FourCal()\n",
    "a.setdata(4,2)\n",
    "\n",
    "# '객체.메서드' 형태로 호출 시, self 반드시 생략해서 호출해야 함"
   ]
  },
  {
   "attachments": {},
   "cell_type": "markdown",
   "metadata": {},
   "source": [
    "* setdata 메서드의 수행문"
   ]
  },
  {
   "cell_type": "code",
   "execution_count": 30,
   "metadata": {},
   "outputs": [],
   "source": [
    "def setdata(self, first, second):  # 메서드의 매개변수\n",
    "    self.first = first             # 메서드의 수행문\n",
    "    self.second = second           # 메서드의 수행문"
   ]
  },
  {
   "cell_type": "code",
   "execution_count": 31,
   "metadata": {},
   "outputs": [],
   "source": [
    "a = FourCal()\n",
    "a.setdata(4, 2)\n",
    "\n",
    "# a.setdata(4, 2) 호출 시, setdata 메서드의 매개변수 first, second에 각각 값 4와 2 전달\n",
    "\n",
    "# setdata 메서드의 수행문이 다음과 같이 해석\n",
    "# self.first = 4\n",
    "# self.second = 2\n",
    "\n",
    "# self는 전달된 객체 a 이기에, 다음과 같이 해석\n",
    "# a.first = 4\n",
    "# a.second = 2"
   ]
  },
  {
   "cell_type": "code",
   "execution_count": 32,
   "metadata": {},
   "outputs": [
    {
     "data": {
      "text/plain": [
       "4"
      ]
     },
     "execution_count": 32,
     "metadata": {},
     "output_type": "execute_result"
    }
   ],
   "source": [
    "# 이를 해석하면, a 객체에 객체변수 first가 생성되고 4 값이 저장된 것\n",
    "\n",
    "a.first"
   ]
  },
  {
   "cell_type": "code",
   "execution_count": 33,
   "metadata": {},
   "outputs": [
    {
     "data": {
      "text/plain": [
       "2"
      ]
     },
     "execution_count": 33,
     "metadata": {},
     "output_type": "execute_result"
    }
   ],
   "source": [
    "# a 객체에 객체변수 second가 생성되고 2 값이 저장된 것\n",
    "\n",
    "a.second\n",
    "\n",
    "# a 객체에 객체 변수 first와 second 생성 확인 가능"
   ]
  },
  {
   "attachments": {},
   "cell_type": "markdown",
   "metadata": {},
   "source": [
    "* 객체에 생성되는 객체만의 변수 = '객체변수', '속성'"
   ]
  },
  {
   "cell_type": "code",
   "execution_count": 34,
   "metadata": {},
   "outputs": [],
   "source": [
    "a = FourCal()\n",
    "b = FourCal()"
   ]
  },
  {
   "cell_type": "code",
   "execution_count": 35,
   "metadata": {},
   "outputs": [
    {
     "data": {
      "text/plain": [
       "4"
      ]
     },
     "execution_count": 35,
     "metadata": {},
     "output_type": "execute_result"
    }
   ],
   "source": [
    "a.setdata(4, 2)\n",
    "a.first"
   ]
  },
  {
   "cell_type": "code",
   "execution_count": 36,
   "metadata": {},
   "outputs": [
    {
     "data": {
      "text/plain": [
       "3"
      ]
     },
     "execution_count": 36,
     "metadata": {},
     "output_type": "execute_result"
    }
   ],
   "source": [
    "b.setdata(3, 7)\n",
    "b.first"
   ]
  },
  {
   "cell_type": "code",
   "execution_count": 37,
   "metadata": {},
   "outputs": [
    {
     "data": {
      "text/plain": [
       "4"
      ]
     },
     "execution_count": 37,
     "metadata": {},
     "output_type": "execute_result"
    }
   ],
   "source": [
    "a.first\n",
    "\n",
    "# a 객체의 first 값은 b 객체의 first 값에 영향받지 않고, 원래 값을 유지\n",
    "\n",
    "# 클래스로 만든 객체의 객체변수는 다른 객체의 객체변수에 상관없이 독립적인 값을 유지함"
   ]
  },
  {
   "cell_type": "code",
   "execution_count": 38,
   "metadata": {},
   "outputs": [],
   "source": [
    "class FourCal:\n",
    "    def setdata(self, first, second):\n",
    "        self.first = first\n",
    "        self.second = second"
   ]
  },
  {
   "attachments": {},
   "cell_type": "markdown",
   "metadata": {},
   "source": [
    "* 더하기 기능"
   ]
  },
  {
   "cell_type": "code",
   "execution_count": 40,
   "metadata": {},
   "outputs": [],
   "source": [
    "class FourCal:\n",
    "    def setdata(self, first, second):\n",
    "        self.first = first\n",
    "        self.second = second\n",
    "    def add(self):\n",
    "        result = self.first + self.second\n",
    "        return result\n",
    "    \n",
    "# add 메서드의 매개변수는 self, 리턴값은 result\n",
    "# result 계산 하는 부분 해석\n",
    "# result = self.first + self.second\n",
    "# a.add() 같이 a 객체에 의해 add 메서드 수행 시, add 메서드의 self 에는 객체 a 가 자동 입력됨\n",
    "# result = a.first + a.second\n",
    "# a.first와 a.second는 add 메서드가 호출되기 전, a.setdata(4, 2) 문장에서 a.first = 4, a.second = 2로 설정됨\n",
    "# result = 4 + 2\n",
    "# 따라서 a.add() 호출 시, 6 리턴"
   ]
  },
  {
   "cell_type": "code",
   "execution_count": 41,
   "metadata": {},
   "outputs": [
    {
     "data": {
      "text/plain": [
       "6"
      ]
     },
     "execution_count": 41,
     "metadata": {},
     "output_type": "execute_result"
    }
   ],
   "source": [
    "a = FourCal()\n",
    "a.setdata(4, 2)\n",
    "a.add()"
   ]
  },
  {
   "attachments": {},
   "cell_type": "markdown",
   "metadata": {},
   "source": [
    "* 곱하기, 빼기, 나누기 기능"
   ]
  },
  {
   "cell_type": "code",
   "execution_count": 43,
   "metadata": {},
   "outputs": [],
   "source": [
    "class FourCal:\n",
    "    def setdata(self, first, second):\n",
    "        self.first = first\n",
    "        self.second = second\n",
    "    def add(self):\n",
    "        result = self.first + self.second\n",
    "        return result\n",
    "    def mul(self):\n",
    "        result = self.first * self.second\n",
    "        return result\n",
    "    def sub(self):\n",
    "        result = self.first - self.second\n",
    "        return result\n",
    "    def div(self):\n",
    "        result = self.first / self.second\n",
    "        return result"
   ]
  },
  {
   "cell_type": "code",
   "execution_count": 44,
   "metadata": {},
   "outputs": [
    {
     "data": {
      "text/plain": [
       "6"
      ]
     },
     "execution_count": 44,
     "metadata": {},
     "output_type": "execute_result"
    }
   ],
   "source": [
    "a = FourCal()\n",
    "b = FourCal()\n",
    "a.setdata(4, 2)\n",
    "b.setdata(3, 8)\n",
    "a.add()"
   ]
  },
  {
   "cell_type": "code",
   "execution_count": 45,
   "metadata": {},
   "outputs": [
    {
     "data": {
      "text/plain": [
       "8"
      ]
     },
     "execution_count": 45,
     "metadata": {},
     "output_type": "execute_result"
    }
   ],
   "source": [
    "a.mul()"
   ]
  },
  {
   "cell_type": "code",
   "execution_count": 46,
   "metadata": {},
   "outputs": [
    {
     "data": {
      "text/plain": [
       "2"
      ]
     },
     "execution_count": 46,
     "metadata": {},
     "output_type": "execute_result"
    }
   ],
   "source": [
    "a.sub()"
   ]
  },
  {
   "cell_type": "code",
   "execution_count": 47,
   "metadata": {},
   "outputs": [
    {
     "data": {
      "text/plain": [
       "2.0"
      ]
     },
     "execution_count": 47,
     "metadata": {},
     "output_type": "execute_result"
    }
   ],
   "source": [
    "a.div()"
   ]
  },
  {
   "cell_type": "code",
   "execution_count": 48,
   "metadata": {},
   "outputs": [
    {
     "data": {
      "text/plain": [
       "11"
      ]
     },
     "execution_count": 48,
     "metadata": {},
     "output_type": "execute_result"
    }
   ],
   "source": [
    "b.add()"
   ]
  },
  {
   "cell_type": "code",
   "execution_count": 49,
   "metadata": {},
   "outputs": [
    {
     "data": {
      "text/plain": [
       "24"
      ]
     },
     "execution_count": 49,
     "metadata": {},
     "output_type": "execute_result"
    }
   ],
   "source": [
    "b.mul()"
   ]
  },
  {
   "cell_type": "code",
   "execution_count": 50,
   "metadata": {},
   "outputs": [
    {
     "data": {
      "text/plain": [
       "-5"
      ]
     },
     "execution_count": 50,
     "metadata": {},
     "output_type": "execute_result"
    }
   ],
   "source": [
    "b.sub()"
   ]
  },
  {
   "cell_type": "code",
   "execution_count": 51,
   "metadata": {},
   "outputs": [
    {
     "data": {
      "text/plain": [
       "0.375"
      ]
     },
     "execution_count": 51,
     "metadata": {},
     "output_type": "execute_result"
    }
   ],
   "source": [
    "b.div()"
   ]
  },
  {
   "attachments": {},
   "cell_type": "markdown",
   "metadata": {},
   "source": [
    "* 생성자(constructor)\n",
    ">  - 객체가 생성될 때, 자동으로 호출되는 메서드\n",
    ">  - \\_\\_init\\_\\_ 사용"
   ]
  },
  {
   "cell_type": "code",
   "execution_count": 52,
   "metadata": {},
   "outputs": [
    {
     "ename": "AttributeError",
     "evalue": "'FourCal' object has no attribute 'first'",
     "output_type": "error",
     "traceback": [
      "\u001b[0;31m---------------------------------------------------------------------------\u001b[0m",
      "\u001b[0;31mAttributeError\u001b[0m                            Traceback (most recent call last)",
      "Cell \u001b[0;32mIn[52], line 2\u001b[0m\n\u001b[1;32m      1\u001b[0m a \u001b[39m=\u001b[39m FourCal()\n\u001b[0;32m----> 2\u001b[0m a\u001b[39m.\u001b[39;49madd()\n",
      "Cell \u001b[0;32mIn[43], line 6\u001b[0m, in \u001b[0;36mFourCal.add\u001b[0;34m(self)\u001b[0m\n\u001b[1;32m      5\u001b[0m \u001b[39mdef\u001b[39;00m \u001b[39madd\u001b[39m(\u001b[39mself\u001b[39m):\n\u001b[0;32m----> 6\u001b[0m     result \u001b[39m=\u001b[39m \u001b[39mself\u001b[39;49m\u001b[39m.\u001b[39;49mfirst \u001b[39m+\u001b[39m \u001b[39mself\u001b[39m\u001b[39m.\u001b[39msecond\n\u001b[1;32m      7\u001b[0m     \u001b[39mreturn\u001b[39;00m result\n",
      "\u001b[0;31mAttributeError\u001b[0m: 'FourCal' object has no attribute 'first'"
     ]
    }
   ],
   "source": [
    "a = FourCal()\n",
    "a.add()\n",
    "\n",
    "# FourCal 클래스의 인스턴스 a에 setdata 메서드 수행하지 않고, add 메서드 먼저 수행 시 \"AttributeError: 'FourCal' object has no attribute 'first'\" 오류 발생\n",
    "# setdata 메서드를 수행해야, 객체 a의 객체변수인 first와 second가 생성되기 때문\n",
    "# 객체에 first, second 같은 초깃값을 설정해야 할 필요가 있을 때, setdata와 같은 메서드를 호출해 초깃값을 설정하기보다 생성자를 구현하는 방법이 안전"
   ]
  },
  {
   "cell_type": "code",
   "execution_count": 53,
   "metadata": {},
   "outputs": [],
   "source": [
    "class FourCal:\n",
    "\n",
    "    def __init__(self, first, second):\n",
    "        self.first = first\n",
    "        self.second = second\n",
    "\n",
    "    def setdata(self, first, second):\n",
    "        self.first = first\n",
    "        self.second = second\n",
    "        \n",
    "    def add(self):\n",
    "        result = self.first + self.second\n",
    "        return result\n",
    "    def mul(self):\n",
    "        result = self.first * self.second\n",
    "        return result\n",
    "    def sub(self):\n",
    "        result = self.first - self.second\n",
    "        return result\n",
    "    def div(self):\n",
    "        result = self.first / self.second\n",
    "        return result"
   ]
  },
  {
   "attachments": {},
   "cell_type": "markdown",
   "metadata": {},
   "source": [
    "* \\_\\_init\\_\\_ 메서드는 setdata와 이름만 다르고, 모두 동일\n",
    "* 하지만 이름이 \\_\\_init\\_\\_이기에 생성자로 인식되어, 객체가 생성되는 시점에 자동으로 호출됨"
   ]
  },
  {
   "cell_type": "code",
   "execution_count": 54,
   "metadata": {},
   "outputs": [
    {
     "ename": "TypeError",
     "evalue": "__init__() missing 2 required positional arguments: 'first' and 'second'",
     "output_type": "error",
     "traceback": [
      "\u001b[0;31m---------------------------------------------------------------------------\u001b[0m",
      "\u001b[0;31mTypeError\u001b[0m                                 Traceback (most recent call last)",
      "Cell \u001b[0;32mIn[54], line 1\u001b[0m\n\u001b[0;32m----> 1\u001b[0m a \u001b[39m=\u001b[39m FourCal()\n",
      "\u001b[0;31mTypeError\u001b[0m: __init__() missing 2 required positional arguments: 'first' and 'second'"
     ]
    }
   ],
   "source": [
    "a = FourCal()\n",
    "\n",
    "# __init__ 생성자가 호출되어, 오류 발생\n",
    "# 생성자의 매개변수 first와 second에 해당하는 값이 전달되지 않았기 때문"
   ]
  },
  {
   "cell_type": "code",
   "execution_count": 57,
   "metadata": {},
   "outputs": [],
   "source": [
    "'''\n",
    "def __init__(self, first, second):\n",
    "        self.first = first\n",
    "        self.second = second\n",
    "'''\n",
    "\n",
    "a = FourCal(4, 2)\n",
    "\n",
    "'''\n",
    "수행 시, __init__ 메서드의 매개변수에는 아래에 해당하는 값이 전달됨\n",
    "\n",
    "self (매개변수) 에는 생성되는 객체 (값)\n",
    "first (매개변수) 에는 4 (값)\n",
    "second (매개변수) 에는 2 (값)\n",
    "'''\n",
    "\n",
    "# __init__메서드도 다른 메서드와 같이, 첫 번째 매개변수 self에 생성되는 객체가 자동 전달됨\n",
    "# 따라서 __init__메서드 호출 시, setdata 호출 시와 같이 first, second 라는 객체변수가 생성됨"
   ]
  },
  {
   "cell_type": "code",
   "execution_count": 58,
   "metadata": {},
   "outputs": [
    {
     "data": {
      "text/plain": [
       "4"
      ]
     },
     "execution_count": 58,
     "metadata": {},
     "output_type": "execute_result"
    }
   ],
   "source": [
    "a = FourCal(4, 2)\n",
    "a.first"
   ]
  },
  {
   "cell_type": "code",
   "execution_count": 59,
   "metadata": {},
   "outputs": [
    {
     "data": {
      "text/plain": [
       "2"
      ]
     },
     "execution_count": 59,
     "metadata": {},
     "output_type": "execute_result"
    }
   ],
   "source": [
    "a.second"
   ]
  },
  {
   "cell_type": "code",
   "execution_count": 60,
   "metadata": {},
   "outputs": [
    {
     "data": {
      "text/plain": [
       "6"
      ]
     },
     "execution_count": 60,
     "metadata": {},
     "output_type": "execute_result"
    }
   ],
   "source": [
    "a = FourCal(4, 2)\n",
    "a.add()"
   ]
  },
  {
   "cell_type": "code",
   "execution_count": 61,
   "metadata": {},
   "outputs": [
    {
     "data": {
      "text/plain": [
       "2.0"
      ]
     },
     "execution_count": 61,
     "metadata": {},
     "output_type": "execute_result"
    }
   ],
   "source": [
    "a.div()"
   ]
  },
  {
   "attachments": {},
   "cell_type": "markdown",
   "metadata": {},
   "source": [
    "* 클래스의 상속(Inheritance)\n",
    ">  - 어떤 클래스를 만들 때, 다른 클래스의 기능을 물려받을 수 있게 만드는 것\n",
    ">  - class 클래스_이름(상속할_클래스_이름)"
   ]
  },
  {
   "attachments": {},
   "cell_type": "markdown",
   "metadata": {},
   "source": [
    "* 상속 기능 사용 이유?\n",
    ">  - 기존 클래스를 변경하지 않고, 기능을 추가하거나 변경하려고 할 때 사용\n",
    ">  - 기존 클래스를 수정하는 대신 사용하는 이유?\n",
    ">  - 기존 클래스가 라이브러리 형태로 제공되거나 수정이 허용되지 않는 상황일 때, 상속 사용"
   ]
  },
  {
   "attachments": {},
   "cell_type": "markdown",
   "metadata": {},
   "source": [
    "* FourCal 클래스 상속하는 MoreFourCal 클래스 (a의 b승 계산)\n",
    ">  - MoreFourCal 클래스는 FourCal 클래스 상속했으므로, FourCal 클래스 모든 기능 사용 가능"
   ]
  },
  {
   "cell_type": "code",
   "execution_count": 65,
   "metadata": {},
   "outputs": [],
   "source": [
    "class MoreFourCal(FourCal):\n",
    "    pass"
   ]
  },
  {
   "cell_type": "code",
   "execution_count": 66,
   "metadata": {},
   "outputs": [
    {
     "data": {
      "text/plain": [
       "6"
      ]
     },
     "execution_count": 66,
     "metadata": {},
     "output_type": "execute_result"
    }
   ],
   "source": [
    "a = MoreFourCal(4, 2)\n",
    "a.add()"
   ]
  },
  {
   "cell_type": "code",
   "execution_count": 67,
   "metadata": {},
   "outputs": [
    {
     "data": {
      "text/plain": [
       "8"
      ]
     },
     "execution_count": 67,
     "metadata": {},
     "output_type": "execute_result"
    }
   ],
   "source": [
    "a.mul()"
   ]
  },
  {
   "cell_type": "code",
   "execution_count": 68,
   "metadata": {},
   "outputs": [
    {
     "data": {
      "text/plain": [
       "2"
      ]
     },
     "execution_count": 68,
     "metadata": {},
     "output_type": "execute_result"
    }
   ],
   "source": [
    "a.sub()"
   ]
  },
  {
   "cell_type": "code",
   "execution_count": 69,
   "metadata": {},
   "outputs": [
    {
     "data": {
      "text/plain": [
       "2.0"
      ]
     },
     "execution_count": 69,
     "metadata": {},
     "output_type": "execute_result"
    }
   ],
   "source": [
    "a.div()"
   ]
  },
  {
   "cell_type": "code",
   "execution_count": 71,
   "metadata": {},
   "outputs": [],
   "source": [
    "class MoreFourCal(FourCal):\n",
    "    def pow(self):\n",
    "        result = self.first ** self.second\n",
    "        return result\n",
    "    \n",
    "# 기존 클래스는 그대로 놔둔 채 클래스 기능 확장"
   ]
  },
  {
   "cell_type": "code",
   "execution_count": 72,
   "metadata": {},
   "outputs": [
    {
     "data": {
      "text/plain": [
       "16"
      ]
     },
     "execution_count": 72,
     "metadata": {},
     "output_type": "execute_result"
    }
   ],
   "source": [
    "a = MoreFourCal(4, 2)\n",
    "a.pow()"
   ]
  },
  {
   "cell_type": "code",
   "execution_count": 73,
   "metadata": {},
   "outputs": [
    {
     "data": {
      "text/plain": [
       "6"
      ]
     },
     "execution_count": 73,
     "metadata": {},
     "output_type": "execute_result"
    }
   ],
   "source": [
    "a.add()"
   ]
  },
  {
   "attachments": {},
   "cell_type": "markdown",
   "metadata": {},
   "source": [
    "* 메서드 오버라이딩\n",
    ">  - 부모 클래스(상속한 클래스)에 있는 메서드를 동일한 이름으로 다시 만드는 것\n",
    ">  - 메서드 오버라이딩 시, 부모 클래스의 메서드 대신 오버라이딩한 메서드가 호출됨"
   ]
  },
  {
   "cell_type": "code",
   "execution_count": 74,
   "metadata": {},
   "outputs": [
    {
     "ename": "ZeroDivisionError",
     "evalue": "division by zero",
     "output_type": "error",
     "traceback": [
      "\u001b[0;31m---------------------------------------------------------------------------\u001b[0m",
      "\u001b[0;31mZeroDivisionError\u001b[0m                         Traceback (most recent call last)",
      "Cell \u001b[0;32mIn[74], line 2\u001b[0m\n\u001b[1;32m      1\u001b[0m a \u001b[39m=\u001b[39m FourCal(\u001b[39m4\u001b[39m, \u001b[39m0\u001b[39m)\n\u001b[0;32m----> 2\u001b[0m a\u001b[39m.\u001b[39;49mdiv()\n",
      "Cell \u001b[0;32mIn[53], line 18\u001b[0m, in \u001b[0;36mFourCal.div\u001b[0;34m(self)\u001b[0m\n\u001b[1;32m     17\u001b[0m \u001b[39mdef\u001b[39;00m \u001b[39mdiv\u001b[39m(\u001b[39mself\u001b[39m):\n\u001b[0;32m---> 18\u001b[0m     result \u001b[39m=\u001b[39m \u001b[39mself\u001b[39;49m\u001b[39m.\u001b[39;49mfirst \u001b[39m/\u001b[39;49m \u001b[39mself\u001b[39;49m\u001b[39m.\u001b[39;49msecond\n\u001b[1;32m     19\u001b[0m     \u001b[39mreturn\u001b[39;00m result\n",
      "\u001b[0;31mZeroDivisionError\u001b[0m: division by zero"
     ]
    }
   ],
   "source": [
    "a = FourCal(4, 0)\n",
    "a.div()\n",
    "\n",
    "# 4를 0으로 나누려고 하므로 ZeroDivisionError 발생\n",
    "# 0으로 나눌 때, 오류가 아닌 값 0을 리턴받고 싶다면?"
   ]
  },
  {
   "cell_type": "code",
   "execution_count": 76,
   "metadata": {},
   "outputs": [],
   "source": [
    "class SafeFourCal(FourCal):\n",
    "    def div(self):\n",
    "        if self.second == 0:\n",
    "            return 0 # 나누는 값이 0인 경우 0을 리턴하도록 수정\n",
    "        else:\n",
    "            return self.first / self.second"
   ]
  },
  {
   "cell_type": "code",
   "execution_count": 78,
   "metadata": {},
   "outputs": [
    {
     "data": {
      "text/plain": [
       "0"
      ]
     },
     "execution_count": 78,
     "metadata": {},
     "output_type": "execute_result"
    }
   ],
   "source": [
    "a = SafeFourCal(4, 0)\n",
    "a.div()\n",
    "\n",
    "# ZeroDivisionError 발생하지 않고, 의도대로 0이 리턴됨"
   ]
  },
  {
   "attachments": {},
   "cell_type": "markdown",
   "metadata": {},
   "source": [
    "* 클래스변수\n",
    ">  - 객체변수는 다른 객체들의 영향을 받지 않고, 독립적으로 값을 유지\n",
    ">  - 클래스변수는 클래스 안에 함수를 선언하는 것과 마찬가지로, 클래스 안에 변수를 선언하여 생성\n",
    ">  - 클래스_이름.클래스변수 로 사용\n",
    ">  - 클래스 변수는 객체변수와 다르게 클래스로 만든 모든 객체에 공유됨\n",
    ">  - 실무 프로그래밍 시, 클래스 변수보다는 객체변수를 사용하는 비율이 더 높음"
   ]
  },
  {
   "cell_type": "code",
   "execution_count": 80,
   "metadata": {},
   "outputs": [],
   "source": [
    "class Family:\n",
    "    lastname = \"김\"\n",
    "\n",
    "# Family 안에 선언한 lastname이 클래스 변수"
   ]
  },
  {
   "cell_type": "code",
   "execution_count": 81,
   "metadata": {},
   "outputs": [
    {
     "data": {
      "text/plain": [
       "'김'"
      ]
     },
     "execution_count": 81,
     "metadata": {},
     "output_type": "execute_result"
    }
   ],
   "source": [
    "Family.lastname"
   ]
  },
  {
   "cell_type": "code",
   "execution_count": 82,
   "metadata": {},
   "outputs": [
    {
     "data": {
      "text/plain": [
       "'김'"
      ]
     },
     "execution_count": 82,
     "metadata": {},
     "output_type": "execute_result"
    }
   ],
   "source": [
    "# Family 클래스로 만든 객체 이용해도, 클래스 변수 사용 가능 \n",
    "\n",
    "a = Family()\n",
    "b = Family()\n",
    "\n",
    "a.lastname"
   ]
  },
  {
   "cell_type": "code",
   "execution_count": 84,
   "metadata": {},
   "outputs": [
    {
     "data": {
      "text/plain": [
       "'김'"
      ]
     },
     "execution_count": 84,
     "metadata": {},
     "output_type": "execute_result"
    }
   ],
   "source": [
    "b.lastname"
   ]
  },
  {
   "cell_type": "code",
   "execution_count": 85,
   "metadata": {},
   "outputs": [
    {
     "data": {
      "text/plain": [
       "'박'"
      ]
     },
     "execution_count": 85,
     "metadata": {},
     "output_type": "execute_result"
    }
   ],
   "source": [
    "# Family 클래스의 lastname 변경\n",
    "\n",
    "Family.lastname = \"박\"\n",
    "a.lastname\n",
    "\n",
    "# 클래스 변수의 값을 변경하면, 클래스로 만든 객체의 lastname 값도 모두 변경됨\n",
    "# 클래스 변수는 객체변수와 다르게 클래스로 만든 모든 객체에 공유됨"
   ]
  },
  {
   "cell_type": "code",
   "execution_count": 86,
   "metadata": {},
   "outputs": [
    {
     "data": {
      "text/plain": [
       "'박'"
      ]
     },
     "execution_count": 86,
     "metadata": {},
     "output_type": "execute_result"
    }
   ],
   "source": [
    "b.lastname"
   ]
  },
  {
   "attachments": {},
   "cell_type": "markdown",
   "metadata": {},
   "source": [
    "* 클래스 변수와 동일한 이름의 객체변수 생성하면?"
   ]
  },
  {
   "cell_type": "code",
   "execution_count": 87,
   "metadata": {},
   "outputs": [
    {
     "data": {
      "text/plain": [
       "'최'"
      ]
     },
     "execution_count": 87,
     "metadata": {},
     "output_type": "execute_result"
    }
   ],
   "source": [
    "a.lastname = \"최\"\n",
    "a.lastname\n",
    "\n",
    "# Family 클래스의 lastname이 바뀌는 것이 아닌, a 객체에 lastname 이라는 객체변수가 새롭게 생성됨\n",
    "# 객체변수는 클래스 변수와 동일한 이름으로 생성 가능\n",
    "# 즉, a.lastname 객체변수를 생성해도, Family 클래스의 lastname과는 상관없음"
   ]
  },
  {
   "cell_type": "code",
   "execution_count": 88,
   "metadata": {},
   "outputs": [
    {
     "data": {
      "text/plain": [
       "'박'"
      ]
     },
     "execution_count": 88,
     "metadata": {},
     "output_type": "execute_result"
    }
   ],
   "source": [
    "Family.lastname"
   ]
  },
  {
   "cell_type": "code",
   "execution_count": 89,
   "metadata": {},
   "outputs": [
    {
     "data": {
      "text/plain": [
       "'박'"
      ]
     },
     "execution_count": 89,
     "metadata": {},
     "output_type": "execute_result"
    }
   ],
   "source": [
    "b.lastname"
   ]
  }
 ],
 "metadata": {
  "kernelspec": {
   "display_name": "knh1",
   "language": "python",
   "name": "python3"
  },
  "language_info": {
   "codemirror_mode": {
    "name": "ipython",
    "version": 3
   },
   "file_extension": ".py",
   "mimetype": "text/x-python",
   "name": "python",
   "nbconvert_exporter": "python",
   "pygments_lexer": "ipython3",
   "version": "3.8.17"
  },
  "orig_nbformat": 4
 },
 "nbformat": 4,
 "nbformat_minor": 2
}
