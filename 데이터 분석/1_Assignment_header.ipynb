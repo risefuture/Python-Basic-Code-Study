{
 "cells": [
  {
   "attachments": {},
   "cell_type": "markdown",
   "metadata": {},
   "source": [
    "# Assginment (2023-06-22 ~ 2023-06-26)"
   ]
  },
  {
   "attachments": {},
   "cell_type": "markdown",
   "metadata": {},
   "source": [
    "## 2. `Headgear` Dataset\n",
    "\n"
   ]
  },
  {
   "attachments": {},
   "cell_type": "markdown",
   "metadata": {},
   "source": [
    "- import *module*"
   ]
  },
  {
   "cell_type": "code",
   "execution_count": 17,
   "metadata": {},
   "outputs": [],
   "source": [
    "import os\n",
    "import pandas as pd\n",
    "\n",
    "import numpy as np\n",
    "\n",
    "import matplotlib.pyplot as plt\n",
    "import cv2"
   ]
  },
  {
   "attachments": {},
   "cell_type": "markdown",
   "metadata": {},
   "source": [
    "- set the *data directory*"
   ]
  },
  {
   "cell_type": "code",
   "execution_count": 18,
   "metadata": {},
   "outputs": [
    {
     "name": "stdout",
     "output_type": "stream",
     "text": [
      "../data/headgear/headgear.csv\n"
     ]
    }
   ],
   "source": [
    "data_dir = '../data'\n",
    "headgear_dir = os.path.join(data_dir, 'headgear')\n",
    "headgear_csv = os.path.join(headgear_dir, 'headgear.csv')\n",
    "\n",
    "print(headgear_csv)"
   ]
  },
  {
   "attachments": {},
   "cell_type": "markdown",
   "metadata": {},
   "source": [
    "### 1. load the data from the csv file\n",
    "    - use `pd.read_csv()` function"
   ]
  },
  {
   "cell_type": "code",
   "execution_count": 19,
   "metadata": {},
   "outputs": [],
   "source": [
    "headgear_df = pd.read_csv(headgear_csv)"
   ]
  },
  {
   "attachments": {},
   "cell_type": "markdown",
   "metadata": {},
   "source": [
    "### 2. check the data count\n",
    "    - use `value_counts()` function"
   ]
  },
  {
   "cell_type": "code",
   "execution_count": 20,
   "metadata": {},
   "outputs": [
    {
     "data": {
      "image/png": "[encoded data removed]",
      "text/plain": [
       "<Figure size 640x480 with 1 Axes>"
      ]
     },
     "metadata": {},
     "output_type": "display_data"
    }
   ],
   "source": [
    "headgear_df['data set'].value_counts().plot(kind='bar')\n",
    "\n",
    "plt.title('Data set distribution')\n",
    "plt.xlabel('Data set')\n",
    "plt.ylabel('Count')\n",
    "\n",
    "for i in range(len(headgear_df['data set'].value_counts())):\n",
    "    plt.text(i, headgear_df['data set'].value_counts()[i], headgear_df['data set'].value_counts()[i], ha='center', va='bottom')\n",
    "    \n",
    "plt.show()"
   ]
  },
  {
   "cell_type": "code",
   "execution_count": 21,
   "metadata": {},
   "outputs": [
    {
     "data": {
      "text/plain": [
       "train    3620\n",
       "test      100\n",
       "valid     100\n",
       "Name: data set, dtype: int64"
      ]
     },
     "execution_count": 21,
     "metadata": {},
     "output_type": "execute_result"
    }
   ],
   "source": [
    "headgear_df['data set'].value_counts()"
   ]
  },
  {
   "cell_type": "code",
   "execution_count": 22,
   "metadata": {},
   "outputs": [
    {
     "data": {
      "text/plain": [
       "'../data/headgear'"
      ]
     },
     "execution_count": 22,
     "metadata": {},
     "output_type": "execute_result"
    }
   ],
   "source": [
    "headgear_dir"
   ]
  },
  {
   "attachments": {},
   "cell_type": "markdown",
   "metadata": {},
   "source": [
    "### 3. Split the data into train, valid, test set\n",
    "- It need to filter the data with `data set` column"
   ]
  },
  {
   "cell_type": "code",
   "execution_count": 23,
   "metadata": {},
   "outputs": [],
   "source": [
    "#### input your code in below\n",
    "train_data_df = headgear_df[headgear_df['data set'] == 'train']\n",
    "valid_data_df = headgear_df[headgear_df['data set'] == 'valid']\n",
    "test_data_df = headgear_df[headgear_df['data set'] == 'test']\n",
    "##########"
   ]
  },
  {
   "attachments": {},
   "cell_type": "markdown",
   "metadata": {},
   "source": [
    "### 4. Make the `image_to_tensor` function\n",
    "\n",
    "- use `cv2.imread()` function"
   ]
  },
  {
   "cell_type": "code",
   "execution_count": 24,
   "metadata": {},
   "outputs": [],
   "source": [
    "headgear_dir = os.path.join(data_dir, 'headgear')\n",
    "\n",
    "#### input your code in below\n",
    "def image_to_tensor(data_df):\n",
    "    data = []\n",
    "    labels = []\n",
    "\n",
    "    for index, row in data_df.iterrows():\n",
    "        image_path = os.path.join(headgear_dir, headgear_df['filepaths'][0])\n",
    "        image = cv2.imread(image_path)\n",
    "        data.append(image)\n",
    "        labels.append(row['labels'])\n",
    "\n",
    "    return np.array(data), np.array(labels)\n",
    "#########"
   ]
  },
  {
   "attachments": {},
   "cell_type": "markdown",
   "metadata": {},
   "source": [
    "- Check the image shape"
   ]
  },
  {
   "cell_type": "code",
   "execution_count": 25,
   "metadata": {},
   "outputs": [
    {
     "name": "stdout",
     "output_type": "stream",
     "text": [
      "Train Data:  3620\n",
      "Train Labels:  3620\n",
      "Train Data Shape:  (224, 224, 3)\n"
     ]
    }
   ],
   "source": [
    "print('Train Data: ', len(train_data))\n",
    "print('Train Labels: ', len(train_labels))\n",
    "print('Train Data Shape: ', train_data[0].shape)"
   ]
  },
  {
   "cell_type": "code",
   "execution_count": 26,
   "metadata": {},
   "outputs": [
    {
     "name": "stdout",
     "output_type": "stream",
     "text": [
      "Valid Data:  100\n",
      "Valid Labels:  100\n",
      "Valid Data Shape:  (224, 224, 3)\n"
     ]
    }
   ],
   "source": [
    "print('Valid Data: ', len(valid_data))\n",
    "print('Valid Labels: ', len(valid_labels))\n",
    "print('Valid Data Shape: ', valid_data[0].shape)"
   ]
  },
  {
   "cell_type": "code",
   "execution_count": 27,
   "metadata": {},
   "outputs": [
    {
     "name": "stdout",
     "output_type": "stream",
     "text": [
      "Test Data:  100\n",
      "Test Labels:  100\n",
      "Test Data Shape:  (224, 224, 3)\n"
     ]
    }
   ],
   "source": [
    "print('Test Data: ', len(test_data))\n",
    "print('Test Labels: ', len(test_labels))\n",
    "print('Test Data Shape: ', test_data[0].shape)"
   ]
  }
 ],
 "metadata": {
  "kernelspec": {
   "display_name": "mlcl",
   "language": "python",
   "name": "python3"
  },
  "language_info": {
   "codemirror_mode": {
    "name": "ipython",
    "version": 3
   },
   "file_extension": ".py",
   "mimetype": "text/x-python",
   "name": "python",
   "nbconvert_exporter": "python",
   "pygments_lexer": "ipython3",
   "version": "3.8.16"
  },
  "orig_nbformat": 4
 },
 "nbformat": 4,
 "nbformat_minor": 2
}
