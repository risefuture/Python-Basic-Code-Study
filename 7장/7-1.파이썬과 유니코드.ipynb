{
 "cells": [
  {
   "attachments": {},
   "cell_type": "markdown",
   "metadata": {},
   "source": [
    "Jump to python\n",
    "=="
   ]
  },
  {
   "attachments": {},
   "cell_type": "markdown",
   "metadata": {},
   "source": [
    "파이썬과 유니코드\n",
    "--"
   ]
  },
  {
   "attachments": {},
   "cell_type": "markdown",
   "metadata": {},
   "source": [
    "* 컴퓨터는 0과 1의 값만 인식할 수 있는 기계 장치\n",
    ">  - 컴퓨터는 우리가 입력하는 문자를 어떻게 인식할 수 있을까?"
   ]
  },
  {
   "attachments": {},
   "cell_type": "markdown",
   "metadata": {},
   "source": [
    "* 최초의 문자 셋, 아스키코드\n",
    ">  - 문자 셋(character set)을 만들어 문자를 인식할 수 있게 함\n",
    ">  - 숫자 65는 'A', 숫자 66은 'B' .. 이렇게 숫자마다 문자를 매핑(mapping)해 놓으면 컴퓨터는 해당 숫자를 문자로 대체해 인식함\n",
    "\n",
    ">  - 최초의 컴퓨터가 발명되었을 때, 컴퓨터마다 각각의 문자 셋을 정해 놓고 문자를 처리하기 시작함\n",
    ">  - 데이터 호환 문제가 발생\n",
    ">  - A라는 컴퓨터에서 처리하는 문자 셋 규칙이 B라는 컴퓨터에서 처리하는 문자 셋 규칙과 맞지 않아, 서로 데이터를 주고 받을 수 없게 됨\n",
    "\n",
    ">  - 미국에서 최초로 문자 셋 표준인 아스키(ASCII)가 탄생\n",
    ">  - 문자 셋 규칙을 정하고, 이 규칙대로 문자를 만들면 기종이 다른 컴퓨터 사이에서도 문제 없이 데이터 교환 가능\n",
    ">  - 아스키가 처리할 수 있는 문자 개수는 127개로, 영어권 국가에서 사용하는 영문자와 숫자 처리에 충분"
   ]
  },
  {
   "attachments": {},
   "cell_type": "markdown",
   "metadata": {},
   "source": [
    "* 유니코드\n",
    ">  - 비영어권 국가에서도 자신들의 문자를 컴퓨터로 표현하고자 함\n",
    ">  - 서유럽 문자 셋인 ISO8859와 한국 문자 셋인 KSC5601 등장\n",
    "\n",
    ">  - 나라마다 문자 셋이 만들어지며, 하나의 문서에 여러 나라의 언어를 동시에 표현하기 어려워짐\n",
    "\n",
    ">  - 유니코드(unicode) 등장\n",
    ">  - 유니코드는 모든 나라 문자들을 모두 포함하도록 넉넉히 설계되어, 세계 표준이 됨"
   ]
  },
  {
   "attachments": {},
   "cell_type": "markdown",
   "metadata": {},
   "source": [
    "* 유니코드로 문자열 다루기\n",
    ">  - 파이썬은 version 3 부터 모든 문자열 유니코드로 처리"
   ]
  },
  {
   "attachments": {},
   "cell_type": "markdown",
   "metadata": {},
   "source": [
    "* 인코딩하기\n",
    ">  - a = \"Life is too short\"\n",
    ">  - 유니코드 문자열은 인코딩(encoding) 없이 그대로 파일에 적거나 다른 시스템으로 전송할 수 없음\n",
    ">  - 유니코드 문자열은 단순히 문자 셋의 규칙이기 때문\n",
    ">  - 파일에 적거나 다른 시스템으로 전송하려면 바이트(byte) 문자열로 변환해야 함\n",
    "\n",
    ">  - 유니코드 문자열을 바이트 문자열로 바꾸는 것이 '인코딩'\n",
    "\n",
    ">  - 파일을 읽거나 네트워크를 통해 바이트 문자열을 수신할 때, 해당 바이트가 어떤 방식의 인코딩을 사용했는 지 알아야 디코딩 가능"
   ]
  },
  {
   "attachments": {},
   "cell_type": "markdown",
   "metadata": {},
   "source": [
    ">  - 유니코드 문자열을 바이트 문자열로 바꾸는 방법\n",
    ">>  - utf-8 과 같은 인코딩 방식을 인수로 넘겨 주어야 함\n",
    ">>  - 인수 생략 시, 기본값인 utf-8로 동작"
   ]
  },
  {
   "cell_type": "code",
   "execution_count": 1,
   "metadata": {},
   "outputs": [
    {
     "data": {
      "text/plain": [
       "b'Life is too short'"
      ]
     },
     "execution_count": 1,
     "metadata": {},
     "output_type": "execute_result"
    }
   ],
   "source": [
    "a = \"Life is too short\"\n",
    "b = a.encode('utf-8')\n",
    "b"
   ]
  },
  {
   "attachments": {},
   "cell_type": "markdown",
   "metadata": {},
   "source": [
    ">>  - 문자열 변환 후, type 명령어를 호출. b 객체는 bytes 클래스의 객체"
   ]
  },
  {
   "cell_type": "code",
   "execution_count": 2,
   "metadata": {},
   "outputs": [
    {
     "data": {
      "text/plain": [
       "bytes"
      ]
     },
     "execution_count": 2,
     "metadata": {},
     "output_type": "execute_result"
    }
   ],
   "source": [
    "type(b)"
   ]
  },
  {
   "attachments": {},
   "cell_type": "markdown",
   "metadata": {},
   "source": [
    ">  - \"한글\"이라는 유니코드 문자열을 바이트 문자열로 변경하는 인코딩 방식은 다양함\n",
    "\n",
    ">  - 보통은 utf-8을 사용\n",
    ">  - 기존 시스템이 euc-kr과 같은 인코딩을 사용한다면, euc-kr로 인코딩 가능\n",
    ">  - utf-8로 인코딩 했을 때와 다른 바이트 문자열 출력"
   ]
  },
  {
   "cell_type": "code",
   "execution_count": 3,
   "metadata": {},
   "outputs": [
    {
     "data": {
      "text/plain": [
       "b'\\xc7\\xd1\\xb1\\xdb'"
      ]
     },
     "execution_count": 3,
     "metadata": {},
     "output_type": "execute_result"
    }
   ],
   "source": [
    "a = \"한글\"\n",
    "a.encode('euc-kr')"
   ]
  },
  {
   "cell_type": "code",
   "execution_count": 4,
   "metadata": {},
   "outputs": [
    {
     "data": {
      "text/plain": [
       "b'\\xed\\x95\\x9c\\xea\\xb8\\x80'"
      ]
     },
     "execution_count": 4,
     "metadata": {},
     "output_type": "execute_result"
    }
   ],
   "source": [
    "a.encode('utf-8')"
   ]
  },
  {
   "attachments": {},
   "cell_type": "markdown",
   "metadata": {},
   "source": [
    "* 디코딩하기\n",
    ">  - 인코딩한 바이트 문자열을 유니코드 문자열로 변환하는 디코딩(decoding)\n",
    ">  - euc-kr로 인코딩한 바이트 문자열은 euc-kr로만 디코딩 해야 함"
   ]
  },
  {
   "cell_type": "code",
   "execution_count": 6,
   "metadata": {},
   "outputs": [
    {
     "data": {
      "text/plain": [
       "'한글'"
      ]
     },
     "execution_count": 6,
     "metadata": {},
     "output_type": "execute_result"
    }
   ],
   "source": [
    "a = '한글'\n",
    "b = a.encode('euc-kr')\n",
    "b.decode('euc-kr')"
   ]
  },
  {
   "attachments": {},
   "cell_type": "markdown",
   "metadata": {},
   "source": [
    ">>  - 만약 euc-kr로 인코딩한 바이트 문자열을 utf-8로 디코딩하려 한다면?\n",
    ">>>  - 오류 발생"
   ]
  },
  {
   "cell_type": "code",
   "execution_count": 7,
   "metadata": {},
   "outputs": [
    {
     "ename": "UnicodeDecodeError",
     "evalue": "'utf-8' codec can't decode byte 0xc7 in position 0: invalid continuation byte",
     "output_type": "error",
     "traceback": [
      "\u001b[0;31m---------------------------------------------------------------------------\u001b[0m",
      "\u001b[0;31mUnicodeDecodeError\u001b[0m                        Traceback (most recent call last)",
      "Cell \u001b[0;32mIn[7], line 1\u001b[0m\n\u001b[0;32m----> 1\u001b[0m b\u001b[39m.\u001b[39;49mdecode(\u001b[39m'\u001b[39;49m\u001b[39mutf-8\u001b[39;49m\u001b[39m'\u001b[39;49m)\n",
      "\u001b[0;31mUnicodeDecodeError\u001b[0m: 'utf-8' codec can't decode byte 0xc7 in position 0: invalid continuation byte"
     ]
    }
   ],
   "source": [
    "b.decode('utf-8')"
   ]
  },
  {
   "attachments": {},
   "cell_type": "markdown",
   "metadata": {},
   "source": [
    "* 입출력과 인코딩\n",
    ">  - 인코딩과 관련해 개발자가 가장 고생하는 부분은 데이터 입출력 관련 작업\n",
    ">  - 무작정 인코딩, 디코딩 사용 시 다중 인코딩 되거나 문자열이 꼬일 수 있음\n",
    "\n",
    ">  - 파일을 읽거나, 네트워크를 통해 데이터를 주고 받을 때 추천하는 방법\n",
    ">>  - 1. 입력으로 받은 바이트 문자열은 되도록 빨리 유니코드 문자열로 디코딩\n",
    ">>  - 2. 함수나 클래스 등에서는 유니코드 문자열만 사용\n",
    ">>  - 3. 입력에 대한 결과를 전송하는 마지막 부분에서만 유니코드 문자열을 바이트 문자열로 인코딩해 반환"
   ]
  },
  {
   "attachments": {},
   "cell_type": "markdown",
   "metadata": {},
   "source": [
    ">>  - euc-kr 방식으로 작성한 파일을 읽고 변경하여 저장하는 예제"
   ]
  },
  {
   "cell_type": "code",
   "execution_count": null,
   "metadata": {},
   "outputs": [],
   "source": [
    "# euc_kr.py\n",
    "\n",
    "# 1. euc-kr로 작성된 파일 읽기\n",
    "\n",
    "with open('euc_kr.txt', encoding='euc-kr') as f:\n",
    "    data = f.read() # 유니코드 문자열\n",
    "\n",
    "# 2. unicode 문자열로 프로그램 수행\n",
    "\n",
    "data = data + \"\\n\" + \"추가 문자열\"\n",
    "\n",
    "# 3. euc-kr로 수정된 문자열 저장\n",
    "\n",
    "with open('euc_kr.txt', encoding='euc-kr', mode='w') as f:\n",
    "    f.write(data)\n",
    "\n",
    "# 파일을 읽는 open() 함수에는 encoding 지정해 파일을 읽는 기능이 존재\n",
    "# 이때 읽은 문자열은 유니코드 문자열이 됨\n",
    "# 파일을 만들 때도 encoding 지정 가능\n",
    "# encoding 항목 생략 시, 기본값으로 utf-8이 지정됨"
   ]
  },
  {
   "attachments": {},
   "cell_type": "markdown",
   "metadata": {},
   "source": [
    "* 소스 코드의 인코딩\n",
    ">  - 소스 코드 파일이 현재 어떤 방식으로 인코딩되었는지\n",
    "\n",
    ">  - 파일은 utf-8 인코딩 또는 euc-kr로 저장할 수 있음\n",
    ">  - 소스 코드도 파일이기에 인코딩 타입이 필요\n",
    "\n",
    ">  - \\# -\\*- coding: utf-8 -\\*-\n",
    ">  - 파이썬 소스 코드의 인코딩을 명시하고자, 소스 코드 가장 위에 위와 같은 문장을 삽입해야 함\n",
    "\n",
    ">  - 파이썬 3.0부터는 utf-8 이 기본값\n",
    ">  - utf-8로 인코딩한 소스 코드는 문장 생략 가능\n",
    "\n",
    ">  - 만약 euc-kr로 인코딩시 아래와 같이 작성\n",
    ">  - \\# -\\*- coding: euc-kr -\\*-\n",
    "\n",
    ">  - 소스 코드는 euc-kr로 인코딩 했지만, 파일 위에 utf-8로 명시했다면 문자열 처리 부분에서 인코딩 관련 오류 발생"
   ]
  }
 ],
 "metadata": {
  "kernelspec": {
   "display_name": "py3.9",
   "language": "python",
   "name": "python3"
  },
  "language_info": {
   "codemirror_mode": {
    "name": "ipython",
    "version": 3
   },
   "file_extension": ".py",
   "mimetype": "text/x-python",
   "name": "python",
   "nbconvert_exporter": "python",
   "pygments_lexer": "ipython3",
   "version": "3.9.16"
  },
  "orig_nbformat": 4
 },
 "nbformat": 4,
 "nbformat_minor": 2
}
