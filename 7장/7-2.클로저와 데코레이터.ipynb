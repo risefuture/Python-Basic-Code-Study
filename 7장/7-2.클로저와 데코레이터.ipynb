{
 "cells": [
  {
   "attachments": {},
   "cell_type": "markdown",
   "metadata": {},
   "source": [
    "Jump to python\n",
    "=="
   ]
  },
  {
   "attachments": {},
   "cell_type": "markdown",
   "metadata": {},
   "source": [
    "클로저와 데코레이터\n",
    "--"
   ]
  },
  {
   "attachments": {},
   "cell_type": "markdown",
   "metadata": {},
   "source": [
    "* 클로저 (closure)\n",
    ">  - 함수 안에 내부 함수(inner function)를 구현하고, 내부 함수를 리턴하는 함수\n",
    ">  - 외부 함수는 자신이 가진 변숫값 등을 내부 함수에 전달 가능"
   ]
  },
  {
   "cell_type": "code",
   "execution_count": 12,
   "metadata": {},
   "outputs": [],
   "source": [
    "# 어떤 수에 항상 3을 곱해 리턴하는 함수\n",
    "\n",
    "def mul3(n):\n",
    "    return n*3"
   ]
  },
  {
   "cell_type": "code",
   "execution_count": 13,
   "metadata": {},
   "outputs": [],
   "source": [
    "# 항상 5를 곱해 리턴하는 함수\n",
    "\n",
    "def mul5(n):\n",
    "    return n*5"
   ]
  },
  {
   "attachments": {},
   "cell_type": "markdown",
   "metadata": {},
   "source": [
    ">>  - 필요 시 마다 mul6( ), mul7( ), mul8( ) .. 함수를 계속 만드는 것은 비효율적"
   ]
  },
  {
   "cell_type": "code",
   "execution_count": 14,
   "metadata": {},
   "outputs": [
    {
     "name": "stdout",
     "output_type": "stream",
     "text": [
      "30\n",
      "50\n"
     ]
    }
   ],
   "source": [
    "# closure.py\n",
    "\n",
    "class Mul:\n",
    "    def __init__(self, m):\n",
    "        self.m = m\n",
    "\n",
    "    def mul(self, n):\n",
    "        return self.m*n\n",
    "    \n",
    "if __name__==\"__main__\":\n",
    "    mul3 = Mul(3)\n",
    "    mul5 = Mul(5)\n",
    "\n",
    "    print(mul3.mul(10))\n",
    "    print(mul5.mul(10))"
   ]
  },
  {
   "attachments": {},
   "cell_type": "markdown",
   "metadata": {},
   "source": [
    ">>  - 클래스 이용해 특정 값을 미리 설정하고, 그 다음부터 mul( ) 메서드 사용하면 원하는 형태로 호출 가능\n",
    "\n",
    ">>  - \\_\\_call\\_\\_ 메서드 이용해 개선 가능\n",
    ">>>  - \\_\\_call\\_\\_ 함수는 클래스의 객체를 호출하게 만들어주는 메서드로, 인스턴스가 호출됐을 때 실행됨\n",
    ">>>  - \\_\\_call\\_\\_ 함수는 Mul 클래스로 만든 객체에 인수를 전달해, 바로 호출할 수 있도록 함\n",
    ">>>  - 즉, mul3 객체를 mul3(10) 처럼 호출 가능 "
   ]
  },
  {
   "cell_type": "code",
   "execution_count": 15,
   "metadata": {},
   "outputs": [
    {
     "name": "stdout",
     "output_type": "stream",
     "text": [
      "30\n",
      "50\n"
     ]
    }
   ],
   "source": [
    "# closure.py\n",
    "\n",
    "class Mul:\n",
    "    def __init__(self, m):\n",
    "        self.m = m\n",
    "\n",
    "    def __call__(self, n):\n",
    "        return self.m*n\n",
    "    \n",
    "if __name__==\"__main__\":\n",
    "    mul3 = Mul(3)\n",
    "    mul5 = Mul(5)\n",
    "\n",
    "    print(mul3(10))\n",
    "    print(mul5(10))"
   ]
  },
  {
   "attachments": {},
   "cell_type": "markdown",
   "metadata": {},
   "source": [
    ">>  - 외부 함수 mul 안에 내부 함수 wrapper 구현\n",
    ">>  - 외부 함수는 내부 함수 wrapper 리턴\n",
    ">>  - mul 함수에서 wrapper 함수 리턴 시, mul 함수 호출 시 인수로 받은 m 값을 wrapper 함수에 저장하여 리턴\n",
    ">>  - 클래스가 특정한 값을 설정해 객체를 만드는 과정과 유사\n",
    ">>  - mul 같은 함수를 클로저(closure) 라고 함"
   ]
  },
  {
   "cell_type": "code",
   "execution_count": 16,
   "metadata": {},
   "outputs": [
    {
     "name": "stdout",
     "output_type": "stream",
     "text": [
      "30\n",
      "50\n"
     ]
    }
   ],
   "source": [
    "# wrapper.py\n",
    "\n",
    "def mul(m):\n",
    "    def wrapper(n):\n",
    "        return m*n\n",
    "    return wrapper\n",
    "\n",
    "if __name__==\"__main__\":\n",
    "    mul3 = mul(3)\n",
    "    mul5 = mul(5)\n",
    "\n",
    "    print(mul3(10))\n",
    "    print(mul5(10))"
   ]
  },
  {
   "attachments": {},
   "cell_type": "markdown",
   "metadata": {},
   "source": [
    "* 데코레이터 (decorator)\n",
    ">  - 함수를 꾸미는 함수"
   ]
  },
  {
   "attachments": {},
   "cell_type": "markdown",
   "metadata": {},
   "source": [
    ">  - \"함수가 실행됩니다.\"라는 문자열 출력하는 myfunc 함수"
   ]
  },
  {
   "cell_type": "code",
   "execution_count": 17,
   "metadata": {},
   "outputs": [],
   "source": [
    "def myfunc():\n",
    "    print(\"함수가 실행됩니다.\")"
   ]
  },
  {
   "attachments": {},
   "cell_type": "markdown",
   "metadata": {},
   "source": [
    ">  - 함수의 실행 시간을 측정하려면?\n",
    ">>  - 함수의 실행 시간? 함수가 시작하는 순간의 시간과 함수가 종료되는 순간의 시간 차이를 구하자"
   ]
  },
  {
   "cell_type": "code",
   "execution_count": 18,
   "metadata": {},
   "outputs": [
    {
     "name": "stdout",
     "output_type": "stream",
     "text": [
      "함수가 실행됩니다.\n",
      "함수 수행시간: 0.000027 초\n"
     ]
    }
   ],
   "source": [
    "import time\n",
    "\n",
    "def myfunc():\n",
    "    start = time.time()\n",
    "    print(\"함수가 실행됩니다.\")\n",
    "    end = time.time()\n",
    "    print(\"함수 수행시간: %f 초\" % (end-start))\n",
    "\n",
    "myfunc()"
   ]
  },
  {
   "attachments": {},
   "cell_type": "markdown",
   "metadata": {},
   "source": [
    ">>  - 실행 시간을 측정해야 하는 함수가 myfunc 말고도 많을 때, 모든 함수에 이런 코드를 적용하는 것은 비효율적\n",
    ">>>  - 이때 클로저를 이용하자"
   ]
  },
  {
   "cell_type": "code",
   "execution_count": 19,
   "metadata": {},
   "outputs": [
    {
     "name": "stdout",
     "output_type": "stream",
     "text": [
      "함수가 실행됩니다\n",
      "함수 수행시간: 0.000028 초\n"
     ]
    }
   ],
   "source": [
    "# decorator.py\n",
    "\n",
    "import time\n",
    "\n",
    "def elapsed(original_func):  # 기존 함수를 인수로 받음\n",
    "    def wrapper():\n",
    "        start = time.time()\n",
    "        result = original_func()  # 기존 함수를 수행\n",
    "        end = time.time()\n",
    "        print(\"함수 수행시간: %f 초\" % (end-start))  # 기존 함수의 수행시간 출력\n",
    "        return result  # 기존 함수의 수행 결과 리턴\n",
    "    return wrapper\n",
    "    \n",
    "def myfunc():\n",
    "    print(\"함수가 실행됩니다\")\n",
    "\n",
    "decorated_myfunc = elapsed(myfunc)\n",
    "decorated_myfunc()"
   ]
  },
  {
   "attachments": {},
   "cell_type": "markdown",
   "metadata": {},
   "source": [
    ">>  - elapsed 함수로 클로저를 만들었음\n",
    ">>  - elapsed 함수는 함수를 인수로 받음\n",
    ">>  - 파이썬에서는 함수도 객체이므로 함수 자체를 인수로 전달 가능\n",
    "\n",
    ">>  - decorated_myfunc = elapsed(myfunc) 로 생성한 decorated_myfunc를 decorated_myfunc()로 실행 시, 실제로는 elapsed 함수 내부의 wrapper 함수가 실행됨\n",
    ">>  - wrapper 함수는 전달받은 myfunc 함수를 실행하며 실행 시간을 함께 출력\n",
    "\n",
    ">  - 클로저 이용 시, 기존 함수에 기능을 덧붙이기 매우 편리\n",
    "\n",
    ">  - 기존 함수를 바꾸지 않고, 기능을 추가할 수 있게 만드는 elapsed 함수와 같은 클로저가 바로 데코레이터(decorator)"
   ]
  },
  {
   "attachments": {},
   "cell_type": "markdown",
   "metadata": {},
   "source": [
    ">  - 파이썬 데코레이터는 @ 문자 이용해, 함수 위에 적용하여 사용 가능"
   ]
  },
  {
   "cell_type": "code",
   "execution_count": 20,
   "metadata": {},
   "outputs": [
    {
     "name": "stdout",
     "output_type": "stream",
     "text": [
      "함수가 실행됩니다.\n",
      "함수 수행시간: 0.000027 초\n"
     ]
    }
   ],
   "source": [
    "# decorator.py\n",
    "\n",
    "import time\n",
    "\n",
    "def elapsed(original_func):  # 기존 함수 인수로 받음\n",
    "    def wrapper():\n",
    "        start = time.time()\n",
    "        result = original_func()  # 기존 함수 수행\n",
    "        end = time.time()\n",
    "        print(\"함수 수행시간: %f 초\" % (end-start))  # 기존 함수의 수행시간 출력\n",
    "        return result  # 기존 함수의 수행 결과 리턴\n",
    "    return wrapper\n",
    "\n",
    "@elapsed\n",
    "def myfunc():\n",
    "    print(\"함수가 실행됩니다.\")\n",
    "\n",
    "'''\n",
    "\n",
    "decorated_myfunc = elapsed(myfunc)\n",
    "decorated_mtfunc()\n",
    "\n",
    "위의 코드는 @elapsed 데코레이터로 인해 더이상 필요하지 않음\n",
    "\n",
    "'''\n",
    "myfunc()"
   ]
  },
  {
   "attachments": {},
   "cell_type": "markdown",
   "metadata": {},
   "source": [
    ">  - 문자열을 입력받아 출력하도록 myfunc 함수 수정\n",
    ">>  - 오류 발생"
   ]
  },
  {
   "cell_type": "code",
   "execution_count": 22,
   "metadata": {},
   "outputs": [
    {
     "ename": "TypeError",
     "evalue": "wrapper() takes 0 positional arguments but 1 was given",
     "output_type": "error",
     "traceback": [
      "\u001b[0;31m---------------------------------------------------------------------------\u001b[0m",
      "\u001b[0;31mTypeError\u001b[0m                                 Traceback (most recent call last)",
      "Cell \u001b[0;32mIn[22], line 18\u001b[0m\n\u001b[1;32m     14\u001b[0m \u001b[39m@elapsed\u001b[39m\n\u001b[1;32m     15\u001b[0m \u001b[39mdef\u001b[39;00m \u001b[39mmyfunc\u001b[39m(msg):\n\u001b[1;32m     16\u001b[0m     \u001b[39mprint\u001b[39m(\u001b[39m\"\u001b[39m\u001b[39m'\u001b[39m\u001b[39m%s\u001b[39;00m\u001b[39m'\u001b[39m\u001b[39m을 출력합니다.\u001b[39m\u001b[39m\"\u001b[39m \u001b[39m%\u001b[39m msg)\n\u001b[0;32m---> 18\u001b[0m myfunc(\u001b[39m\"\u001b[39;49m\u001b[39mYou need python\u001b[39;49m\u001b[39m\"\u001b[39;49m)\n",
      "\u001b[0;31mTypeError\u001b[0m: wrapper() takes 0 positional arguments but 1 was given"
     ]
    }
   ],
   "source": [
    "# decorator2.py\n",
    "\n",
    "import time\n",
    "\n",
    "def elapsed(original_func):  # 기존 함수 인수로 받음\n",
    "    def wrapper():\n",
    "        start = time.time()\n",
    "        result = original_func()  # 기존 함수 수행\n",
    "        end = time.time()\n",
    "        print(\"함수 수행시간: %f 초\" % (end-start))  # 기존 함수의 수행시간 출력\n",
    "        return result  # 기존 함수의 수행 결과 리턴\n",
    "    return wrapper\n",
    "\n",
    "@elapsed\n",
    "def myfunc(msg):\n",
    "    print(\"'%s'을 출력합니다.\" % msg)\n",
    "\n",
    "myfunc(\"You need python\") # 출력할 메시지를 myfunc 파라미터로 전달"
   ]
  },
  {
   "cell_type": "code",
   "execution_count": null,
   "metadata": {},
   "outputs": [],
   "source": []
  }
 ],
 "metadata": {
  "kernelspec": {
   "display_name": "review",
   "language": "python",
   "name": "python3"
  },
  "language_info": {
   "codemirror_mode": {
    "name": "ipython",
    "version": 3
   },
   "file_extension": ".py",
   "mimetype": "text/x-python",
   "name": "python",
   "nbconvert_exporter": "python",
   "pygments_lexer": "ipython3",
   "version": "3.9.16"
  },
  "orig_nbformat": 4
 },
 "nbformat": 4,
 "nbformat_minor": 2
}
