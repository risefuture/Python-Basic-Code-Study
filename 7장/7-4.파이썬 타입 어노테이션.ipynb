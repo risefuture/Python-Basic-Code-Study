{
 "cells": [
  {
   "attachments": {},
   "cell_type": "markdown",
   "metadata": {},
   "source": [
    "Jump to python\n",
    "=="
   ]
  },
  {
   "attachments": {},
   "cell_type": "markdown",
   "metadata": {},
   "source": [
    "파이썬 타입 어노테이션\n",
    "--"
   ]
  },
  {
   "attachments": {},
   "cell_type": "markdown",
   "metadata": {},
   "source": [
    "* 동적 언어와 정적 언어"
   ]
  },
  {
   "attachments": {},
   "cell_type": "markdown",
   "metadata": {},
   "source": [
    "* 동적 프로그래밍 언어(dynamic programming language)\n",
    ">  - 프로그램 실행 중에 변수의 타입을 동적으로 바꿀 수 있음\n",
    ">  - 파이썬"
   ]
  },
  {
   "cell_type": "code",
   "execution_count": 1,
   "metadata": {},
   "outputs": [
    {
     "data": {
      "text/plain": [
       "int"
      ]
     },
     "execution_count": 1,
     "metadata": {},
     "output_type": "execute_result"
    }
   ],
   "source": [
    "a = 1\n",
    "type(a)"
   ]
  },
  {
   "cell_type": "code",
   "execution_count": 2,
   "metadata": {},
   "outputs": [
    {
     "data": {
      "text/plain": [
       "str"
      ]
     },
     "execution_count": 2,
     "metadata": {},
     "output_type": "execute_result"
    }
   ],
   "source": [
    "a = \"1\"\n",
    "type(a)"
   ]
  },
  {
   "attachments": {},
   "cell_type": "markdown",
   "metadata": {},
   "source": [
    "* 정적 프로그래밍 언어(static programming language)\n",
    ">  - 자바\n",
    ">  - 한 번 변수에 타입을 지정하면 지정한 타입 외에 다른 타입은 사용할 수 없음\n",
    ">  - 컴파일 오류가 발생"
   ]
  },
  {
   "attachments": {},
   "cell_type": "markdown",
   "metadata": {},
   "source": [
    "* 파이썬 타입 어노테이션(type annotation)\n",
    ">  - 동적 언어의 단점을 극복하기 위해\n",
    ">  - 정적 언어에서와 같은 적극적인 타입 체크는 아님\n",
    ">  - 타입에 대한 힌트를 알려 주는 정도의 기능\n",
    ">  - 동적 언어의 장점을 잃지 않고, 기존에 작성된 코드와 호환성을 갖기 위해\n",
    "\n",
    ">  - 어노테이션 타입으로 정수는 int, 문자열은 str, 리스트는 list, 튜플은 tuple, 딕셔너리는 dict, 집합은 set, 불은 bool을 사용"
   ]
  },
  {
   "cell_type": "code",
   "execution_count": 3,
   "metadata": {},
   "outputs": [],
   "source": [
    "num: int = 1\n",
    "\n",
    "# 변수 이름 바로 뒤에 : int와 같이 사용해 num 변수가 int형이라는 것을 명시"
   ]
  },
  {
   "cell_type": "code",
   "execution_count": 4,
   "metadata": {},
   "outputs": [],
   "source": [
    "def add(a: int, b: int) -> int: \n",
    "    return a+b\n",
    "\n",
    "# 함수의 매개변수에도 같은 규칙을 적용하여 매개변수의 타입을 명시\n",
    "# -> int처럼 사용해 함수의 리턴값도 타입을 명시"
   ]
  },
  {
   "attachments": {},
   "cell_type": "markdown",
   "metadata": {},
   "source": [
    "* mypy\n",
    ">  - pip install mypy\n",
    ">  - 타입 어노테이션으로 매개변수의 타입을 명시해도, 다른 타입의 인수 입력 가능"
   ]
  },
  {
   "cell_type": "code",
   "execution_count": 5,
   "metadata": {},
   "outputs": [
    {
     "name": "stdout",
     "output_type": "stream",
     "text": [
      "6.4\n"
     ]
    }
   ],
   "source": [
    "# /NasData/home/knh/workspace/jump-to-python/typing_sample.py\n",
    "\n",
    "def add(a: int, b: int) -> int: \n",
    "    return a+b\n",
    "\n",
    "result = add(3, 3.4)\n",
    "print(result)  # 6.4 출력\n",
    "\n",
    "# b 매개변수는 int형, 하지만 3.4와 같은 float형 데이터 사용도 가능\n",
    "# 파이썬 타입 어노테이션은 체크가 아닌 힌트기 때문\n",
    "# 파이참과 같은 파이썬 전용 IDE 사용 시, 타입이 맞지 않는다는 경고 메시지 표시"
   ]
  },
  {
   "cell_type": "code",
   "execution_count": null,
   "metadata": {},
   "outputs": [],
   "source": [
    "'''\n",
    "TERMINAL 에서 mypy typing_sample.py 실행 시, 오류 발생\n",
    "\n",
    "(base) knh@gnode5:~/workspace/jump-to-python$ mypy typing_sample.py\n",
    "typing_sample.py:4: error: Argument 2 to \"add\" has incompatible type \"float\"; expected \"int\"  [arg-type]\n",
    "Found 1 error in 1 file (checked 1 source file)\n",
    "\n",
    "mypy로 typing_sample.py 파일을 확인하면 타입이 맞지 않는 오류 발생\n",
    "\n",
    "'''"
   ]
  },
  {
   "cell_type": "code",
   "execution_count": null,
   "metadata": {},
   "outputs": [],
   "source": [
    "# /NasData/home/knh/workspace/jump-to-python/typing_sample.py\n",
    "# 코드 수정\n",
    "\n",
    "def add(a: int, b: int) -> int: \n",
    "    return a+b\n",
    "\n",
    "result = add(3, 4)\n",
    "print(result)\n",
    "\n",
    "'''\n",
    "\n",
    "(base) knh@gnode5:~/workspace/jump-to-python$ mypy typing_sample.py\n",
    "Success: no issues found in 1 source file\n",
    "\n",
    "오류 없음\n",
    "\n",
    "'''"
   ]
  }
 ],
 "metadata": {
  "kernelspec": {
   "display_name": "mlcl",
   "language": "python",
   "name": "python3"
  },
  "language_info": {
   "codemirror_mode": {
    "name": "ipython",
    "version": 3
   },
   "file_extension": ".py",
   "mimetype": "text/x-python",
   "name": "python",
   "nbconvert_exporter": "python",
   "pygments_lexer": "ipython3",
   "version": "3.8.16"
  },
  "orig_nbformat": 4
 },
 "nbformat": 4,
 "nbformat_minor": 2
}
