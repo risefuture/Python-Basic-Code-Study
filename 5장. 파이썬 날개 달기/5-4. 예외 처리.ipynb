{
 "cells": [
  {
   "attachments": {},
   "cell_type": "markdown",
   "metadata": {},
   "source": [
    "Jump to python\n",
    "=="
   ]
  },
  {
   "attachments": {},
   "cell_type": "markdown",
   "metadata": {},
   "source": [
    "예외 처리\n",
    "--"
   ]
  },
  {
   "attachments": {},
   "cell_type": "markdown",
   "metadata": {},
   "source": [
    "* 오류는 언제 발생할까?"
   ]
  },
  {
   "cell_type": "code",
   "execution_count": 1,
   "metadata": {},
   "outputs": [
    {
     "ename": "FileNotFoundError",
     "evalue": "[Errno 2] No such file or directory: '나없는파일'",
     "output_type": "error",
     "traceback": [
      "\u001b[0;31m---------------------------------------------------------------------------\u001b[0m",
      "\u001b[0;31mFileNotFoundError\u001b[0m                         Traceback (most recent call last)",
      "Cell \u001b[0;32mIn[1], line 1\u001b[0m\n\u001b[0;32m----> 1\u001b[0m f \u001b[39m=\u001b[39m \u001b[39mopen\u001b[39;49m(\u001b[39m\"\u001b[39;49m\u001b[39m나없는파일\u001b[39;49m\u001b[39m\"\u001b[39;49m, \u001b[39m\"\u001b[39;49m\u001b[39mr\u001b[39;49m\u001b[39m\"\u001b[39;49m)\n",
      "File \u001b[0;32m~/anaconda3/envs/knh1/lib/python3.8/site-packages/IPython/core/interactiveshell.py:284\u001b[0m, in \u001b[0;36m_modified_open\u001b[0;34m(file, *args, **kwargs)\u001b[0m\n\u001b[1;32m    277\u001b[0m \u001b[39mif\u001b[39;00m file \u001b[39min\u001b[39;00m {\u001b[39m0\u001b[39m, \u001b[39m1\u001b[39m, \u001b[39m2\u001b[39m}:\n\u001b[1;32m    278\u001b[0m     \u001b[39mraise\u001b[39;00m \u001b[39mValueError\u001b[39;00m(\n\u001b[1;32m    279\u001b[0m         \u001b[39mf\u001b[39m\u001b[39m\"\u001b[39m\u001b[39mIPython won\u001b[39m\u001b[39m'\u001b[39m\u001b[39mt let you open fd=\u001b[39m\u001b[39m{\u001b[39;00mfile\u001b[39m}\u001b[39;00m\u001b[39m by default \u001b[39m\u001b[39m\"\u001b[39m\n\u001b[1;32m    280\u001b[0m         \u001b[39m\"\u001b[39m\u001b[39mas it is likely to crash IPython. If you know what you are doing, \u001b[39m\u001b[39m\"\u001b[39m\n\u001b[1;32m    281\u001b[0m         \u001b[39m\"\u001b[39m\u001b[39myou can use builtins\u001b[39m\u001b[39m'\u001b[39m\u001b[39m open.\u001b[39m\u001b[39m\"\u001b[39m\n\u001b[1;32m    282\u001b[0m     )\n\u001b[0;32m--> 284\u001b[0m \u001b[39mreturn\u001b[39;00m io_open(file, \u001b[39m*\u001b[39;49margs, \u001b[39m*\u001b[39;49m\u001b[39m*\u001b[39;49mkwargs)\n",
      "\u001b[0;31mFileNotFoundError\u001b[0m: [Errno 2] No such file or directory: '나없는파일'"
     ]
    }
   ],
   "source": [
    "f = open(\"나없는파일\", \"r\")\n",
    "\n",
    "# FileNotFoundError 오류\n",
    "# 존재하지 않는 파일을 사용하려고 할 때"
   ]
  },
  {
   "cell_type": "code",
   "execution_count": 2,
   "metadata": {},
   "outputs": [
    {
     "ename": "ZeroDivisionError",
     "evalue": "division by zero",
     "output_type": "error",
     "traceback": [
      "\u001b[0;31m---------------------------------------------------------------------------\u001b[0m",
      "\u001b[0;31mZeroDivisionError\u001b[0m                         Traceback (most recent call last)",
      "Cell \u001b[0;32mIn[2], line 1\u001b[0m\n\u001b[0;32m----> 1\u001b[0m \u001b[39m4\u001b[39;49m\u001b[39m/\u001b[39;49m\u001b[39m0\u001b[39;49m\n",
      "\u001b[0;31mZeroDivisionError\u001b[0m: division by zero"
     ]
    }
   ],
   "source": [
    "4/0\n",
    "\n",
    "# ZeroDivisionError 오류\n",
    "# 0으로 다른 숫자 나누려 할 때"
   ]
  },
  {
   "cell_type": "code",
   "execution_count": 3,
   "metadata": {},
   "outputs": [
    {
     "ename": "IndexError",
     "evalue": "list index out of range",
     "output_type": "error",
     "traceback": [
      "\u001b[0;31m---------------------------------------------------------------------------\u001b[0m",
      "\u001b[0;31mIndexError\u001b[0m                                Traceback (most recent call last)",
      "Cell \u001b[0;32mIn[3], line 2\u001b[0m\n\u001b[1;32m      1\u001b[0m a \u001b[39m=\u001b[39m [\u001b[39m1\u001b[39m, \u001b[39m2\u001b[39m, \u001b[39m3\u001b[39m]\n\u001b[0;32m----> 2\u001b[0m a[\u001b[39m3\u001b[39;49m]\n",
      "\u001b[0;31mIndexError\u001b[0m: list index out of range"
     ]
    }
   ],
   "source": [
    "a = [1, 2, 3]\n",
    "\n",
    "a[3]\n",
    "\n",
    "# IndexError 오류\n",
    "# a[3]은 a의 네 번째 요솟값을 가리킴\n",
    "# a 리스트에는 3개의 값만 존재"
   ]
  },
  {
   "attachments": {},
   "cell_type": "markdown",
   "metadata": {},
   "source": [
    "* 오류 예외 처리 기법"
   ]
  },
  {
   "attachments": {},
   "cell_type": "markdown",
   "metadata": {},
   "source": [
    ">  - try-except 문\n",
    ">  - try 블록 수행 중 오류 발생 시, except 블록 수행\n",
    ">  - try 블록에서 오류 발생하지 않으면, except 블록은 수행되지 않음\n",
    ">  - [ ] 기호는 괄호 안의 내용을 생략할 수 있다는 관례적인 표기법"
   ]
  },
  {
   "cell_type": "code",
   "execution_count": null,
   "metadata": {},
   "outputs": [],
   "source": [
    "'''\n",
    "\n",
    "try:\n",
    "    ...\n",
    "except [발생오류 [as 오류변수]]:\n",
    "    ...\n",
    "\n",
    "'''"
   ]
  },
  {
   "attachments": {},
   "cell_type": "markdown",
   "metadata": {},
   "source": [
    "* 1. try-except만 사용\n",
    ">  - 오류의 종류에 상관없이, 오류 발생 시 except 블록 수행"
   ]
  },
  {
   "cell_type": "code",
   "execution_count": null,
   "metadata": {},
   "outputs": [],
   "source": [
    "'''\n",
    "\n",
    "try:\n",
    "    ...\n",
    "except:\n",
    "    ...\n",
    "\n",
    "'''"
   ]
  },
  {
   "attachments": {},
   "cell_type": "markdown",
   "metadata": {},
   "source": [
    "* 2. 발생 오류만 포함한 except 문\n",
    ">  - 오류가 발생 시, except 문에 미리 정해 놓은 오류와 동일한 오류일 경우에만 except 블록 수행"
   ]
  },
  {
   "cell_type": "code",
   "execution_count": null,
   "metadata": {},
   "outputs": [],
   "source": [
    "'''\n",
    "\n",
    "try:\n",
    "    ...\n",
    "except 발생오류:\n",
    "    ...\n",
    "    \n",
    "'''"
   ]
  },
  {
   "attachments": {},
   "cell_type": "markdown",
   "metadata": {},
   "source": [
    "* 3. 발생 오류와 오류 변수까지 포함한 except 문\n",
    ">  - 오류의 내용까지 알고 싶을 때 사용"
   ]
  },
  {
   "cell_type": "code",
   "execution_count": null,
   "metadata": {},
   "outputs": [],
   "source": [
    "'''\n",
    "\n",
    "try:\n",
    "    ...\n",
    "except 발생오류 as 오류변수:\n",
    "    ...\n",
    "\n",
    "'''"
   ]
  },
  {
   "cell_type": "code",
   "execution_count": 5,
   "metadata": {},
   "outputs": [
    {
     "name": "stdout",
     "output_type": "stream",
     "text": [
      "division by zero\n"
     ]
    }
   ],
   "source": [
    "# try_except.py\n",
    "\n",
    "try:\n",
    "    4/0 \n",
    "    \n",
    "    # 에러 실행하여 except 블록 실행\n",
    "\n",
    "except ZeroDivisionError as e:\n",
    "    print(e)\n",
    "\n",
    "# 오류 변수 e에 담기는 오류 메시지 출력됨"
   ]
  },
  {
   "attachments": {},
   "cell_type": "markdown",
   "metadata": {},
   "source": [
    "* try-finally 문\n",
    ">  - finally 절은 try 문 수행 도중 예외 발생 여부에 상관없이 항상 수행\n",
    ">  - finally 절은 사용한 리소스를 close 해야 할 때 많이 사용"
   ]
  },
  {
   "cell_type": "code",
   "execution_count": 6,
   "metadata": {},
   "outputs": [],
   "source": [
    "# try_finally.py\n",
    "\n",
    "try:\n",
    "    f = open('foo.txt', 'w')\n",
    "    \n",
    "    # 무언가를 수행\n",
    "\n",
    "finally:\n",
    "    f.close()\n",
    "\n",
    "    # 중간에 오류가 나더라도 무조건 실행\n",
    "\n",
    "# foo.txt 파일을 쓰기 모드로 연 후, 예외 발생 여부에 상관없이 항상 파일을 닫아주기 위해 try-finally 문 사용"
   ]
  },
  {
   "attachments": {},
   "cell_type": "markdown",
   "metadata": {},
   "source": [
    "* 여러 개의 오류 처리"
   ]
  },
  {
   "cell_type": "code",
   "execution_count": null,
   "metadata": {},
   "outputs": [],
   "source": [
    "'''\n",
    "\n",
    "try:\n",
    "    ...\n",
    "except 발생오류1:\n",
    "    ...\n",
    "except 발생오류2:\n",
    "    ...\n",
    "\n",
    "'''"
   ]
  },
  {
   "cell_type": "code",
   "execution_count": 7,
   "metadata": {},
   "outputs": [
    {
     "name": "stdout",
     "output_type": "stream",
     "text": [
      "인덱싱 할 수 없습니다\n"
     ]
    }
   ],
   "source": [
    "# many_error.py\n",
    "\n",
    "try:\n",
    "    a = [1, 2]\n",
    "    print(a[3])\n",
    "    4/0\n",
    "\n",
    "except ZeroDivisionError:\n",
    "    print(\"0으로 나눌 수 없습니다\")\n",
    "    \n",
    "except IndexError:\n",
    "    print(\"인덱싱 할 수 없습니다\")\n",
    "\n",
    "# 인덱싱 오류가 먼저 발생했으므로, 4/0에 따른 Zero DivisionError 오류 발생하지 않음"
   ]
  },
  {
   "cell_type": "code",
   "execution_count": 11,
   "metadata": {},
   "outputs": [
    {
     "name": "stdout",
     "output_type": "stream",
     "text": [
      "0으로 나눌 수 없습니다\n"
     ]
    }
   ],
   "source": [
    "try:\n",
    "    4/0\n",
    "    a = [1, 2]\n",
    "    print(a[3])\n",
    "\n",
    "except ZeroDivisionError:\n",
    "    print(\"0으로 나눌 수 없습니다\")\n",
    "    \n",
    "except IndexError:\n",
    "    print(\"인덱싱 할 수 없습니다\")"
   ]
  },
  {
   "cell_type": "code",
   "execution_count": 8,
   "metadata": {},
   "outputs": [
    {
     "name": "stdout",
     "output_type": "stream",
     "text": [
      "list index out of range\n"
     ]
    }
   ],
   "source": [
    "try:\n",
    "    a = [1,2]\n",
    "    print(a[3])\n",
    "    4/0\n",
    "\n",
    "except ZeroDivisionError as e:\n",
    "    print(e)\n",
    "    \n",
    "except IndexError as e:\n",
    "    print(e)"
   ]
  },
  {
   "cell_type": "code",
   "execution_count": 9,
   "metadata": {},
   "outputs": [
    {
     "name": "stdout",
     "output_type": "stream",
     "text": [
      "list index out of range\n"
     ]
    }
   ],
   "source": [
    "try:\n",
    "    a = [1,2]\n",
    "    print(a[3])\n",
    "    4/0\n",
    "\n",
    "except (ZeroDivisionError, IndexError) as e:\n",
    "    print(e)\n",
    "\n",
    "# 2개 이상의 오류를 동일하게 처리하기 위해, 괄호로 함께 묶어 처리"
   ]
  },
  {
   "cell_type": "code",
   "execution_count": 10,
   "metadata": {},
   "outputs": [
    {
     "name": "stdout",
     "output_type": "stream",
     "text": [
      "division by zero\n"
     ]
    }
   ],
   "source": [
    "try:\n",
    "    4/0\n",
    "    a = [1,2]\n",
    "    print(a[3])\n",
    "\n",
    "except (ZeroDivisionError, IndexError) as e:\n",
    "    print(e)"
   ]
  },
  {
   "attachments": {},
   "cell_type": "markdown",
   "metadata": {},
   "source": [
    "* try-else 문\n",
    ">  - try 문 수행 중, 오류가 발생하면 except 절, 오류가 발생하지 않으면 else 절 수행"
   ]
  },
  {
   "cell_type": "code",
   "execution_count": null,
   "metadata": {},
   "outputs": [],
   "source": [
    "'''\n",
    "\n",
    "try:\n",
    "    ...\n",
    "\n",
    "except [발생오류 [as 오류변수]]:\n",
    "    ...\n",
    "\n",
    "else:         # 오류가 없을 경우에만 수행\n",
    "    ...\n",
    "\n",
    "'''"
   ]
  },
  {
   "cell_type": "code",
   "execution_count": 13,
   "metadata": {},
   "outputs": [
    {
     "name": "stdout",
     "output_type": "stream",
     "text": [
      "입력이 정확하지 않습니다.\n"
     ]
    }
   ],
   "source": [
    "# try_else.py\n",
    "\n",
    "try:\n",
    "    age=int(input('나이를 입력하세요: '))\n",
    "\n",
    "except:\n",
    "    print('입력이 정확하지 않습니다.')\n",
    "\n",
    "else:\n",
    "\n",
    "    if age <= 18:\n",
    "        print('미성년자는 출입금지입니다.')\n",
    "\n",
    "    else:\n",
    "        print('환영합니다.')\n",
    "\n",
    "# '나이를 입력하세요:' 질문에 숫자가 아닌 다른 값을 입력, 오류 발생"
   ]
  },
  {
   "cell_type": "code",
   "execution_count": 14,
   "metadata": {},
   "outputs": [
    {
     "name": "stdout",
     "output_type": "stream",
     "text": [
      "환영합니다.\n"
     ]
    }
   ],
   "source": [
    "# try_else.py\n",
    "\n",
    "try:\n",
    "    age=int(input('나이를 입력하세요: '))\n",
    "\n",
    "except:\n",
    "    print('입력이 정확하지 않습니다.')\n",
    "\n",
    "else:\n",
    "\n",
    "    if age <= 18:\n",
    "        print('미성년자는 출입금지입니다.')\n",
    "\n",
    "    else:\n",
    "        print('환영합니다.')\n",
    "\n",
    "# 오류 없을 경우 else 절 수행"
   ]
  },
  {
   "attachments": {},
   "cell_type": "markdown",
   "metadata": {},
   "source": [
    "* 오류 회피"
   ]
  },
  {
   "cell_type": "code",
   "execution_count": 16,
   "metadata": {},
   "outputs": [],
   "source": [
    "# error_pass.py\n",
    "\n",
    "try:\n",
    "    f = open(\"나없는파일\", 'r')\n",
    "\n",
    "except FileNotFoundError:\n",
    "    pass\n",
    "\n",
    "# try 문 안에서 FileNotFoundError 발생\n",
    "# pass 사용해 오류 그냥 회피"
   ]
  },
  {
   "attachments": {},
   "cell_type": "markdown",
   "metadata": {},
   "source": [
    "* 오류 일부러 발생시키기\n",
    ">  - raise 명령어 사용해 오류 강제 발생"
   ]
  },
  {
   "cell_type": "code",
   "execution_count": 17,
   "metadata": {},
   "outputs": [],
   "source": [
    "# error_raise.py\n",
    "\n",
    "class Bird:\n",
    "    def fly(self):\n",
    "        raise NotImplementedError\n",
    "\n",
    "# Bird 클래스 상속받는 자식 클래스는 반드시 fly 라는 함수를 구현하고 싶은 경우\n"
   ]
  },
  {
   "cell_type": "code",
   "execution_count": null,
   "metadata": {},
   "outputs": [],
   "source": []
  },
  {
   "attachments": {},
   "cell_type": "markdown",
   "metadata": {},
   "source": [
    "# try_else.py\n",
    "\n",
    "try:\n",
    "    age=int(input('나이를 입력하세요: '))\n",
    "\n",
    "except:\n",
    "    print('입력이 정확하지 않습니다.')\n",
    "\n",
    "else:\n",
    "\n",
    "    if age <= 18:\n",
    "        print('미성년자는 출입금지입니다.')\n",
    "\n",
    "    else:\n",
    "        print('환영합니다.')"
   ]
  }
 ],
 "metadata": {
  "kernelspec": {
   "display_name": "knh1",
   "language": "python",
   "name": "python3"
  },
  "language_info": {
   "codemirror_mode": {
    "name": "ipython",
    "version": 3
   },
   "file_extension": ".py",
   "mimetype": "text/x-python",
   "name": "python",
   "nbconvert_exporter": "python",
   "pygments_lexer": "ipython3",
   "version": "3.8.17"
  },
  "orig_nbformat": 4
 },
 "nbformat": 4,
 "nbformat_minor": 2
}
