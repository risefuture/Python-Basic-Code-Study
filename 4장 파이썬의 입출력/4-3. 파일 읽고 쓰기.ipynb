{
 "cells": [
  {
   "attachments": {},
   "cell_type": "markdown",
   "metadata": {},
   "source": [
    "Jump to python\n",
    "=="
   ]
  },
  {
   "attachments": {},
   "cell_type": "markdown",
   "metadata": {},
   "source": [
    "* \"입력\" 시에는 사용자가 직접 입력하는 방식 사용\n",
    "* \"출력\" 시에는 모니터 화면에 결괏값을 출력하는 방식 사용"
   ]
  },
  {
   "attachments": {},
   "cell_type": "markdown",
   "metadata": {},
   "source": [
    "파일 읽고 쓰기\n",
    "--\n",
    "\n",
    "* 파일을 통한 입출력 방법"
   ]
  },
  {
   "attachments": {},
   "cell_type": "markdown",
   "metadata": {},
   "source": [
    "* 파일 생성하기\n",
    ">  - 파일 객체 = open(파일 이름, 파일 열기 모드)"
   ]
  },
  {
   "attachments": {},
   "cell_type": "markdown",
   "metadata": {},
   "source": [
    "* 파일 열기 모드\n",
    ">  - r : 읽기 모드 - 파일을 읽기만 할 때\n",
    ">  - w : 쓰기 모드 - 파일에 내용을 쓸 때\n",
    ">  - a : 추가 모드 - 파일의 마지막에 새로운 내용을 추가 시킬 때"
   ]
  },
  {
   "cell_type": "code",
   "execution_count": 5,
   "metadata": {},
   "outputs": [],
   "source": [
    "f = open(\"새파일.txt\", 'w')\n",
    "f.close()\n",
    "\n",
    "# open 함수는 \"파일 이름\"과 \"파일 열기 모드\"를 입력값으로 받고, 결괏값으로 파일 객체를 리턴 "
   ]
  },
  {
   "cell_type": "code",
   "execution_count": 8,
   "metadata": {},
   "outputs": [
    {
     "data": {
      "text/plain": [
       "<function TextIOWrapper.close()>"
      ]
     },
     "execution_count": 8,
     "metadata": {},
     "output_type": "execute_result"
    }
   ],
   "source": [
    "f = open(\"/NasData/home/knh/workspace/새파일.txt\", 'w')\n",
    "f.close\n",
    "\n",
    "# '/NasData/home/knh/workspace' 디렉터리에 생성하고 싶을 시, 다음과 같이 작성 "
   ]
  },
  {
   "attachments": {},
   "cell_type": "markdown",
   "metadata": {},
   "source": [
    "* 파일 경로와 슬래시 (/)\n",
    ">  - 파일 경로 표시 할 때, 슬래시(/) 사용\n",
    ">  - 역슬래시 (\\\\\\) 사용 시, \"\\\\\\\\NasData\\\\\\\\home\\\\\\\\knh\\\\\\\\workspace\\\\\\\\새파일.txt\" 처럼 2개 사용\n",
    ">  - 또는 역슬래시 (\\\\\\) 사용 시, r\"\\NasData\\home\\knh\\workspace\\새파일.txt\" 처럼 문자열 앞에 r 문자(Raw String) 덧붙여 사용\n",
    ">  - 파일 경로에 \\n와 같은 이스케이프 문자가 있을 경우, 줄바꿈 문자로 해석되어 의도했던 파일 경로와 달라지기 때문"
   ]
  },
  {
   "attachments": {},
   "cell_type": "markdown",
   "metadata": {},
   "source": [
    "* 파일을 쓰기 모드로 열어 내용 쓰기"
   ]
  },
  {
   "cell_type": "code",
   "execution_count": 13,
   "metadata": {},
   "outputs": [
    {
     "name": "stdout",
     "output_type": "stream",
     "text": [
      "1번째 줄입니다.\n",
      "\n",
      "2번째 줄입니다.\n",
      "\n",
      "3번째 줄입니다.\n",
      "\n",
      "4번째 줄입니다.\n",
      "\n",
      "5번째 줄입니다.\n",
      "\n",
      "6번째 줄입니다.\n",
      "\n",
      "7번째 줄입니다.\n",
      "\n",
      "8번째 줄입니다.\n",
      "\n",
      "9번째 줄입니다.\n",
      "\n",
      "10번째 줄입니다.\n",
      "\n"
     ]
    }
   ],
   "source": [
    "for i in range(1, 11):\n",
    "    data = \"%d번째 줄입니다.\\n\" % i\n",
    "    print(data)\n",
    "\n",
    "# 모니터 화면에 데이터 출력"
   ]
  },
  {
   "cell_type": "code",
   "execution_count": 11,
   "metadata": {},
   "outputs": [],
   "source": [
    "f = open(\"/NasData/home/knh/workspace/새파일.txt\", 'w')\n",
    "for i in range(1, 11):\n",
    "    data = \"%d번째 줄입니다.\\n\" % i\n",
    "    f.write(data)\n",
    "f.close()\n",
    "\n",
    "# 모니터 화면 대신 파일에 데이터 적는 방법"
   ]
  },
  {
   "cell_type": "code",
   "execution_count": null,
   "metadata": {},
   "outputs": [],
   "source": [
    "f = open(\"/NasData/home/knh/workspace/새파일.txt\", 'w')\n",
    "for i in range(1, 11):\n",
    "    data = \"%d번째 줄입니다.\\n\" % i\n",
    "    f.write(data)\n",
    "f.close()\n",
    "\n",
    "# writedata.py 저장 후, cmd 창으로 실행\n",
    "# 윈도우가 아닌 리눅스로 로그인 해야 함\n",
    "# cd /NasData/home/knh/workspace 후, python writedata.py"
   ]
  },
  {
   "attachments": {},
   "cell_type": "markdown",
   "metadata": {},
   "source": [
    "* 파일을 읽는 방법"
   ]
  },
  {
   "attachments": {},
   "cell_type": "markdown",
   "metadata": {},
   "source": [
    ">  - readline 함수"
   ]
  },
  {
   "cell_type": "code",
   "execution_count": 1,
   "metadata": {},
   "outputs": [
    {
     "name": "stdout",
     "output_type": "stream",
     "text": [
      "1번째 줄입니다.\n",
      "\n"
     ]
    }
   ],
   "source": [
    "f = open(\"/NasData/home/knh/workspace/새파일.txt\", 'r')\n",
    "line = f.readline()\n",
    "print(line)\n",
    "f.close()\n",
    "\n",
    "# 파일의 첫 번째 줄을 읽어 출력"
   ]
  },
  {
   "cell_type": "code",
   "execution_count": 2,
   "metadata": {},
   "outputs": [
    {
     "name": "stdout",
     "output_type": "stream",
     "text": [
      "1번째 줄입니다.\n",
      "\n",
      "2번째 줄입니다.\n",
      "\n",
      "3번째 줄입니다.\n",
      "\n",
      "4번째 줄입니다.\n",
      "\n",
      "5번째 줄입니다.\n",
      "\n",
      "6번째 줄입니다.\n",
      "\n",
      "7번째 줄입니다.\n",
      "\n",
      "8번째 줄입니다.\n",
      "\n",
      "9번째 줄입니다.\n",
      "\n",
      "10번째 줄입니다.\n",
      "\n"
     ]
    }
   ],
   "source": [
    "f = open(\"/NasData/home/knh/workspace/새파일.txt\", 'r')\n",
    "while True:\n",
    "    line = f.readline()\n",
    "    if not line: break\n",
    "    print(line)\n",
    "f.close()\n",
    "\n",
    "# 파일을 사용한 입력 방식\n",
    "# while true : 무한 루프 안에서 파일을 계속 읽어들임\n",
    "# 한 줄씩 읽어 출력 시, 줄 끝에 \\n 문자가 있어서 빈 줄도 같이 출력됨\n",
    "# 더 읽을 줄이 없으면 break 수행\n",
    "# readline은 더 읽을 줄이 없을 경우, 빈 문자열(\") 리턴"
   ]
  },
  {
   "cell_type": "code",
   "execution_count": null,
   "metadata": {},
   "outputs": [],
   "source": [
    "while True:\n",
    "    data = input()\n",
    "    if not data: break\n",
    "    pirnt(data)\n",
    "\n",
    "# 키보드로 사용자 입력을 받는 방식"
   ]
  },
  {
   "attachments": {},
   "cell_type": "markdown",
   "metadata": {},
   "source": [
    "* readlines 함수 사용\n",
    ">  - readlines는 파일의 모든 줄을 읽어 각각의 줄을 요소로 가지는 리스트 리턴"
   ]
  },
  {
   "cell_type": "code",
   "execution_count": null,
   "metadata": {},
   "outputs": [
    {
     "name": "stdout",
     "output_type": "stream",
     "text": [
      "1번째 줄입니다.\n",
      "\n",
      "2번째 줄입니다.\n",
      "\n",
      "3번째 줄입니다.\n",
      "\n",
      "4번째 줄입니다.\n",
      "\n",
      "5번째 줄입니다.\n",
      "\n",
      "6번째 줄입니다.\n",
      "\n",
      "7번째 줄입니다.\n",
      "\n",
      "8번째 줄입니다.\n",
      "\n",
      "9번째 줄입니다.\n",
      "\n",
      "10번째 줄입니다.\n",
      "\n"
     ]
    }
   ],
   "source": [
    "# readlines.py\n",
    "\n",
    "f = open(\"/NasData/home/knh/workspace/새파일.txt\", 'r')\n",
    "lines = f.readlines()\n",
    "for line in lines:\n",
    "    print(line)\n",
    "f.close()\n",
    "\n",
    "# lines는 리스트가 됨\n",
    "\n",
    "'''\n",
    "1번째 줄입니다.\n",
    "\n",
    "2번째 줄입니다.\n",
    "\n",
    "3번째 줄입니다.\n",
    "\n",
    "4번째 줄입니다.\n",
    "\n",
    "5번째 줄입니다.\n",
    "\n",
    "6번째 줄입니다.\n",
    "\n",
    "7번째 줄입니다.\n",
    "\n",
    "8번째 줄입니다.\n",
    "\n",
    "9번째 줄입니다.\n",
    "\n",
    "10번째 줄입니다.\n",
    "'''"
   ]
  },
  {
   "cell_type": "code",
   "execution_count": null,
   "metadata": {},
   "outputs": [],
   "source": [
    "f = open(\"/NasData/home/knh/workspace/새파일.txt\", 'r')\n",
    "lines = f.readlines()\n",
    "print(type(lines)) # <class 'list'>\n",
    "for line in lines:\n",
    "    print(line)\n",
    "    print(type(line))\n",
    "    '''\n",
    "    1번째 줄입니다.\n",
    "\n",
    "    <class 'str'>\n",
    "    2번째 줄입니다.\n",
    "\n",
    "    <class 'str'>\n",
    "    3번째 줄입니다.\n",
    "\n",
    "    <class 'str'>\n",
    "    4번째 줄입니다.\n",
    "\n",
    "    <class 'str'>\n",
    "    5번째 줄입니다.\n",
    "\n",
    "    <class 'str'>\n",
    "    6번째 줄입니다.\n",
    "\n",
    "    <class 'str'>\n",
    "    7번째 줄입니다.\n",
    "\n",
    "    <class 'str'>\n",
    "    8번째 줄입니다.\n",
    "\n",
    "    <class 'str'>\n",
    "    9번째 줄입니다.\n",
    "\n",
    "    <class 'str'>\n",
    "    10번째 줄입니다.\n",
    "\n",
    "    <class 'str'>\n",
    "\n",
    "    '''\n",
    "f.close()"
   ]
  },
  {
   "attachments": {},
   "cell_type": "markdown",
   "metadata": {},
   "source": [
    "* 줄 바꿈(\\n) 문자 제거\n",
    ">  - strip 함수 사용"
   ]
  },
  {
   "cell_type": "code",
   "execution_count": null,
   "metadata": {},
   "outputs": [],
   "source": [
    "f = open(\"/NasData/home/knh/workspace/새파일.txt\", 'r')\n",
    "lines = f.readlines()\n",
    "for line in lines:\n",
    "    line = line.strip() # 줄 끝의 줄 바꿈 문자 제거\n",
    "    print(line)\n",
    "f.close()\n",
    "\n",
    "'''\n",
    "1번째 줄입니다.\n",
    "2번째 줄입니다.\n",
    "3번째 줄입니다.\n",
    "4번째 줄입니다.\n",
    "5번째 줄입니다.\n",
    "6번째 줄입니다.\n",
    "7번째 줄입니다.\n",
    "8번째 줄입니다.\n",
    "9번째 줄입니다.\n",
    "10번째 줄입니다.\n",
    "'''"
   ]
  },
  {
   "attachments": {},
   "cell_type": "markdown",
   "metadata": {},
   "source": [
    "* read 함수 사용"
   ]
  },
  {
   "cell_type": "code",
   "execution_count": null,
   "metadata": {},
   "outputs": [],
   "source": [
    "# read.py\n",
    "\n",
    "f = open(\"/NasData/home/knh/workspace/새파일.txt\", 'r')\n",
    "data = f.read()\n",
    "print(data)\n",
    "f.close()\n",
    "\n",
    "# f.read()는 파일의 내용 전체를 문자열로 리턴"
   ]
  },
  {
   "cell_type": "code",
   "execution_count": null,
   "metadata": {},
   "outputs": [],
   "source": [
    "f = open(\"/NasData/home/knh/workspace/새파일.txt\", 'r')\n",
    "data = f.read()\n",
    "print(type(data)) # <class 'str'>\n",
    "print(data)\n",
    "f.close()"
   ]
  },
  {
   "attachments": {},
   "cell_type": "markdown",
   "metadata": {},
   "source": [
    "* 파일 객체를 for 문과 함께 사용"
   ]
  },
  {
   "cell_type": "code",
   "execution_count": null,
   "metadata": {},
   "outputs": [],
   "source": [
    "# read_for.py\n",
    "\n",
    "f = open(\"/NasData/home/knh/workspace/새파일.txt\", 'r')\n",
    "for line in f:\n",
    "    print(line)\n",
    "f.close()\n",
    "\n",
    "# for문 사용해 파일을 줄 단위로 읽음"
   ]
  },
  {
   "attachments": {},
   "cell_type": "markdown",
   "metadata": {},
   "source": [
    "* 파일에 새로운 내용 추가\n",
    ">  - 쓰기 모드('w')로 파일 열 때, 이미 존재하는 파일을 열면 그 파일의 내용이 모두 사라짐\n",
    ">  - 원래 있던 값을 유지하며, 새로운 값만 추가하려는 경우\n",
    ">  - 파일 추가 모드('a')로 열면 됨"
   ]
  },
  {
   "cell_type": "code",
   "execution_count": null,
   "metadata": {},
   "outputs": [],
   "source": [
    "# add_data.py\n",
    "\n",
    "f = open(\"/NasData/home/knh/workspace/새파일.txt\", 'a')\n",
    "for i in range(11, 20):\n",
    "    data = \"%d번째 줄입니다.\\n\" % i\n",
    "    f.write(data)\n",
    "f.close()\n",
    "\n",
    "'''\n",
    "새파일 열어보면\n",
    "\n",
    "1번째 줄입니다.\n",
    "2번째 줄입니다.\n",
    "3번째 줄입니다.\n",
    "4번째 줄입니다.\n",
    "5번째 줄입니다.\n",
    "6번째 줄입니다.\n",
    "7번째 줄입니다.\n",
    "8번째 줄입니다.\n",
    "9번째 줄입니다.\n",
    "10번째 줄입니다.\n",
    "11번째 줄입니다.\n",
    "12번째 줄입니다.\n",
    "13번째 줄입니다.\n",
    "14번째 줄입니다.\n",
    "15번째 줄입니다.\n",
    "16번째 줄입니다.\n",
    "17번째 줄입니다.\n",
    "18번째 줄입니다.\n",
    "19번째 줄입니다.\n",
    "11번째 줄입니다.\n",
    "12번째 줄입니다.\n",
    "13번째 줄입니다.\n",
    "14번째 줄입니다.\n",
    "15번째 줄입니다.\n",
    "16번째 줄입니다.\n",
    "17번째 줄입니다.\n",
    "18번째 줄입니다.\n",
    "19번째 줄입니다.\n",
    "\n",
    "내용 추가 작성 확인 가능\n",
    "'''"
   ]
  },
  {
   "attachments": {},
   "cell_type": "markdown",
   "metadata": {},
   "source": [
    "* with문과 함께 사용"
   ]
  },
  {
   "cell_type": "code",
   "execution_count": 5,
   "metadata": {},
   "outputs": [],
   "source": [
    "f = open(\"foo.txt\", 'w')\n",
    "f.write(\"Life is too short, you need python\")\n",
    "f.close()\n",
    "\n",
    "# 이때까지 파일을 열고(open), 닫아 줌(close)\n",
    "# with문으로 파일 열고 닫는 것 자동으로 처리 가능"
   ]
  },
  {
   "cell_type": "code",
   "execution_count": null,
   "metadata": {},
   "outputs": [],
   "source": [
    "# file_with.py\n",
    "\n",
    "with open(\"foo.txt\", \"w\") as f:\n",
    "    f.write(\"Life is too short, you need python\")\n",
    "\n",
    "# with 블록(with 문에 속해 있는 문장)을 벗어나는 순간, 열린 파일 객체 f가 자동으로 닫힘"
   ]
  }
 ],
 "metadata": {
  "kernelspec": {
   "display_name": "knh1",
   "language": "python",
   "name": "python3"
  },
  "language_info": {
   "codemirror_mode": {
    "name": "ipython",
    "version": 3
   },
   "file_extension": ".py",
   "mimetype": "text/x-python",
   "name": "python",
   "nbconvert_exporter": "python",
   "pygments_lexer": "ipython3",
   "version": "3.8.16"
  },
  "orig_nbformat": 4
 },
 "nbformat": 4,
 "nbformat_minor": 2
}
