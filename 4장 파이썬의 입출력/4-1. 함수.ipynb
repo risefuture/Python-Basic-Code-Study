{
 "cells": [
  {
   "attachments": {},
   "cell_type": "markdown",
   "metadata": {},
   "source": [
    "Jump to python\n",
    "=="
   ]
  },
  {
   "attachments": {},
   "cell_type": "markdown",
   "metadata": {},
   "source": [
    "함수\n",
    "--"
   ]
  },
  {
   "attachments": {},
   "cell_type": "markdown",
   "metadata": {},
   "source": [
    "* 함수\n",
    "  - 입력(x) 값에 따라 출력(y) 값이 변하는 것이 함수\n",
    "  - 프로그래밍 도중 반복적으로 사용되는 가치 있는 부분에 사용\n",
    "  - 어떤 입력값을 주었을 때, 어떤 결괏값을 돌려준다는 식으로 함수 작성\n",
    "  - def 함수명(매개변수):\n",
    "  - def는 함수를 만들 때 사용하는 예약어\n",
    "  - 함수명은 임의로 만들 수 있음\n",
    "  - 매개변수는 이 함수에 입력으로 전달되는 값을 받는 변수"
   ]
  },
  {
   "cell_type": "code",
   "execution_count": 1,
   "metadata": {},
   "outputs": [],
   "source": [
    "def add(a,b):\n",
    "    return a+b\n",
    "\n",
    "# 함수의 이름은 add 이고, 입력으로 2개의 값을 받으며, 리턴값(출력값)은 2개의 입력값을 더한 값\n",
    "# return 은 함수의 결괏값(리턴값)을 돌려주는 명령어"
   ]
  },
  {
   "cell_type": "code",
   "execution_count": 2,
   "metadata": {},
   "outputs": [
    {
     "name": "stdout",
     "output_type": "stream",
     "text": [
      "7\n"
     ]
    }
   ],
   "source": [
    "a = 3\n",
    "b = 4\n",
    "c = add(a,b)\n",
    "print(c)"
   ]
  },
  {
   "attachments": {},
   "cell_type": "markdown",
   "metadata": {},
   "source": [
    "* 매개변수와 인수\n",
    "  - 매개변수 : 함수에 전달된 값을 저장하는 변수\n",
    "  - 인수 : 함수에 전달하는 값"
   ]
  },
  {
   "cell_type": "code",
   "execution_count": 5,
   "metadata": {},
   "outputs": [
    {
     "name": "stdout",
     "output_type": "stream",
     "text": [
      "7\n"
     ]
    }
   ],
   "source": [
    "def add(a,b):\n",
    "    return a+b\n",
    "\n",
    "# a,b는 매개변수\n",
    "\n",
    "print(add(3,4))\n",
    "\n",
    "# 3, 4는 인수\n",
    "\n",
    "# 입력값 = 함수의 인수, 파라미터, 매개변수...\n",
    "# 함수의 리턴값 = 결괏값, 출력값, 반환 값, 돌려주는 값..."
   ]
  },
  {
   "attachments": {},
   "cell_type": "markdown",
   "metadata": {},
   "source": [
    "* 입력값과 리턴값에 따른 함수의 형태\n",
    "  - 함수는 들어온 입력값을 받아 어떤 처리를 하여 적절한 리턴값을 돌려줌\n",
    "  - 입력값 -----> 함수 -----> 리턴값"
   ]
  },
  {
   "attachments": {},
   "cell_type": "markdown",
   "metadata": {},
   "source": [
    "* 일반적인 함수"
   ]
  },
  {
   "cell_type": "code",
   "execution_count": null,
   "metadata": {},
   "outputs": [],
   "source": [
    "def 함수이름(매개변수):\n",
    "    <수행할 문장>\n",
    "    ....\n",
    "    return 리턴값"
   ]
  },
  {
   "cell_type": "code",
   "execution_count": 6,
   "metadata": {},
   "outputs": [],
   "source": [
    "def add(a,b):\n",
    "    result = a+b\n",
    "    return result"
   ]
  },
  {
   "attachments": {},
   "cell_type": "markdown",
   "metadata": {},
   "source": [
    "* 사용법\n",
    "  - 리턴값을 받을 변수 = 함수이름(입력인수1, 입력인수2, ...)"
   ]
  },
  {
   "cell_type": "code",
   "execution_count": 7,
   "metadata": {},
   "outputs": [
    {
     "name": "stdout",
     "output_type": "stream",
     "text": [
      "7\n"
     ]
    }
   ],
   "source": [
    "a = add(3,4)\n",
    "print(a)"
   ]
  },
  {
   "attachments": {},
   "cell_type": "markdown",
   "metadata": {},
   "source": [
    "* 입력값이 없는 함수\n",
    "  - 리턴값을 받을 변수 = 함수이름()"
   ]
  },
  {
   "cell_type": "code",
   "execution_count": 8,
   "metadata": {},
   "outputs": [],
   "source": [
    "def say():\n",
    "    return 'Hi'"
   ]
  },
  {
   "cell_type": "code",
   "execution_count": 9,
   "metadata": {},
   "outputs": [
    {
     "name": "stdout",
     "output_type": "stream",
     "text": [
      "Hi\n"
     ]
    }
   ],
   "source": [
    "a = say()\n",
    "print(a)\n",
    "\n",
    "# 해당 함수 사용을 위해서는 say() 처럼 괄호 안에 값이 없어야 함\n",
    "# 입력값은 없지만 리턴값으로 'Hi' 문자열 리턴\n",
    "# 즉, a = say() 작성 시, a에 \"Hi\"라는 문자열이 대입됨"
   ]
  },
  {
   "attachments": {},
   "cell_type": "markdown",
   "metadata": {},
   "source": [
    "* 리턴값이 없는 함수\n",
    "  - 함수이름(입력인수1, 입력인수2, ...)"
   ]
  },
  {
   "cell_type": "code",
   "execution_count": 10,
   "metadata": {},
   "outputs": [],
   "source": [
    "def add(a,b):\n",
    "    print(\"%d, %d의 합은 %d입니다.\" % (a, b, a+b))"
   ]
  },
  {
   "cell_type": "code",
   "execution_count": 11,
   "metadata": {},
   "outputs": [
    {
     "name": "stdout",
     "output_type": "stream",
     "text": [
      "3, 4의 합은 7입니다.\n"
     ]
    }
   ],
   "source": [
    "add(3,4)"
   ]
  },
  {
   "cell_type": "code",
   "execution_count": 12,
   "metadata": {},
   "outputs": [
    {
     "name": "stdout",
     "output_type": "stream",
     "text": [
      "3, 4의 합은 7입니다.\n"
     ]
    }
   ],
   "source": [
    "a = add(3, 4)\n",
    "\n",
    "# 3, 4d의 합은 7입니다.를 출력한 것과 리턴값이 없는 것을 혼동할 수 있음"
   ]
  },
  {
   "cell_type": "code",
   "execution_count": 15,
   "metadata": {},
   "outputs": [
    {
     "name": "stdout",
     "output_type": "stream",
     "text": [
      "None\n"
     ]
    }
   ],
   "source": [
    "print(a)\n",
    "\n",
    "# None 출력 = 리턴값 없음\n",
    "\n",
    "# print문은 함수의 구성 요소 중 하나인 <수행할 문장>에 해당하는 부분임 = 리턴값 없음\n",
    "# 리턴값은 오직 return 명령어로만 돌려받을 수 있음"
   ]
  },
  {
   "attachments": {},
   "cell_type": "markdown",
   "metadata": {},
   "source": [
    "* 입력값도 리턴값도 없는 함수\n",
    "  - 함수이름()"
   ]
  },
  {
   "cell_type": "code",
   "execution_count": 18,
   "metadata": {},
   "outputs": [],
   "source": [
    "def say():\n",
    "    print('Hi')\n",
    "\n",
    "# 입력 인수를 받는 매개변수도 없고, return문도 없음 = 입력값도 리턴값도 없는 함수"
   ]
  },
  {
   "cell_type": "code",
   "execution_count": 19,
   "metadata": {},
   "outputs": [
    {
     "name": "stdout",
     "output_type": "stream",
     "text": [
      "Hi\n"
     ]
    }
   ],
   "source": [
    "say()"
   ]
  },
  {
   "attachments": {},
   "cell_type": "markdown",
   "metadata": {},
   "source": [
    "* 매개변수 지정하여 호출하기"
   ]
  },
  {
   "cell_type": "code",
   "execution_count": 20,
   "metadata": {},
   "outputs": [],
   "source": [
    "def sub(a,b):\n",
    "    return a-b"
   ]
  },
  {
   "cell_type": "code",
   "execution_count": 22,
   "metadata": {},
   "outputs": [
    {
     "name": "stdout",
     "output_type": "stream",
     "text": [
      "4\n"
     ]
    }
   ],
   "source": [
    "result = sub(a=7, b=3)\n",
    "print(result)"
   ]
  },
  {
   "cell_type": "code",
   "execution_count": 24,
   "metadata": {},
   "outputs": [
    {
     "name": "stdout",
     "output_type": "stream",
     "text": [
      "-2\n"
     ]
    }
   ],
   "source": [
    "result = sub(b=5, a=3)\n",
    "print(result)\n",
    "\n",
    "# 매개변수 지정 시 순서에 상관없이 사용 가능"
   ]
  },
  {
   "attachments": {},
   "cell_type": "markdown",
   "metadata": {},
   "source": [
    "* 입력값이 몇 개가 될지 모를 때\n",
    "  - 함수 형태에서 괄호 안 매개변수 부분을 *매개변수 로 변경\n",
    "  - 매개변수 이름 앞에 *을 붙이면, 입력값을 전부 모아 튜플로 만들어 줌"
   ]
  },
  {
   "cell_type": "code",
   "execution_count": 25,
   "metadata": {},
   "outputs": [],
   "source": [
    "def add_many(*args):\n",
    "    result = 0\n",
    "    for i in args:\n",
    "        result = result + i\n",
    "    return result"
   ]
  },
  {
   "cell_type": "code",
   "execution_count": 26,
   "metadata": {},
   "outputs": [
    {
     "name": "stdout",
     "output_type": "stream",
     "text": [
      "6\n"
     ]
    }
   ],
   "source": [
    "result = add_many(1,2,3)\n",
    "print(result)"
   ]
  },
  {
   "cell_type": "code",
   "execution_count": 27,
   "metadata": {},
   "outputs": [
    {
     "name": "stdout",
     "output_type": "stream",
     "text": [
      "55\n"
     ]
    }
   ],
   "source": [
    "result = add_many(1,2,3,4,5,6,7,8,9,10)\n",
    "print(result)"
   ]
  },
  {
   "cell_type": "code",
   "execution_count": 29,
   "metadata": {},
   "outputs": [],
   "source": [
    "def add_mul(choice, *args):\n",
    "    if choice == \"add\":\n",
    "        result = 0\n",
    "        for i in args:\n",
    "            result = result + i\n",
    "    elif choice == \"mul\":\n",
    "        result = 1\n",
    "        for i in args:\n",
    "            result = result * i\n",
    "    return result\n",
    "\n",
    "# 함수의 매개변수로 여러개 사용 가능"
   ]
  },
  {
   "cell_type": "code",
   "execution_count": 30,
   "metadata": {},
   "outputs": [
    {
     "name": "stdout",
     "output_type": "stream",
     "text": [
      "15\n"
     ]
    }
   ],
   "source": [
    "result = add_mul('add',1,2,3,4,5)\n",
    "print(result)"
   ]
  },
  {
   "cell_type": "code",
   "execution_count": 31,
   "metadata": {},
   "outputs": [
    {
     "name": "stdout",
     "output_type": "stream",
     "text": [
      "120\n"
     ]
    }
   ],
   "source": [
    "result = add_mul('mul',1,2,3,4,5)\n",
    "print(result)"
   ]
  },
  {
   "attachments": {},
   "cell_type": "markdown",
   "metadata": {},
   "source": [
    "* 키워드 매개변수 kwargs\n",
    "  - 매개변수 앞 별 두개 (**) 붙임\n",
    "  - 매개변수 kwargs는 딕셔너리가 되고, 모든 key=value 형태의 입력값이 그 딕셔너리에 저장됨"
   ]
  },
  {
   "cell_type": "code",
   "execution_count": 32,
   "metadata": {},
   "outputs": [],
   "source": [
    "def print_kwargs(**kwargs):\n",
    "    print(kwargs)"
   ]
  },
  {
   "cell_type": "code",
   "execution_count": 33,
   "metadata": {},
   "outputs": [
    {
     "name": "stdout",
     "output_type": "stream",
     "text": [
      "{'a': 1}\n"
     ]
    }
   ],
   "source": [
    "print_kwargs(a=1)"
   ]
  },
  {
   "cell_type": "code",
   "execution_count": 34,
   "metadata": {},
   "outputs": [
    {
     "name": "stdout",
     "output_type": "stream",
     "text": [
      "{'name': 'foo', 'age': 3}\n"
     ]
    }
   ],
   "source": [
    "print_kwargs(name = 'foo', age=3)"
   ]
  },
  {
   "attachments": {},
   "cell_type": "markdown",
   "metadata": {},
   "source": [
    "* 함수의 리턴값은 언제나 하나"
   ]
  },
  {
   "cell_type": "code",
   "execution_count": 35,
   "metadata": {},
   "outputs": [],
   "source": [
    "def add_and_mul(a,b):\n",
    "    return a+b, a*b"
   ]
  },
  {
   "cell_type": "code",
   "execution_count": 38,
   "metadata": {},
   "outputs": [
    {
     "data": {
      "text/plain": [
       "(7, 12)"
      ]
     },
     "execution_count": 38,
     "metadata": {},
     "output_type": "execute_result"
    }
   ],
   "source": [
    "result = add_and_mul(3,4)\n",
    "result\n",
    "\n",
    "# 리턴값은 2개인데, 리턴값을 받아들이는 변수는 하나만 쓰임\n",
    "# 오류 발생하지 않음\n",
    "# 리턴값 a+b와 a*b는 튜플값 하나인 (a+b, a*b)로 리턴됨\n",
    "# 즉, (7, 12)이라는 튜플 값을 갖게됨"
   ]
  },
  {
   "cell_type": "code",
   "execution_count": 42,
   "metadata": {},
   "outputs": [
    {
     "data": {
      "text/plain": [
       "7"
      ]
     },
     "execution_count": 42,
     "metadata": {},
     "output_type": "execute_result"
    }
   ],
   "source": [
    "result1, result2 = add_and_mul(3,4)\n",
    "result1\n",
    "\n",
    "# 하나의 튜플 값 2개의 값으로 분리하기"
   ]
  },
  {
   "cell_type": "code",
   "execution_count": 43,
   "metadata": {},
   "outputs": [
    {
     "data": {
      "text/plain": [
       "12"
      ]
     },
     "execution_count": 43,
     "metadata": {},
     "output_type": "execute_result"
    }
   ],
   "source": [
    "result2"
   ]
  },
  {
   "cell_type": "code",
   "execution_count": 46,
   "metadata": {},
   "outputs": [],
   "source": [
    "def add_and_mul(a,b):\n",
    "    return a+b\n",
    "    return a*b\n",
    "\n",
    "# return a+b 까지 있는 함수와 완전히 동일\n",
    "# return문을 만나는 순간 리턴값을 돌려준 다음 함수를 빠져나가기 때문"
   ]
  },
  {
   "cell_type": "code",
   "execution_count": 47,
   "metadata": {},
   "outputs": [
    {
     "name": "stdout",
     "output_type": "stream",
     "text": [
      "5\n"
     ]
    }
   ],
   "source": [
    "result = add_and_mul(2,3)\n",
    "print(result)"
   ]
  },
  {
   "attachments": {},
   "cell_type": "markdown",
   "metadata": {},
   "source": [
    "* return의 또 다른 쓰임새\n",
    "  - 특별한 상황일 때, 함수를 빠져나가고 싶을 때\n",
    "  - return을 단독으로 사용해 함수를 즉시 빠져나갈 수 있음"
   ]
  },
  {
   "cell_type": "code",
   "execution_count": 51,
   "metadata": {},
   "outputs": [],
   "source": [
    "def say_nick(nick):\n",
    "    if nick == \"바보\":\n",
    "        return\n",
    "    print(\"나의 별명은 %s 입니다.\" % nick)\n",
    "\n",
    "# 별명을 입력으로 전달받아 출력하는 함수"
   ]
  },
  {
   "cell_type": "code",
   "execution_count": 52,
   "metadata": {},
   "outputs": [
    {
     "name": "stdout",
     "output_type": "stream",
     "text": [
      "나의 별명은 야호 입니다.\n"
     ]
    }
   ],
   "source": [
    "say_nick('야호')\n",
    "\n",
    "# 이 함수는 리턴값이 없음\n",
    "# 이것은 문자열을 출력한다는 것과 완전히 다른 개념임 \n",
    "# 리턴값은 오로지 return문에 의해서만 생김"
   ]
  },
  {
   "cell_type": "code",
   "execution_count": 53,
   "metadata": {},
   "outputs": [],
   "source": [
    "say_nick('바보')\n",
    "\n",
    "# 문자열 출력하지 않고 즉시 함수를 빠져나감"
   ]
  },
  {
   "attachments": {},
   "cell_type": "markdown",
   "metadata": {},
   "source": [
    "* 매개변수에 초깃값 미리 설정하기"
   ]
  },
  {
   "cell_type": "code",
   "execution_count": 54,
   "metadata": {},
   "outputs": [],
   "source": [
    "def say_myself(name, age, man=True):\n",
    "    print(\"나의 이름은 %s 입니다.\" % name)\n",
    "    print(\"나이는 %d살 입니다.\" % age)\n",
    "    if man:\n",
    "        print(\"남자입니다.\")\n",
    "    else:\n",
    "        print(\"여자입니다.\")\n",
    "\n",
    "# man = True 는 매개변수에 미리 값을 넣어준 것 (초깃값 미리 설정한 것)"
   ]
  },
  {
   "cell_type": "code",
   "execution_count": 55,
   "metadata": {},
   "outputs": [
    {
     "name": "stdout",
     "output_type": "stream",
     "text": [
      "나의 이름은 박응용 입니다.\n",
      "나이는 27살 입니다.\n",
      "남자입니다.\n"
     ]
    }
   ],
   "source": [
    "say_myself(\"박응용\", 27)\n",
    "\n",
    "# man 변수에 입력값을 주지 않았지만, 초깃값 True 갖게 됨"
   ]
  },
  {
   "cell_type": "code",
   "execution_count": 56,
   "metadata": {},
   "outputs": [
    {
     "name": "stdout",
     "output_type": "stream",
     "text": [
      "나의 이름은 박응용 입니다.\n",
      "나이는 27살 입니다.\n",
      "남자입니다.\n"
     ]
    }
   ],
   "source": [
    "say_myself(\"박응용\", 27, True)"
   ]
  },
  {
   "cell_type": "code",
   "execution_count": 58,
   "metadata": {},
   "outputs": [
    {
     "name": "stdout",
     "output_type": "stream",
     "text": [
      "나의 이름은 박응선 입니다.\n",
      "나이는 27살 입니다.\n",
      "여자입니다.\n"
     ]
    }
   ],
   "source": [
    "say_myself(\"박응선\", 27, False)\n",
    "\n",
    "# man 변수에 False 값이 대입됨"
   ]
  },
  {
   "cell_type": "code",
   "execution_count": 59,
   "metadata": {},
   "outputs": [
    {
     "ename": "SyntaxError",
     "evalue": "non-default argument follows default argument (690294695.py, line 1)",
     "output_type": "error",
     "traceback": [
      "\u001b[0;36m  Cell \u001b[0;32mIn[59], line 1\u001b[0;36m\u001b[0m\n\u001b[0;31m    def say_myself(name, man=True, age):\u001b[0m\n\u001b[0m                   ^\u001b[0m\n\u001b[0;31mSyntaxError\u001b[0m\u001b[0;31m:\u001b[0m non-default argument follows default argument\n"
     ]
    }
   ],
   "source": [
    "def say_myself(name, man=True, age):\n",
    "    print(\"나의 이름은 %s 입니다.\" % name)\n",
    "    print(\"나이는 %d살 입니다.\" & age)\n",
    "    if man:\n",
    "        print(\"남자입니다\")\n",
    "    else:\n",
    "        print(\"여자입니다\")\n",
    "\n",
    "# 초깃값이 없는 매개변수는 초깃값이 있는 매개변수 뒤에 사용할 수 없음\n",
    "# 초기화시키고 싶은 매개변수는 항상 맨 뒤에 놓아야 함"
   ]
  },
  {
   "attachments": {},
   "cell_type": "markdown",
   "metadata": {},
   "source": [
    "* 함수 안에서 선언한 변수의 효력 범위"
   ]
  },
  {
   "cell_type": "code",
   "execution_count": 72,
   "metadata": {},
   "outputs": [
    {
     "name": "stdout",
     "output_type": "stream",
     "text": [
      "1\n"
     ]
    }
   ],
   "source": [
    "a = 1\n",
    "def vartest(a):\n",
    "    a = a +1\n",
    "\n",
    "vartest(a)\n",
    "print(a)\n",
    "\n",
    "# 함수 안에서 사용하는 매개변수는 함수 안에서만 사용하는 \"함수만의 변수\"임\n",
    "# 따라서 a는 2가 아닌 1이 나옴\n",
    "# def vartest(a)에서 입력값을 전달받는 매개변수 a는 함수 밖의 변수 a와는 상관이 없음"
   ]
  },
  {
   "cell_type": "code",
   "execution_count": 73,
   "metadata": {},
   "outputs": [],
   "source": [
    "def vartest(hello):\n",
    "    hello = hello + 1\n",
    "\n",
    "# 매개변수 이름을 hello로 바꿔도, 이전의 vartest 함수와 동일하게 동작\n",
    "# 함수 안에서 사용하는 매개변수는 함수 밖의 변수 이름과 전혀 상관 없음"
   ]
  },
  {
   "cell_type": "code",
   "execution_count": 76,
   "metadata": {},
   "outputs": [
    {
     "ename": "NameError",
     "evalue": "name 'z' is not defined",
     "output_type": "error",
     "traceback": [
      "\u001b[0;31m---------------------------------------------------------------------------\u001b[0m",
      "\u001b[0;31mNameError\u001b[0m                                 Traceback (most recent call last)",
      "Cell \u001b[0;32mIn[76], line 5\u001b[0m\n\u001b[1;32m      2\u001b[0m     z \u001b[39m=\u001b[39m z \u001b[39m+\u001b[39m \u001b[39m1\u001b[39m\n\u001b[1;32m      4\u001b[0m vartest(\u001b[39m3\u001b[39m)\n\u001b[0;32m----> 5\u001b[0m \u001b[39mprint\u001b[39m(z)\n",
      "\u001b[0;31mNameError\u001b[0m: name 'z' is not defined"
     ]
    }
   ],
   "source": [
    "def vartest(z):\n",
    "    z = z + 1\n",
    "\n",
    "vartest(3)\n",
    "print(z)\n",
    "\n",
    "# vartest(3) 수행 시, vartest 함수 안에서는 z는 4가 됨\n",
    "# print(z)에서 오류 발생\n",
    "# print(z)에서 사용한 z 변수는 찾을 수 없기 때문"
   ]
  },
  {
   "cell_type": "code",
   "execution_count": 78,
   "metadata": {},
   "outputs": [
    {
     "name": "stdout",
     "output_type": "stream",
     "text": [
      "10\n"
     ]
    }
   ],
   "source": [
    "z = 10\n",
    "\n",
    "def vartest(z):\n",
    "    z = z + 1\n",
    "\n",
    "vartest(3)\n",
    "print(z)\n",
    "\n",
    "# vartest(3) 수행 시, vartest 함수 안에서는 z는 4가 됨\n",
    "# 하지만 print(z)는 10"
   ]
  },
  {
   "attachments": {},
   "cell_type": "markdown",
   "metadata": {},
   "source": [
    "* 함수 안에서 함수 밖의 변수를 변경하는 방법"
   ]
  },
  {
   "attachments": {},
   "cell_type": "markdown",
   "metadata": {},
   "source": [
    "> - return 사용"
   ]
  },
  {
   "cell_type": "code",
   "execution_count": 80,
   "metadata": {},
   "outputs": [
    {
     "name": "stdout",
     "output_type": "stream",
     "text": [
      "2\n"
     ]
    }
   ],
   "source": [
    "a = 1\n",
    "def vartest(a):\n",
    "    a = a+1\n",
    "    return a\n",
    "\n",
    "a = vartest(a)\n",
    "print(a)\n",
    "\n",
    "# return을 사용하고, a에 vartest 함수의 리턴값을 대입함"
   ]
  },
  {
   "attachments": {},
   "cell_type": "markdown",
   "metadata": {},
   "source": [
    "> - global 명령어 사용"
   ]
  },
  {
   "cell_type": "code",
   "execution_count": 82,
   "metadata": {},
   "outputs": [
    {
     "name": "stdout",
     "output_type": "stream",
     "text": [
      "2\n"
     ]
    }
   ],
   "source": [
    "a = 1\n",
    "def vartest():\n",
    "    global a\n",
    "    a = a+1\n",
    "\n",
    "vartest()\n",
    "print(a)\n",
    "\n",
    "# vartest 함수 안의 global a 문장은 함수 안에서 함수 밖의 a 변수를 사용하겠다는 것\n",
    "# 하지만 외부 변수에 종속적인 함수는 좋은 함수가 아니므로 사용하지 않는 것이 좋음 (함수는 독립적으로 존재하는 것이 좋음)"
   ]
  },
  {
   "attachments": {},
   "cell_type": "markdown",
   "metadata": {},
   "source": [
    "* lambda\n",
    "  - 함수 생성 시 사용하는 예약어\n",
    "  - def와 동일한 역할\n",
    "  - 함수를 한줄로 간결하게 만들 때 사용\n",
    "  - 함수명 = lambda 매개변수1, 매개변수2, .... : 매개변수를 이용한 표현식"
   ]
  },
  {
   "cell_type": "code",
   "execution_count": 84,
   "metadata": {},
   "outputs": [
    {
     "name": "stdout",
     "output_type": "stream",
     "text": [
      "7\n"
     ]
    }
   ],
   "source": [
    "def add(a,b):\n",
    "    return a+b\n",
    "\n",
    "result = add(3,4)\n",
    "print(result)"
   ]
  },
  {
   "cell_type": "code",
   "execution_count": 83,
   "metadata": {},
   "outputs": [
    {
     "name": "stdout",
     "output_type": "stream",
     "text": [
      "7\n"
     ]
    }
   ],
   "source": [
    "add = lambda a, b: a+b\n",
    "result = add(3,4)\n",
    "print(result)"
   ]
  }
 ],
 "metadata": {
  "kernelspec": {
   "display_name": "knh1",
   "language": "python",
   "name": "python3"
  },
  "language_info": {
   "codemirror_mode": {
    "name": "ipython",
    "version": 3
   },
   "file_extension": ".py",
   "mimetype": "text/x-python",
   "name": "python",
   "nbconvert_exporter": "python",
   "pygments_lexer": "ipython3",
   "version": "3.8.16"
  },
  "orig_nbformat": 4
 },
 "nbformat": 4,
 "nbformat_minor": 2
}
