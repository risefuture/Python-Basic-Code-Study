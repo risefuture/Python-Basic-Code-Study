{
 "cells": [
  {
   "attachments": {},
   "cell_type": "markdown",
   "metadata": {},
   "source": [
    "Jump to python\n",
    "=="
   ]
  },
  {
   "attachments": {},
   "cell_type": "markdown",
   "metadata": {},
   "source": [
    "프로그램의 입출력\n",
    "--"
   ]
  },
  {
   "attachments": {},
   "cell_type": "markdown",
   "metadata": {},
   "source": [
    "* 명령 프롬프트 명령어\n",
    ">  - C:\\\\> type a.txt\n",
    ">  - type은 뒤에 적힌 파일 이름을 인수로 받아 해당 파일의 내용을 출력해주는 명령어\n",
    ">  - 명령 프롬프트 명령어는 인수를 전달해 프로그램을 실행하는 방식을 따름\n",
    ">  - 명령어 [인수1 인수2 ....]\n",
    ">  - 이것을 파이썬 프로그램에 적용해보자"
   ]
  },
  {
   "attachments": {},
   "cell_type": "markdown",
   "metadata": {},
   "source": [
    "* sys 모듈 사용\n",
    ">  -  sys 모듈을 사용해, 프로그램에 인수 전달 가능\n",
    ">  - import 명령어 사용"
   ]
  },
  {
   "cell_type": "code",
   "execution_count": null,
   "metadata": {},
   "outputs": [],
   "source": [
    "# sys1.py\n",
    "import sys\n",
    "\n",
    "args = sys.argv[1:]\n",
    "for i in args:\n",
    "    print(i)\n",
    "\n",
    "# sys1.py 는 프로그램 실행 시 전달받은 인수를 for문 이용해 차례대로 하나씩 출력함\n",
    "# sys 모듈의 argv는 프로그램 실행 시 전달된 인수\n",
    "# argv[0] 은 sys1.py 가 되고, argv[1] 는 aaa, argv[2] 는 bbb, argv[3] 는 ccc가 됨\n",
    "\n",
    "# cmd 창 열고, ssh 이용해서 리눅스 로그인 하기\n",
    "# cd 이용해서 sys1.py가 있는 디렉토리 접근하여, python sys1.py aaa bbb ccc 실행하기\n",
    "\n",
    "'''\n",
    "\n",
    "(base) knh@gnode5:~/workspace$ python sys1.py aaa bbb ccc\n",
    "aaa\n",
    "bbb\n",
    "ccc\n",
    "\n",
    "'''\n"
   ]
  },
  {
   "cell_type": "code",
   "execution_count": null,
   "metadata": {},
   "outputs": [],
   "source": [
    "# sys2.py\n",
    "\n",
    "import sys\n",
    "\n",
    "args = sys.args[1:]\n",
    "for i in args:\n",
    "    print(i,upper(), end=' ') \n",
    "\n",
    "#  프로그램 실행 시, 전달된 인수 모두 대문자로 바꾸어 줌\n",
    "\n",
    "'''\n",
    "\n",
    "(base) knh@gnode5:~/workspace$ python sys2.py life is too short, you need python\n",
    "\n",
    "LIFE IS TOO SHORT, YOU NEED PYTHON\n",
    "\n",
    "'''"
   ]
  }
 ],
 "metadata": {
  "kernelspec": {
   "display_name": "knh1",
   "language": "python",
   "name": "python3"
  },
  "language_info": {
   "codemirror_mode": {
    "name": "ipython",
    "version": 3
   },
   "file_extension": ".py",
   "mimetype": "text/x-python",
   "name": "python",
   "nbconvert_exporter": "python",
   "pygments_lexer": "ipython3",
   "version": "3.8.16"
  },
  "orig_nbformat": 4
 },
 "nbformat": 4,
 "nbformat_minor": 2
}
